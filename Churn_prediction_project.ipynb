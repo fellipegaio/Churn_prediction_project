{
 "cells": [
  {
   "cell_type": "markdown",
   "metadata": {},
   "source": [
    "## Context"
   ]
  },
  {
   "cell_type": "markdown",
   "metadata": {},
   "source": [
    "The telecommunications provider Interconnect would like to predict customer churn. If it is discovered that a user is planning to switch providers, the company will offer them promotional codes and special plan options. The Interconnect marketing team has collected some personal data from its clientele, including information about their plans and contracts."
   ]
  },
  {
   "cell_type": "markdown",
   "metadata": {},
   "source": [
    "### **Interconnect Services**\n",
    "\n",
    "Interconnect primarily provides two types of services:\n",
    "\n",
    "1. Landline telephony. The phone can be connected to multiple lines at the same time.\n",
    "2. Internet. The network can be established via a telephone line (DSL, *digital subscriber line*) or through a fibre optic cable.\n",
    "\n",
    "Some additional services offered by the company include:\n",
    "\n",
    "- Internet security: antivirus software (*DeviceProtection*) and a malicious site blocker (*OnlineSecurity*).\n",
    "- A dedicated technical support line (*TechSupport*).\n",
    "- Cloud file storage and data backup (*OnlineBackup*).\n",
    "- TV streaming (*StreamingTV*) and a movie directory (*StreamingMovies*).\n",
    "\n",
    "Customers can choose between making monthly payments or signing a 1-year or 2-year contract. They can use various payment methods and receive an electronic invoice after the transaction."
   ]
  },
  {
   "cell_type": "markdown",
   "metadata": {},
   "source": [
    "## Data Description"
   ]
  },
  {
   "cell_type": "markdown",
   "metadata": {},
   "source": [
    "The data consists of files obtained from different sources:\n",
    "\n",
    "- `contract.csv` — contractual information;\n",
    "- `personal.csv` — customer personal data;\n",
    "- `internet.csv` — information about Internet services;\n",
    "- `phone.csv` — information about telephony services.\n",
    "\n",
    "In each file, the `customerID` column contains a unique code assigned to each customer. The contractual information is valid as of 1 February 2020."
   ]
  },
  {
   "cell_type": "markdown",
   "metadata": {},
   "source": [
    "## General Resolution Plan\n",
    "\n",
    "**Prepare the Data**\n",
    "- [x] Adjust data types\n",
    "- [x] Standardise column names\n",
    "\n",
    "**Aggregate the Data into a Master DataFrame**\n",
    "- [x] Concatenate the tables into a single DataFrame\n",
    "- [x] Analyse correlations between variables\n",
    "- [x] Explore the possibility of feature engineering\n",
    "- [x] Identify the customer profile with the highest probability of churn\n",
    "\n",
    "**Create and Train the Model**\n",
    "- [x] Convert categorical variables to numerical\n",
    "- [x] Split the data into training and testing sets\n",
    "- [x] Train Random Forest and Gradient Boosting models. If the results are unsatisfactory, test alternative models\n",
    "\n",
    "**Evaluate Model Performance**\n",
    "- [x] Check AUC-ROC and Accuracy metrics to determine whether the model is suitable for our business problem"
   ]
  },
  {
   "cell_type": "markdown",
   "metadata": {},
   "source": [
    "## Importing the libraries"
   ]
  },
  {
   "cell_type": "code",
   "execution_count": 1,
   "metadata": {},
   "outputs": [],
   "source": [
    "import pandas as pd\n",
    "import numpy as np\n",
    "from sklearn.experimental import enable_iterative_imputer\n",
    "from sklearn.impute import IterativeImputer\n",
    "from sklearn.ensemble import RandomForestRegressor\n",
    "import seaborn as sns\n",
    "from matplotlib import pyplot as plt\n",
    "from sklearn.model_selection import train_test_split, GridSearchCV\n",
    "from sklearn.ensemble import RandomForestClassifier\n",
    "from sklearn.ensemble import GradientBoostingClassifier\n",
    "import lightgbm as lgb\n",
    "from catboost import CatBoostClassifier\n",
    "from sklearn.preprocessing import StandardScaler\n",
    "from datetime import datetime\n",
    "from sklearn.metrics import accuracy_score, roc_auc_score"
   ]
  },
  {
   "cell_type": "markdown",
   "metadata": {},
   "source": [
    "## Downloading the data"
   ]
  },
  {
   "cell_type": "code",
   "execution_count": 2,
   "metadata": {},
   "outputs": [],
   "source": [
    "contract = pd.read_csv('/datasets/final_provider/contract.csv')"
   ]
  },
  {
   "cell_type": "code",
   "execution_count": 3,
   "metadata": {},
   "outputs": [],
   "source": [
    "personal = pd.read_csv('/datasets/final_provider/personal.csv')"
   ]
  },
  {
   "cell_type": "code",
   "execution_count": 4,
   "metadata": {},
   "outputs": [],
   "source": [
    "internet = pd.read_csv('/datasets/final_provider/internet.csv')"
   ]
  },
  {
   "cell_type": "code",
   "execution_count": 5,
   "metadata": {},
   "outputs": [],
   "source": [
    "phone = pd.read_csv('/datasets/final_provider/phone.csv')"
   ]
  },
  {
   "cell_type": "markdown",
   "metadata": {},
   "source": [
    "## Concatenating the Tables"
   ]
  },
  {
   "cell_type": "code",
   "execution_count": 6,
   "metadata": {},
   "outputs": [],
   "source": [
    "df = contract.merge(personal, on='customerID', how='outer') \\\n",
    "                        .merge(internet, on='customerID', how='outer') \\\n",
    "                        .merge(phone, on='customerID', how='outer')"
   ]
  },
  {
   "cell_type": "markdown",
   "metadata": {},
   "source": [
    "I check whether the indices are unique or if there are duplicate indices after merging the tables."
   ]
  },
  {
   "cell_type": "code",
   "execution_count": 7,
   "metadata": {},
   "outputs": [
    {
     "data": {
      "text/plain": [
       "True"
      ]
     },
     "execution_count": 7,
     "metadata": {},
     "output_type": "execute_result"
    }
   ],
   "source": [
    "df.index.is_unique"
   ]
  },
  {
   "cell_type": "code",
   "execution_count": 8,
   "metadata": {},
   "outputs": [
    {
     "data": {
      "text/html": [
       "<div>\n",
       "<style scoped>\n",
       "    .dataframe tbody tr th:only-of-type {\n",
       "        vertical-align: middle;\n",
       "    }\n",
       "\n",
       "    .dataframe tbody tr th {\n",
       "        vertical-align: top;\n",
       "    }\n",
       "\n",
       "    .dataframe thead th {\n",
       "        text-align: right;\n",
       "    }\n",
       "</style>\n",
       "<table border=\"1\" class=\"dataframe\">\n",
       "  <thead>\n",
       "    <tr style=\"text-align: right;\">\n",
       "      <th></th>\n",
       "      <th>customerID</th>\n",
       "      <th>BeginDate</th>\n",
       "      <th>EndDate</th>\n",
       "      <th>Type</th>\n",
       "      <th>PaperlessBilling</th>\n",
       "      <th>PaymentMethod</th>\n",
       "      <th>MonthlyCharges</th>\n",
       "      <th>TotalCharges</th>\n",
       "      <th>gender</th>\n",
       "      <th>SeniorCitizen</th>\n",
       "      <th>Partner</th>\n",
       "      <th>Dependents</th>\n",
       "      <th>InternetService</th>\n",
       "      <th>OnlineSecurity</th>\n",
       "      <th>OnlineBackup</th>\n",
       "      <th>DeviceProtection</th>\n",
       "      <th>TechSupport</th>\n",
       "      <th>StreamingTV</th>\n",
       "      <th>StreamingMovies</th>\n",
       "      <th>MultipleLines</th>\n",
       "    </tr>\n",
       "  </thead>\n",
       "  <tbody>\n",
       "    <tr>\n",
       "      <th>0</th>\n",
       "      <td>7590-VHVEG</td>\n",
       "      <td>2020-01-01</td>\n",
       "      <td>No</td>\n",
       "      <td>Month-to-month</td>\n",
       "      <td>Yes</td>\n",
       "      <td>Electronic check</td>\n",
       "      <td>29.85</td>\n",
       "      <td>29.85</td>\n",
       "      <td>Female</td>\n",
       "      <td>0</td>\n",
       "      <td>Yes</td>\n",
       "      <td>No</td>\n",
       "      <td>DSL</td>\n",
       "      <td>No</td>\n",
       "      <td>Yes</td>\n",
       "      <td>No</td>\n",
       "      <td>No</td>\n",
       "      <td>No</td>\n",
       "      <td>No</td>\n",
       "      <td>NaN</td>\n",
       "    </tr>\n",
       "    <tr>\n",
       "      <th>1</th>\n",
       "      <td>5575-GNVDE</td>\n",
       "      <td>2017-04-01</td>\n",
       "      <td>No</td>\n",
       "      <td>One year</td>\n",
       "      <td>No</td>\n",
       "      <td>Mailed check</td>\n",
       "      <td>56.95</td>\n",
       "      <td>1889.5</td>\n",
       "      <td>Male</td>\n",
       "      <td>0</td>\n",
       "      <td>No</td>\n",
       "      <td>No</td>\n",
       "      <td>DSL</td>\n",
       "      <td>Yes</td>\n",
       "      <td>No</td>\n",
       "      <td>Yes</td>\n",
       "      <td>No</td>\n",
       "      <td>No</td>\n",
       "      <td>No</td>\n",
       "      <td>No</td>\n",
       "    </tr>\n",
       "    <tr>\n",
       "      <th>2</th>\n",
       "      <td>3668-QPYBK</td>\n",
       "      <td>2019-10-01</td>\n",
       "      <td>2019-12-01 00:00:00</td>\n",
       "      <td>Month-to-month</td>\n",
       "      <td>Yes</td>\n",
       "      <td>Mailed check</td>\n",
       "      <td>53.85</td>\n",
       "      <td>108.15</td>\n",
       "      <td>Male</td>\n",
       "      <td>0</td>\n",
       "      <td>No</td>\n",
       "      <td>No</td>\n",
       "      <td>DSL</td>\n",
       "      <td>Yes</td>\n",
       "      <td>Yes</td>\n",
       "      <td>No</td>\n",
       "      <td>No</td>\n",
       "      <td>No</td>\n",
       "      <td>No</td>\n",
       "      <td>No</td>\n",
       "    </tr>\n",
       "    <tr>\n",
       "      <th>3</th>\n",
       "      <td>7795-CFOCW</td>\n",
       "      <td>2016-05-01</td>\n",
       "      <td>No</td>\n",
       "      <td>One year</td>\n",
       "      <td>No</td>\n",
       "      <td>Bank transfer (automatic)</td>\n",
       "      <td>42.30</td>\n",
       "      <td>1840.75</td>\n",
       "      <td>Male</td>\n",
       "      <td>0</td>\n",
       "      <td>No</td>\n",
       "      <td>No</td>\n",
       "      <td>DSL</td>\n",
       "      <td>Yes</td>\n",
       "      <td>No</td>\n",
       "      <td>Yes</td>\n",
       "      <td>Yes</td>\n",
       "      <td>No</td>\n",
       "      <td>No</td>\n",
       "      <td>NaN</td>\n",
       "    </tr>\n",
       "    <tr>\n",
       "      <th>4</th>\n",
       "      <td>9237-HQITU</td>\n",
       "      <td>2019-09-01</td>\n",
       "      <td>2019-11-01 00:00:00</td>\n",
       "      <td>Month-to-month</td>\n",
       "      <td>Yes</td>\n",
       "      <td>Electronic check</td>\n",
       "      <td>70.70</td>\n",
       "      <td>151.65</td>\n",
       "      <td>Female</td>\n",
       "      <td>0</td>\n",
       "      <td>No</td>\n",
       "      <td>No</td>\n",
       "      <td>Fiber optic</td>\n",
       "      <td>No</td>\n",
       "      <td>No</td>\n",
       "      <td>No</td>\n",
       "      <td>No</td>\n",
       "      <td>No</td>\n",
       "      <td>No</td>\n",
       "      <td>No</td>\n",
       "    </tr>\n",
       "  </tbody>\n",
       "</table>\n",
       "</div>"
      ],
      "text/plain": [
       "   customerID   BeginDate              EndDate            Type  \\\n",
       "0  7590-VHVEG  2020-01-01                   No  Month-to-month   \n",
       "1  5575-GNVDE  2017-04-01                   No        One year   \n",
       "2  3668-QPYBK  2019-10-01  2019-12-01 00:00:00  Month-to-month   \n",
       "3  7795-CFOCW  2016-05-01                   No        One year   \n",
       "4  9237-HQITU  2019-09-01  2019-11-01 00:00:00  Month-to-month   \n",
       "\n",
       "  PaperlessBilling              PaymentMethod  MonthlyCharges TotalCharges  \\\n",
       "0              Yes           Electronic check           29.85        29.85   \n",
       "1               No               Mailed check           56.95       1889.5   \n",
       "2              Yes               Mailed check           53.85       108.15   \n",
       "3               No  Bank transfer (automatic)           42.30      1840.75   \n",
       "4              Yes           Electronic check           70.70       151.65   \n",
       "\n",
       "   gender  SeniorCitizen Partner Dependents InternetService OnlineSecurity  \\\n",
       "0  Female              0     Yes         No             DSL             No   \n",
       "1    Male              0      No         No             DSL            Yes   \n",
       "2    Male              0      No         No             DSL            Yes   \n",
       "3    Male              0      No         No             DSL            Yes   \n",
       "4  Female              0      No         No     Fiber optic             No   \n",
       "\n",
       "  OnlineBackup DeviceProtection TechSupport StreamingTV StreamingMovies  \\\n",
       "0          Yes               No          No          No              No   \n",
       "1           No              Yes          No          No              No   \n",
       "2          Yes               No          No          No              No   \n",
       "3           No              Yes         Yes          No              No   \n",
       "4           No               No          No          No              No   \n",
       "\n",
       "  MultipleLines  \n",
       "0           NaN  \n",
       "1            No  \n",
       "2            No  \n",
       "3           NaN  \n",
       "4            No  "
      ]
     },
     "execution_count": 8,
     "metadata": {},
     "output_type": "execute_result"
    }
   ],
   "source": [
    "df.head()"
   ]
  },
  {
   "cell_type": "code",
   "execution_count": 9,
   "metadata": {},
   "outputs": [
    {
     "name": "stdout",
     "output_type": "stream",
     "text": [
      "<class 'pandas.core.frame.DataFrame'>\n",
      "Int64Index: 7043 entries, 0 to 7042\n",
      "Data columns (total 20 columns):\n",
      " #   Column            Non-Null Count  Dtype  \n",
      "---  ------            --------------  -----  \n",
      " 0   customerID        7043 non-null   object \n",
      " 1   BeginDate         7043 non-null   object \n",
      " 2   EndDate           7043 non-null   object \n",
      " 3   Type              7043 non-null   object \n",
      " 4   PaperlessBilling  7043 non-null   object \n",
      " 5   PaymentMethod     7043 non-null   object \n",
      " 6   MonthlyCharges    7043 non-null   float64\n",
      " 7   TotalCharges      7043 non-null   object \n",
      " 8   gender            7043 non-null   object \n",
      " 9   SeniorCitizen     7043 non-null   int64  \n",
      " 10  Partner           7043 non-null   object \n",
      " 11  Dependents        7043 non-null   object \n",
      " 12  InternetService   5517 non-null   object \n",
      " 13  OnlineSecurity    5517 non-null   object \n",
      " 14  OnlineBackup      5517 non-null   object \n",
      " 15  DeviceProtection  5517 non-null   object \n",
      " 16  TechSupport       5517 non-null   object \n",
      " 17  StreamingTV       5517 non-null   object \n",
      " 18  StreamingMovies   5517 non-null   object \n",
      " 19  MultipleLines     6361 non-null   object \n",
      "dtypes: float64(1), int64(1), object(18)\n",
      "memory usage: 1.4+ MB\n"
     ]
    }
   ],
   "source": [
    "df.info()"
   ]
  },
  {
   "cell_type": "markdown",
   "metadata": {},
   "source": [
    "* Column names need to be standardised.  \n",
    "* Date columns are stored as `object` instead of `datetime`.  \n",
    "* The `MonthlyCharges` column is of type `float`, while `TotalCharges` is still an `object`.  \n",
    "* There are many binary columns with responses limited to 'Yes' or 'No'. To optimise model training, we can convert them into numerical binary variables.  "
   ]
  },
  {
   "cell_type": "markdown",
   "metadata": {},
   "source": [
    "## Preparing the data"
   ]
  },
  {
   "cell_type": "markdown",
   "metadata": {},
   "source": [
    "**Standardising Column Names**"
   ]
  },
  {
   "cell_type": "code",
   "execution_count": 10,
   "metadata": {},
   "outputs": [],
   "source": [
    "df = df.rename(columns={'customerID': 'CustomerID', 'gender': 'Gender'})"
   ]
  },
  {
   "cell_type": "markdown",
   "metadata": {},
   "source": [
    "**Converting Date Columns to Datetime Type**\n",
    "\n",
    "Values that were previously 'No' are now converted to `NaT`."
   ]
  },
  {
   "cell_type": "code",
   "execution_count": 11,
   "metadata": {},
   "outputs": [],
   "source": [
    "for col in ['BeginDate', 'EndDate']:\n",
    "    df[col] = pd.to_datetime(df[col], errors='coerce')"
   ]
  },
  {
   "cell_type": "markdown",
   "metadata": {},
   "source": [
    "**Adjusting 'TotalCharges' column to float**"
   ]
  },
  {
   "cell_type": "code",
   "execution_count": 12,
   "metadata": {},
   "outputs": [],
   "source": [
    "df['TotalCharges'] = pd.to_numeric(df['TotalCharges'], errors='coerce')"
   ]
  },
  {
   "cell_type": "markdown",
   "metadata": {},
   "source": [
    "**Converting to Numerical Binary Variables**"
   ]
  },
  {
   "cell_type": "code",
   "execution_count": 13,
   "metadata": {},
   "outputs": [],
   "source": [
    "def to_binary(cols=(list)):\n",
    "    for col in cols:\n",
    "        df[col] = df[col].map( \n",
    "                   {'Yes':1 ,'No':0})"
   ]
  },
  {
   "cell_type": "code",
   "execution_count": 14,
   "metadata": {},
   "outputs": [],
   "source": [
    "lista = ['PaperlessBilling', 'Partner', 'Dependents', 'OnlineSecurity', 'OnlineBackup', 'DeviceProtection', 'TechSupport', 'StreamingTV', 'StreamingMovies', 'MultipleLines']\n",
    "to_binary(lista)"
   ]
  },
  {
   "cell_type": "code",
   "execution_count": 15,
   "metadata": {},
   "outputs": [],
   "source": [
    "df['Gender'] = df['Gender'].map( \n",
    "                   {'Male':1 ,'Female':0})"
   ]
  },
  {
   "cell_type": "code",
   "execution_count": 16,
   "metadata": {},
   "outputs": [
    {
     "name": "stdout",
     "output_type": "stream",
     "text": [
      "<class 'pandas.core.frame.DataFrame'>\n",
      "Int64Index: 7043 entries, 0 to 7042\n",
      "Data columns (total 20 columns):\n",
      " #   Column            Non-Null Count  Dtype         \n",
      "---  ------            --------------  -----         \n",
      " 0   CustomerID        7043 non-null   object        \n",
      " 1   BeginDate         7043 non-null   datetime64[ns]\n",
      " 2   EndDate           1869 non-null   datetime64[ns]\n",
      " 3   Type              7043 non-null   object        \n",
      " 4   PaperlessBilling  7043 non-null   int64         \n",
      " 5   PaymentMethod     7043 non-null   object        \n",
      " 6   MonthlyCharges    7043 non-null   float64       \n",
      " 7   TotalCharges      7032 non-null   float64       \n",
      " 8   Gender            7043 non-null   int64         \n",
      " 9   SeniorCitizen     7043 non-null   int64         \n",
      " 10  Partner           7043 non-null   int64         \n",
      " 11  Dependents        7043 non-null   int64         \n",
      " 12  InternetService   5517 non-null   object        \n",
      " 13  OnlineSecurity    5517 non-null   float64       \n",
      " 14  OnlineBackup      5517 non-null   float64       \n",
      " 15  DeviceProtection  5517 non-null   float64       \n",
      " 16  TechSupport       5517 non-null   float64       \n",
      " 17  StreamingTV       5517 non-null   float64       \n",
      " 18  StreamingMovies   5517 non-null   float64       \n",
      " 19  MultipleLines     6361 non-null   float64       \n",
      "dtypes: datetime64[ns](2), float64(9), int64(5), object(4)\n",
      "memory usage: 1.4+ MB\n"
     ]
    }
   ],
   "source": [
    "df.info()"
   ]
  },
  {
   "cell_type": "markdown",
   "metadata": {},
   "source": [
    "When correcting the data types of the columns, we noticed the presence of missing data, which contradicts the observation made during the project planning stage."
   ]
  },
  {
   "cell_type": "markdown",
   "metadata": {},
   "source": [
    "### Handling Missing Data"
   ]
  },
  {
   "cell_type": "code",
   "execution_count": 17,
   "metadata": {},
   "outputs": [
    {
     "data": {
      "text/html": [
       "<div>\n",
       "<style scoped>\n",
       "    .dataframe tbody tr th:only-of-type {\n",
       "        vertical-align: middle;\n",
       "    }\n",
       "\n",
       "    .dataframe tbody tr th {\n",
       "        vertical-align: top;\n",
       "    }\n",
       "\n",
       "    .dataframe thead th {\n",
       "        text-align: right;\n",
       "    }\n",
       "</style>\n",
       "<table border=\"1\" class=\"dataframe\">\n",
       "  <thead>\n",
       "    <tr style=\"text-align: right;\">\n",
       "      <th></th>\n",
       "      <th>CustomerID</th>\n",
       "      <th>BeginDate</th>\n",
       "      <th>EndDate</th>\n",
       "      <th>Type</th>\n",
       "      <th>PaperlessBilling</th>\n",
       "      <th>PaymentMethod</th>\n",
       "      <th>MonthlyCharges</th>\n",
       "      <th>TotalCharges</th>\n",
       "      <th>Gender</th>\n",
       "      <th>SeniorCitizen</th>\n",
       "      <th>Partner</th>\n",
       "      <th>Dependents</th>\n",
       "      <th>InternetService</th>\n",
       "      <th>OnlineSecurity</th>\n",
       "      <th>OnlineBackup</th>\n",
       "      <th>DeviceProtection</th>\n",
       "      <th>TechSupport</th>\n",
       "      <th>StreamingTV</th>\n",
       "      <th>StreamingMovies</th>\n",
       "      <th>MultipleLines</th>\n",
       "    </tr>\n",
       "  </thead>\n",
       "  <tbody>\n",
       "    <tr>\n",
       "      <th>488</th>\n",
       "      <td>4472-LVYGI</td>\n",
       "      <td>2020-02-01</td>\n",
       "      <td>NaT</td>\n",
       "      <td>Two year</td>\n",
       "      <td>1</td>\n",
       "      <td>Bank transfer (automatic)</td>\n",
       "      <td>52.55</td>\n",
       "      <td>NaN</td>\n",
       "      <td>0</td>\n",
       "      <td>0</td>\n",
       "      <td>1</td>\n",
       "      <td>1</td>\n",
       "      <td>DSL</td>\n",
       "      <td>1.0</td>\n",
       "      <td>0.0</td>\n",
       "      <td>1.0</td>\n",
       "      <td>1.0</td>\n",
       "      <td>1.0</td>\n",
       "      <td>0.0</td>\n",
       "      <td>NaN</td>\n",
       "    </tr>\n",
       "    <tr>\n",
       "      <th>753</th>\n",
       "      <td>3115-CZMZD</td>\n",
       "      <td>2020-02-01</td>\n",
       "      <td>NaT</td>\n",
       "      <td>Two year</td>\n",
       "      <td>0</td>\n",
       "      <td>Mailed check</td>\n",
       "      <td>20.25</td>\n",
       "      <td>NaN</td>\n",
       "      <td>1</td>\n",
       "      <td>0</td>\n",
       "      <td>0</td>\n",
       "      <td>1</td>\n",
       "      <td>NaN</td>\n",
       "      <td>NaN</td>\n",
       "      <td>NaN</td>\n",
       "      <td>NaN</td>\n",
       "      <td>NaN</td>\n",
       "      <td>NaN</td>\n",
       "      <td>NaN</td>\n",
       "      <td>0.0</td>\n",
       "    </tr>\n",
       "    <tr>\n",
       "      <th>936</th>\n",
       "      <td>5709-LVOEQ</td>\n",
       "      <td>2020-02-01</td>\n",
       "      <td>NaT</td>\n",
       "      <td>Two year</td>\n",
       "      <td>0</td>\n",
       "      <td>Mailed check</td>\n",
       "      <td>80.85</td>\n",
       "      <td>NaN</td>\n",
       "      <td>0</td>\n",
       "      <td>0</td>\n",
       "      <td>1</td>\n",
       "      <td>1</td>\n",
       "      <td>DSL</td>\n",
       "      <td>1.0</td>\n",
       "      <td>1.0</td>\n",
       "      <td>1.0</td>\n",
       "      <td>0.0</td>\n",
       "      <td>1.0</td>\n",
       "      <td>1.0</td>\n",
       "      <td>0.0</td>\n",
       "    </tr>\n",
       "    <tr>\n",
       "      <th>1082</th>\n",
       "      <td>4367-NUYAO</td>\n",
       "      <td>2020-02-01</td>\n",
       "      <td>NaT</td>\n",
       "      <td>Two year</td>\n",
       "      <td>0</td>\n",
       "      <td>Mailed check</td>\n",
       "      <td>25.75</td>\n",
       "      <td>NaN</td>\n",
       "      <td>1</td>\n",
       "      <td>0</td>\n",
       "      <td>1</td>\n",
       "      <td>1</td>\n",
       "      <td>NaN</td>\n",
       "      <td>NaN</td>\n",
       "      <td>NaN</td>\n",
       "      <td>NaN</td>\n",
       "      <td>NaN</td>\n",
       "      <td>NaN</td>\n",
       "      <td>NaN</td>\n",
       "      <td>1.0</td>\n",
       "    </tr>\n",
       "    <tr>\n",
       "      <th>1340</th>\n",
       "      <td>1371-DWPAZ</td>\n",
       "      <td>2020-02-01</td>\n",
       "      <td>NaT</td>\n",
       "      <td>Two year</td>\n",
       "      <td>0</td>\n",
       "      <td>Credit card (automatic)</td>\n",
       "      <td>56.05</td>\n",
       "      <td>NaN</td>\n",
       "      <td>0</td>\n",
       "      <td>0</td>\n",
       "      <td>1</td>\n",
       "      <td>1</td>\n",
       "      <td>DSL</td>\n",
       "      <td>1.0</td>\n",
       "      <td>1.0</td>\n",
       "      <td>1.0</td>\n",
       "      <td>1.0</td>\n",
       "      <td>1.0</td>\n",
       "      <td>0.0</td>\n",
       "      <td>NaN</td>\n",
       "    </tr>\n",
       "    <tr>\n",
       "      <th>3331</th>\n",
       "      <td>7644-OMVMY</td>\n",
       "      <td>2020-02-01</td>\n",
       "      <td>NaT</td>\n",
       "      <td>Two year</td>\n",
       "      <td>0</td>\n",
       "      <td>Mailed check</td>\n",
       "      <td>19.85</td>\n",
       "      <td>NaN</td>\n",
       "      <td>1</td>\n",
       "      <td>0</td>\n",
       "      <td>1</td>\n",
       "      <td>1</td>\n",
       "      <td>NaN</td>\n",
       "      <td>NaN</td>\n",
       "      <td>NaN</td>\n",
       "      <td>NaN</td>\n",
       "      <td>NaN</td>\n",
       "      <td>NaN</td>\n",
       "      <td>NaN</td>\n",
       "      <td>0.0</td>\n",
       "    </tr>\n",
       "    <tr>\n",
       "      <th>3826</th>\n",
       "      <td>3213-VVOLG</td>\n",
       "      <td>2020-02-01</td>\n",
       "      <td>NaT</td>\n",
       "      <td>Two year</td>\n",
       "      <td>0</td>\n",
       "      <td>Mailed check</td>\n",
       "      <td>25.35</td>\n",
       "      <td>NaN</td>\n",
       "      <td>1</td>\n",
       "      <td>0</td>\n",
       "      <td>1</td>\n",
       "      <td>1</td>\n",
       "      <td>NaN</td>\n",
       "      <td>NaN</td>\n",
       "      <td>NaN</td>\n",
       "      <td>NaN</td>\n",
       "      <td>NaN</td>\n",
       "      <td>NaN</td>\n",
       "      <td>NaN</td>\n",
       "      <td>1.0</td>\n",
       "    </tr>\n",
       "    <tr>\n",
       "      <th>4380</th>\n",
       "      <td>2520-SGTTA</td>\n",
       "      <td>2020-02-01</td>\n",
       "      <td>NaT</td>\n",
       "      <td>Two year</td>\n",
       "      <td>0</td>\n",
       "      <td>Mailed check</td>\n",
       "      <td>20.00</td>\n",
       "      <td>NaN</td>\n",
       "      <td>0</td>\n",
       "      <td>0</td>\n",
       "      <td>1</td>\n",
       "      <td>1</td>\n",
       "      <td>NaN</td>\n",
       "      <td>NaN</td>\n",
       "      <td>NaN</td>\n",
       "      <td>NaN</td>\n",
       "      <td>NaN</td>\n",
       "      <td>NaN</td>\n",
       "      <td>NaN</td>\n",
       "      <td>0.0</td>\n",
       "    </tr>\n",
       "    <tr>\n",
       "      <th>5218</th>\n",
       "      <td>2923-ARZLG</td>\n",
       "      <td>2020-02-01</td>\n",
       "      <td>NaT</td>\n",
       "      <td>One year</td>\n",
       "      <td>1</td>\n",
       "      <td>Mailed check</td>\n",
       "      <td>19.70</td>\n",
       "      <td>NaN</td>\n",
       "      <td>1</td>\n",
       "      <td>0</td>\n",
       "      <td>1</td>\n",
       "      <td>1</td>\n",
       "      <td>NaN</td>\n",
       "      <td>NaN</td>\n",
       "      <td>NaN</td>\n",
       "      <td>NaN</td>\n",
       "      <td>NaN</td>\n",
       "      <td>NaN</td>\n",
       "      <td>NaN</td>\n",
       "      <td>0.0</td>\n",
       "    </tr>\n",
       "    <tr>\n",
       "      <th>6670</th>\n",
       "      <td>4075-WKNIU</td>\n",
       "      <td>2020-02-01</td>\n",
       "      <td>NaT</td>\n",
       "      <td>Two year</td>\n",
       "      <td>0</td>\n",
       "      <td>Mailed check</td>\n",
       "      <td>73.35</td>\n",
       "      <td>NaN</td>\n",
       "      <td>0</td>\n",
       "      <td>0</td>\n",
       "      <td>1</td>\n",
       "      <td>1</td>\n",
       "      <td>DSL</td>\n",
       "      <td>0.0</td>\n",
       "      <td>1.0</td>\n",
       "      <td>1.0</td>\n",
       "      <td>1.0</td>\n",
       "      <td>1.0</td>\n",
       "      <td>0.0</td>\n",
       "      <td>1.0</td>\n",
       "    </tr>\n",
       "    <tr>\n",
       "      <th>6754</th>\n",
       "      <td>2775-SEFEE</td>\n",
       "      <td>2020-02-01</td>\n",
       "      <td>NaT</td>\n",
       "      <td>Two year</td>\n",
       "      <td>1</td>\n",
       "      <td>Bank transfer (automatic)</td>\n",
       "      <td>61.90</td>\n",
       "      <td>NaN</td>\n",
       "      <td>1</td>\n",
       "      <td>0</td>\n",
       "      <td>0</td>\n",
       "      <td>1</td>\n",
       "      <td>DSL</td>\n",
       "      <td>1.0</td>\n",
       "      <td>1.0</td>\n",
       "      <td>0.0</td>\n",
       "      <td>1.0</td>\n",
       "      <td>0.0</td>\n",
       "      <td>0.0</td>\n",
       "      <td>1.0</td>\n",
       "    </tr>\n",
       "  </tbody>\n",
       "</table>\n",
       "</div>"
      ],
      "text/plain": [
       "      CustomerID  BeginDate EndDate      Type  PaperlessBilling  \\\n",
       "488   4472-LVYGI 2020-02-01     NaT  Two year                 1   \n",
       "753   3115-CZMZD 2020-02-01     NaT  Two year                 0   \n",
       "936   5709-LVOEQ 2020-02-01     NaT  Two year                 0   \n",
       "1082  4367-NUYAO 2020-02-01     NaT  Two year                 0   \n",
       "1340  1371-DWPAZ 2020-02-01     NaT  Two year                 0   \n",
       "3331  7644-OMVMY 2020-02-01     NaT  Two year                 0   \n",
       "3826  3213-VVOLG 2020-02-01     NaT  Two year                 0   \n",
       "4380  2520-SGTTA 2020-02-01     NaT  Two year                 0   \n",
       "5218  2923-ARZLG 2020-02-01     NaT  One year                 1   \n",
       "6670  4075-WKNIU 2020-02-01     NaT  Two year                 0   \n",
       "6754  2775-SEFEE 2020-02-01     NaT  Two year                 1   \n",
       "\n",
       "                  PaymentMethod  MonthlyCharges  TotalCharges  Gender  \\\n",
       "488   Bank transfer (automatic)           52.55           NaN       0   \n",
       "753                Mailed check           20.25           NaN       1   \n",
       "936                Mailed check           80.85           NaN       0   \n",
       "1082               Mailed check           25.75           NaN       1   \n",
       "1340    Credit card (automatic)           56.05           NaN       0   \n",
       "3331               Mailed check           19.85           NaN       1   \n",
       "3826               Mailed check           25.35           NaN       1   \n",
       "4380               Mailed check           20.00           NaN       0   \n",
       "5218               Mailed check           19.70           NaN       1   \n",
       "6670               Mailed check           73.35           NaN       0   \n",
       "6754  Bank transfer (automatic)           61.90           NaN       1   \n",
       "\n",
       "      SeniorCitizen  Partner  Dependents InternetService  OnlineSecurity  \\\n",
       "488               0        1           1             DSL             1.0   \n",
       "753               0        0           1             NaN             NaN   \n",
       "936               0        1           1             DSL             1.0   \n",
       "1082              0        1           1             NaN             NaN   \n",
       "1340              0        1           1             DSL             1.0   \n",
       "3331              0        1           1             NaN             NaN   \n",
       "3826              0        1           1             NaN             NaN   \n",
       "4380              0        1           1             NaN             NaN   \n",
       "5218              0        1           1             NaN             NaN   \n",
       "6670              0        1           1             DSL             0.0   \n",
       "6754              0        0           1             DSL             1.0   \n",
       "\n",
       "      OnlineBackup  DeviceProtection  TechSupport  StreamingTV  \\\n",
       "488            0.0               1.0          1.0          1.0   \n",
       "753            NaN               NaN          NaN          NaN   \n",
       "936            1.0               1.0          0.0          1.0   \n",
       "1082           NaN               NaN          NaN          NaN   \n",
       "1340           1.0               1.0          1.0          1.0   \n",
       "3331           NaN               NaN          NaN          NaN   \n",
       "3826           NaN               NaN          NaN          NaN   \n",
       "4380           NaN               NaN          NaN          NaN   \n",
       "5218           NaN               NaN          NaN          NaN   \n",
       "6670           1.0               1.0          1.0          1.0   \n",
       "6754           1.0               0.0          1.0          0.0   \n",
       "\n",
       "      StreamingMovies  MultipleLines  \n",
       "488               0.0            NaN  \n",
       "753               NaN            0.0  \n",
       "936               1.0            0.0  \n",
       "1082              NaN            1.0  \n",
       "1340              0.0            NaN  \n",
       "3331              NaN            0.0  \n",
       "3826              NaN            1.0  \n",
       "4380              NaN            0.0  \n",
       "5218              NaN            0.0  \n",
       "6670              0.0            1.0  \n",
       "6754              0.0            1.0  "
      ]
     },
     "execution_count": 17,
     "metadata": {},
     "output_type": "execute_result"
    }
   ],
   "source": [
    "df[df['TotalCharges'].isna()]"
   ]
  },
  {
   "cell_type": "markdown",
   "metadata": {},
   "source": [
    "All missing data in the `TotalCharges` column have a start date of 01/02/2020, which is the most recent date in the dataframe. This means that the contract has started, but no charges have been recorded yet.\n",
    "\n",
    "In this case, we will fill the missing values with the corresponding values from the `MonthlyCharges` column."
   ]
  },
  {
   "cell_type": "code",
   "execution_count": 18,
   "metadata": {},
   "outputs": [],
   "source": [
    "df['TotalCharges'] = df['TotalCharges'].fillna(df['MonthlyCharges'])"
   ]
  },
  {
   "cell_type": "markdown",
   "metadata": {},
   "source": [
    "For `InternetService`, `Type`, and `PaymentMethod`, we applied encoding logic and created new numerical binary columns (one for each category)."
   ]
  },
  {
   "cell_type": "code",
   "execution_count": 19,
   "metadata": {},
   "outputs": [
    {
     "data": {
      "text/plain": [
       "Fiber optic    3096\n",
       "DSL            2421\n",
       "Name: InternetService, dtype: int64"
      ]
     },
     "execution_count": 19,
     "metadata": {},
     "output_type": "execute_result"
    }
   ],
   "source": [
    "df['InternetService'].value_counts()"
   ]
  },
  {
   "cell_type": "code",
   "execution_count": 20,
   "metadata": {},
   "outputs": [
    {
     "data": {
      "text/plain": [
       "Month-to-month    3875\n",
       "Two year          1695\n",
       "One year          1473\n",
       "Name: Type, dtype: int64"
      ]
     },
     "execution_count": 20,
     "metadata": {},
     "output_type": "execute_result"
    }
   ],
   "source": [
    "df['Type'].value_counts()"
   ]
  },
  {
   "cell_type": "code",
   "execution_count": 21,
   "metadata": {},
   "outputs": [
    {
     "data": {
      "text/plain": [
       "Electronic check             2365\n",
       "Mailed check                 1612\n",
       "Bank transfer (automatic)    1544\n",
       "Credit card (automatic)      1522\n",
       "Name: PaymentMethod, dtype: int64"
      ]
     },
     "execution_count": 21,
     "metadata": {},
     "output_type": "execute_result"
    }
   ],
   "source": [
    "df['PaymentMethod'].value_counts()"
   ]
  },
  {
   "cell_type": "code",
   "execution_count": 22,
   "metadata": {},
   "outputs": [],
   "source": [
    "df['DSL'] = (df['InternetService'] == 'DSL').astype(int)\n",
    "df['FiberOptic'] = (df['InternetService'] == 'Fiber optic').astype(int)\n",
    "\n",
    "df['MonthToMonth'] = (df['Type'] == 'Month-to-month').astype(int)\n",
    "df['TwoYear'] = (df['Type'] == 'Two year').astype(int)\n",
    "df['OneYear'] = (df['Type'] == 'One year').astype(int)\n",
    "\n",
    "df['ElectronicCheck'] = (df['PaymentMethod'] == 'Electronic check').astype(int)\n",
    "df['MailedCheck'] = (df['PaymentMethod'] == 'Mailed check').astype(int)\n",
    "df['BankTransfer'] = (df['PaymentMethod'] == 'Bank transfer (automatic)').astype(int)\n",
    "df['CreditCard'] = (df['PaymentMethod'] == 'Credit card (automatic)').astype(int)"
   ]
  },
  {
   "cell_type": "markdown",
   "metadata": {},
   "source": [
    "We converted the `MultipleLines` column into a numerical format."
   ]
  },
  {
   "cell_type": "code",
   "execution_count": 23,
   "metadata": {},
   "outputs": [],
   "source": [
    "df['MultipleLines'] = pd.to_numeric(df['MultipleLines'], errors='coerce')"
   ]
  },
  {
   "cell_type": "markdown",
   "metadata": {},
   "source": [
    "**'CustomerID' Column**\n",
    "\n",
    "The 'CustomerID' column may be useful for tracking customers prone to leaving or for merging additional tables in the future, but it does not provide relevant information for model training. Otherwise, it could leak data, bias the model, or reduce its performance.\n",
    "\n",
    "Therefore, we will convert this column into an index. This way, we keep the information stored while ensuring its values do not impact the model's learning process."
   ]
  },
  {
   "cell_type": "code",
   "execution_count": 24,
   "metadata": {},
   "outputs": [],
   "source": [
    "df.set_index('CustomerID', inplace=True)"
   ]
  },
  {
   "cell_type": "markdown",
   "metadata": {},
   "source": [
    "## Analysing Correlations"
   ]
  },
  {
   "cell_type": "markdown",
   "metadata": {},
   "source": [
    "Based on the `EndDate` column (of type datetime), we will create `Churn` (numerical), which will serve as our target column.\n",
    "\n",
    "Additionally, we will create the `ContractDuration` column, which will indicate the duration of each contract that has ended."
   ]
  },
  {
   "cell_type": "code",
   "execution_count": 25,
   "metadata": {},
   "outputs": [],
   "source": [
    "df['Churn'] = df['EndDate'].notnull().astype(int)"
   ]
  },
  {
   "cell_type": "code",
   "execution_count": 26,
   "metadata": {},
   "outputs": [],
   "source": [
    "df['ContractDuration'] = (df['EndDate'] - df['BeginDate']).dt.days\n",
    "df['ContractDuration'] = df['ContractDuration'].fillna(\n",
    "    (datetime.now() - df['BeginDate']).dt.days\n",
    ")"
   ]
  },
  {
   "cell_type": "code",
   "execution_count": 27,
   "metadata": {},
   "outputs": [],
   "source": [
    "numeric_df = df.select_dtypes(include=['float64', 'int64'])\n",
    "correlation_matrix = numeric_df.corr()"
   ]
  },
  {
   "cell_type": "code",
   "execution_count": 28,
   "metadata": {},
   "outputs": [
    {
     "name": "stderr",
     "output_type": "stream",
     "text": [
      "/tmp/ipykernel_297/1978216677.py:2: DeprecationWarning: `np.bool` is a deprecated alias for the builtin `bool`. To silence this warning, use `bool` by itself. Doing this will not modify any behavior and is safe. If you specifically wanted the numpy scalar type, use `np.bool_` here.\n",
      "Deprecated in NumPy 1.20; for more details and guidance: https://numpy.org/devdocs/release/1.20.0-notes.html#deprecations\n",
      "  mask = np.triu(np.ones_like(df.corr(), dtype=np.bool))\n"
     ]
    },
    {
     "data": {
      "image/png": "[encoded data removed]",
      "text/plain": [
       "<Figure size 1200x800 with 2 Axes>"
      ]
     },
     "metadata": {},
     "output_type": "display_data"
    }
   ],
   "source": [
    "plt.figure(figsize=(12, 8))\n",
    "mask = np.triu(np.ones_like(df.corr(), dtype=np.bool))\n",
    "heatmap = sns.heatmap(correlation_matrix, mask=mask, vmin=-1, vmax=1, annot=True, fmt=\".2f\", cmap='coolwarm')\n",
    "plt.title(\"Heatmap de Correlações\")\n",
    "plt.show()"
   ]
  },
  {
   "cell_type": "markdown",
   "metadata": {},
   "source": [
    "* There is no significantly strong relationship between `Churn` and other columns.  \n",
    "* A highly relevant correlation can be observed between `ContractDuration` and `TotalCharges`.  "
   ]
  },
  {
   "cell_type": "markdown",
   "metadata": {},
   "source": [
    "## Defining the Customer Profile"
   ]
  },
  {
   "cell_type": "markdown",
   "metadata": {},
   "source": [
    "Based on the EDA, we will examine the main characteristics of customers who cancel their plans."
   ]
  },
  {
   "cell_type": "code",
   "execution_count": 29,
   "metadata": {},
   "outputs": [],
   "source": [
    "df_churn = df[~df['EndDate'].isnull()]"
   ]
  },
  {
   "cell_type": "code",
   "execution_count": 30,
   "metadata": {},
   "outputs": [],
   "source": [
    "lista_colunas = ['PaperlessBilling', 'SeniorCitizen', 'Partner', 'Dependents',\n",
    "       'OnlineSecurity', 'OnlineBackup', 'DeviceProtection', 'TechSupport',\n",
    "       'StreamingTV', 'StreamingMovies', 'MultipleLines', 'DSL', 'FiberOptic',\n",
    "       'MonthToMonth', 'TwoYear', 'OneYear', 'ElectronicCheck', 'MailedCheck',\n",
    "       'BankTransfer', 'CreditCard']"
   ]
  },
  {
   "cell_type": "code",
   "execution_count": 31,
   "metadata": {
    "scrolled": false
   },
   "outputs": [
    {
     "name": "stdout",
     "output_type": "stream",
     "text": [
      "PaperlessBilling\n",
      "1    0.592219\n",
      "0    0.407781\n",
      "Name: PaperlessBilling, dtype: float64\n",
      "SeniorCitizen\n",
      "0    0.837853\n",
      "1    0.162147\n",
      "Name: SeniorCitizen, dtype: float64\n",
      "Partner\n",
      "0    0.516967\n",
      "1    0.483033\n",
      "Name: Partner, dtype: float64\n",
      "Dependents\n",
      "0    0.700412\n",
      "1    0.299588\n",
      "Name: Dependents, dtype: float64\n",
      "OnlineSecurity\n",
      "0.0    0.63404\n",
      "1.0    0.36596\n",
      "Name: OnlineSecurity, dtype: float64\n",
      "OnlineBackup\n",
      "0.0    0.559724\n",
      "1.0    0.440276\n",
      "Name: OnlineBackup, dtype: float64\n",
      "DeviceProtection\n",
      "0.0    0.560993\n",
      "1.0    0.439007\n",
      "Name: DeviceProtection, dtype: float64\n",
      "TechSupport\n",
      "0.0    0.629509\n",
      "1.0    0.370491\n",
      "Name: TechSupport, dtype: float64\n",
      "StreamingTV\n",
      "0.0    0.509335\n",
      "1.0    0.490665\n",
      "Name: StreamingTV, dtype: float64\n",
      "StreamingMovies\n",
      "0.0    0.504803\n",
      "1.0    0.495197\n",
      "Name: StreamingMovies, dtype: float64\n",
      "MultipleLines\n",
      "0.0    0.532935\n",
      "1.0    0.467065\n",
      "Name: MultipleLines, dtype: float64\n",
      "DSL\n",
      "0    0.656254\n",
      "1    0.343746\n",
      "Name: DSL, dtype: float64\n",
      "FiberOptic\n",
      "0    0.560415\n",
      "1    0.439585\n",
      "Name: FiberOptic, dtype: float64\n",
      "MonthToMonth\n",
      "1    0.550192\n",
      "0    0.449808\n",
      "Name: MonthToMonth, dtype: float64\n",
      "TwoYear\n",
      "0    0.759336\n",
      "1    0.240664\n",
      "Name: TwoYear, dtype: float64\n",
      "OneYear\n",
      "0    0.790856\n",
      "1    0.209144\n",
      "Name: OneYear, dtype: float64\n",
      "ElectronicCheck\n",
      "0    0.664206\n",
      "1    0.335794\n",
      "Name: ElectronicCheck, dtype: float64\n",
      "MailedCheck\n",
      "0    0.77112\n",
      "1    0.22888\n",
      "Name: MailedCheck, dtype: float64\n",
      "BankTransfer\n",
      "0    0.780775\n",
      "1    0.219225\n",
      "Name: BankTransfer, dtype: float64\n",
      "CreditCard\n",
      "0    0.783899\n",
      "1    0.216101\n",
      "Name: CreditCard, dtype: float64\n"
     ]
    }
   ],
   "source": [
    "for x in lista_colunas:\n",
    "    print(x)\n",
    "    print(df[x].value_counts(normalize=True))"
   ]
  },
  {
   "cell_type": "code",
   "execution_count": 32,
   "metadata": {},
   "outputs": [
    {
     "data": {
      "text/plain": [
       "count    1869.000000\n",
       "mean      547.352060\n",
       "std       594.389607\n",
       "min        30.000000\n",
       "25%        61.000000\n",
       "50%       304.000000\n",
       "75%       883.000000\n",
       "max      2191.000000\n",
       "Name: ContractDuration, dtype: float64"
      ]
     },
     "execution_count": 32,
     "metadata": {},
     "output_type": "execute_result"
    }
   ],
   "source": [
    "df_churn['ContractDuration'].describe()"
   ]
  },
  {
   "cell_type": "markdown",
   "metadata": {},
   "source": [
    "* 83.7% are senior citizens.\n",
    "* 70% have no dependents.\n",
    "* 55% had month-to-month contracts.\n",
    "* The majority (between 51%-71%) did not subscribe to additional services such as OnlineBackup, DeviceProtection, TechSupport, StreamingTV, or StreamingMovies.\n",
    "* The shortest contract lasted 30 days; 1/4 of the contracts lasted around 2 months or less. Although the average duration was 18 months, the \"typical contract\" (50% of the data) lasted 10 months or less.\n",
    "\n",
    "The profile of a customer who is likely to churn is an **elderly person, without dependents, with a contract of 10 months or less, and not using any additional services**.  "
   ]
  },
  {
   "cell_type": "markdown",
   "metadata": {},
   "source": [
    "## Splitting the Data into Training and Testing Sets"
   ]
  },
  {
   "cell_type": "markdown",
   "metadata": {},
   "source": [
    "To train the models, we will remove the date columns."
   ]
  },
  {
   "cell_type": "code",
   "execution_count": 33,
   "metadata": {},
   "outputs": [],
   "source": [
    "df.drop(columns=['BeginDate', 'EndDate'], inplace=True)"
   ]
  },
  {
   "cell_type": "code",
   "execution_count": 34,
   "metadata": {},
   "outputs": [],
   "source": [
    "Y = 'Churn'\n",
    "X = [x for x in df.columns if x != Y]"
   ]
  },
  {
   "cell_type": "code",
   "execution_count": 35,
   "metadata": {},
   "outputs": [],
   "source": [
    "X_train, X_test, Y_train, Y_test = train_test_split(\n",
    "    df[X], df[Y], test_size=0.25, random_state=42\n",
    ")"
   ]
  },
  {
   "cell_type": "markdown",
   "metadata": {},
   "source": [
    "**Predicting Missing Values with `IterativeImputer`**"
   ]
  },
  {
   "cell_type": "markdown",
   "metadata": {},
   "source": [
    "Here, we will use the `IterativeImputer` method to predict the missing values based on the information from the other columns."
   ]
  },
  {
   "cell_type": "code",
   "execution_count": 36,
   "metadata": {},
   "outputs": [],
   "source": [
    "imputer = IterativeImputer(estimator=RandomForestRegressor(), max_iter=10, random_state=42)\n",
    "numeric_columns = X_train.select_dtypes(include=['float64', 'int64']).columns\n",
    "X_train_imputed = imputer.fit_transform(X_train[numeric_columns])\n",
    "X_test_imputed = imputer.transform(X_test[numeric_columns])\n",
    "X_train[numeric_columns] = pd.DataFrame(X_train_imputed, columns=numeric_columns, index=X_train.index)\n",
    "X_test[numeric_columns] = pd.DataFrame(X_test_imputed, columns=numeric_columns, index=X_test.index)"
   ]
  },
  {
   "cell_type": "code",
   "execution_count": 37,
   "metadata": {},
   "outputs": [],
   "source": [
    "lista2 = ['OnlineSecurity', 'OnlineBackup', 'DeviceProtection', 'TechSupport', 'StreamingTV', 'StreamingMovies', 'MultipleLines']\n",
    "for col in lista2:\n",
    "    if col in X_train.columns:\n",
    "        X_train[col] = (X_train[col] >= 0.5).astype(int)\n",
    "        X_test[col] = (X_test[col] >= 0.5).astype(int)"
   ]
  },
  {
   "cell_type": "code",
   "execution_count": 38,
   "metadata": {
    "scrolled": false
   },
   "outputs": [
    {
     "name": "stdout",
     "output_type": "stream",
     "text": [
      "<class 'pandas.core.frame.DataFrame'>\n",
      "Index: 5282 entries, 7242-QZLXF to 4795-UXVCJ\n",
      "Data columns (total 27 columns):\n",
      " #   Column            Non-Null Count  Dtype  \n",
      "---  ------            --------------  -----  \n",
      " 0   Type              5282 non-null   object \n",
      " 1   PaperlessBilling  5282 non-null   float64\n",
      " 2   PaymentMethod     5282 non-null   object \n",
      " 3   MonthlyCharges    5282 non-null   float64\n",
      " 4   TotalCharges      5282 non-null   float64\n",
      " 5   Gender            5282 non-null   float64\n",
      " 6   SeniorCitizen     5282 non-null   float64\n",
      " 7   Partner           5282 non-null   float64\n",
      " 8   Dependents        5282 non-null   float64\n",
      " 9   InternetService   4134 non-null   object \n",
      " 10  OnlineSecurity    5282 non-null   int64  \n",
      " 11  OnlineBackup      5282 non-null   int64  \n",
      " 12  DeviceProtection  5282 non-null   int64  \n",
      " 13  TechSupport       5282 non-null   int64  \n",
      " 14  StreamingTV       5282 non-null   int64  \n",
      " 15  StreamingMovies   5282 non-null   int64  \n",
      " 16  MultipleLines     5282 non-null   int64  \n",
      " 17  DSL               5282 non-null   float64\n",
      " 18  FiberOptic        5282 non-null   float64\n",
      " 19  MonthToMonth      5282 non-null   float64\n",
      " 20  TwoYear           5282 non-null   float64\n",
      " 21  OneYear           5282 non-null   float64\n",
      " 22  ElectronicCheck   5282 non-null   float64\n",
      " 23  MailedCheck       5282 non-null   float64\n",
      " 24  BankTransfer      5282 non-null   float64\n",
      " 25  CreditCard        5282 non-null   float64\n",
      " 26  ContractDuration  5282 non-null   float64\n",
      "dtypes: float64(17), int64(7), object(3)\n",
      "memory usage: 1.1+ MB\n"
     ]
    }
   ],
   "source": [
    "X_train.info()"
   ]
  },
  {
   "cell_type": "code",
   "execution_count": 39,
   "metadata": {},
   "outputs": [
    {
     "name": "stdout",
     "output_type": "stream",
     "text": [
      "<class 'pandas.core.frame.DataFrame'>\n",
      "Index: 1761 entries, 1024-GUALD to 3055-OYMSE\n",
      "Data columns (total 27 columns):\n",
      " #   Column            Non-Null Count  Dtype  \n",
      "---  ------            --------------  -----  \n",
      " 0   Type              1761 non-null   object \n",
      " 1   PaperlessBilling  1761 non-null   float64\n",
      " 2   PaymentMethod     1761 non-null   object \n",
      " 3   MonthlyCharges    1761 non-null   float64\n",
      " 4   TotalCharges      1761 non-null   float64\n",
      " 5   Gender            1761 non-null   float64\n",
      " 6   SeniorCitizen     1761 non-null   float64\n",
      " 7   Partner           1761 non-null   float64\n",
      " 8   Dependents        1761 non-null   float64\n",
      " 9   InternetService   1383 non-null   object \n",
      " 10  OnlineSecurity    1761 non-null   int64  \n",
      " 11  OnlineBackup      1761 non-null   int64  \n",
      " 12  DeviceProtection  1761 non-null   int64  \n",
      " 13  TechSupport       1761 non-null   int64  \n",
      " 14  StreamingTV       1761 non-null   int64  \n",
      " 15  StreamingMovies   1761 non-null   int64  \n",
      " 16  MultipleLines     1761 non-null   int64  \n",
      " 17  DSL               1761 non-null   float64\n",
      " 18  FiberOptic        1761 non-null   float64\n",
      " 19  MonthToMonth      1761 non-null   float64\n",
      " 20  TwoYear           1761 non-null   float64\n",
      " 21  OneYear           1761 non-null   float64\n",
      " 22  ElectronicCheck   1761 non-null   float64\n",
      " 23  MailedCheck       1761 non-null   float64\n",
      " 24  BankTransfer      1761 non-null   float64\n",
      " 25  CreditCard        1761 non-null   float64\n",
      " 26  ContractDuration  1761 non-null   float64\n",
      "dtypes: float64(17), int64(7), object(3)\n",
      "memory usage: 385.2+ KB\n"
     ]
    }
   ],
   "source": [
    "X_test.info()"
   ]
  },
  {
   "cell_type": "markdown",
   "metadata": {},
   "source": [
    "**Removing Redundant Columns**\n",
    "\n",
    "The columns `InternetService`, `Type`, and `PaymentMethod` are the only ones of type `object`. Since they have already been converted into numerical columns, it is safe to remove them from the DataFrame, as they now contain redundant values."
   ]
  },
  {
   "cell_type": "code",
   "execution_count": 40,
   "metadata": {
    "scrolled": false
   },
   "outputs": [
    {
     "name": "stdout",
     "output_type": "stream",
     "text": [
      "<class 'pandas.core.frame.DataFrame'>\n",
      "Index: 5282 entries, 7242-QZLXF to 4795-UXVCJ\n",
      "Data columns (total 24 columns):\n",
      " #   Column            Non-Null Count  Dtype  \n",
      "---  ------            --------------  -----  \n",
      " 0   PaperlessBilling  5282 non-null   float64\n",
      " 1   MonthlyCharges    5282 non-null   float64\n",
      " 2   TotalCharges      5282 non-null   float64\n",
      " 3   Gender            5282 non-null   float64\n",
      " 4   SeniorCitizen     5282 non-null   float64\n",
      " 5   Partner           5282 non-null   float64\n",
      " 6   Dependents        5282 non-null   float64\n",
      " 7   OnlineSecurity    5282 non-null   int64  \n",
      " 8   OnlineBackup      5282 non-null   int64  \n",
      " 9   DeviceProtection  5282 non-null   int64  \n",
      " 10  TechSupport       5282 non-null   int64  \n",
      " 11  StreamingTV       5282 non-null   int64  \n",
      " 12  StreamingMovies   5282 non-null   int64  \n",
      " 13  MultipleLines     5282 non-null   int64  \n",
      " 14  DSL               5282 non-null   float64\n",
      " 15  FiberOptic        5282 non-null   float64\n",
      " 16  MonthToMonth      5282 non-null   float64\n",
      " 17  TwoYear           5282 non-null   float64\n",
      " 18  OneYear           5282 non-null   float64\n",
      " 19  ElectronicCheck   5282 non-null   float64\n",
      " 20  MailedCheck       5282 non-null   float64\n",
      " 21  BankTransfer      5282 non-null   float64\n",
      " 22  CreditCard        5282 non-null   float64\n",
      " 23  ContractDuration  5282 non-null   float64\n",
      "dtypes: float64(17), int64(7)\n",
      "memory usage: 1.0+ MB\n",
      "<class 'pandas.core.frame.DataFrame'>\n",
      "Index: 1761 entries, 1024-GUALD to 3055-OYMSE\n",
      "Data columns (total 24 columns):\n",
      " #   Column            Non-Null Count  Dtype  \n",
      "---  ------            --------------  -----  \n",
      " 0   PaperlessBilling  1761 non-null   float64\n",
      " 1   MonthlyCharges    1761 non-null   float64\n",
      " 2   TotalCharges      1761 non-null   float64\n",
      " 3   Gender            1761 non-null   float64\n",
      " 4   SeniorCitizen     1761 non-null   float64\n",
      " 5   Partner           1761 non-null   float64\n",
      " 6   Dependents        1761 non-null   float64\n",
      " 7   OnlineSecurity    1761 non-null   int64  \n",
      " 8   OnlineBackup      1761 non-null   int64  \n",
      " 9   DeviceProtection  1761 non-null   int64  \n",
      " 10  TechSupport       1761 non-null   int64  \n",
      " 11  StreamingTV       1761 non-null   int64  \n",
      " 12  StreamingMovies   1761 non-null   int64  \n",
      " 13  MultipleLines     1761 non-null   int64  \n",
      " 14  DSL               1761 non-null   float64\n",
      " 15  FiberOptic        1761 non-null   float64\n",
      " 16  MonthToMonth      1761 non-null   float64\n",
      " 17  TwoYear           1761 non-null   float64\n",
      " 18  OneYear           1761 non-null   float64\n",
      " 19  ElectronicCheck   1761 non-null   float64\n",
      " 20  MailedCheck       1761 non-null   float64\n",
      " 21  BankTransfer      1761 non-null   float64\n",
      " 22  CreditCard        1761 non-null   float64\n",
      " 23  ContractDuration  1761 non-null   float64\n",
      "dtypes: float64(17), int64(7)\n",
      "memory usage: 343.9+ KB\n"
     ]
    }
   ],
   "source": [
    "X_train.drop(columns=['InternetService', 'Type', 'PaymentMethod'], inplace=True)\n",
    "X_test.drop(columns=['InternetService', 'Type', 'PaymentMethod'], inplace=True)\n",
    "X_train.info()\n",
    "X_test.info()"
   ]
  },
  {
   "cell_type": "markdown",
   "metadata": {},
   "source": [
    "Since the `ContractDuration` column introduces bias by leaking information related to cancellations, we will remove it from both the training and testing sets."
   ]
  },
  {
   "cell_type": "code",
   "execution_count": 41,
   "metadata": {},
   "outputs": [],
   "source": [
    "X_train = X_train.drop(columns=['ContractDuration'])\n",
    "X_test = X_test.drop(columns=['ContractDuration'])"
   ]
  },
  {
   "cell_type": "markdown",
   "metadata": {},
   "source": [
    "**Random Forest**"
   ]
  },
  {
   "cell_type": "code",
   "execution_count": 44,
   "metadata": {
    "scrolled": false
   },
   "outputs": [
    {
     "name": "stdout",
     "output_type": "stream",
     "text": [
      "AUC-ROC: 0.86\n",
      "Acurácia: 0.8\n",
      "Melhores hiperparâmetros: {'max_depth': 10, 'min_samples_leaf': 2, 'min_samples_split': 2, 'n_estimators': 200}\n"
     ]
    }
   ],
   "source": [
    "from sklearn.utils._testing import ignore_warnings\n",
    "from sklearn.exceptions import FitFailedWarning\n",
    "\n",
    "rf_model = RandomForestClassifier(random_state=42)\n",
    "\n",
    "param_grid_rf = {\n",
    "    'n_estimators': [50, 100, 200],\n",
    "    'max_depth': [2, 5, 10, None],\n",
    "    'min_samples_split': [2, 5],\n",
    "    'min_samples_leaf': [1, 2]\n",
    "}\n",
    "\n",
    "grid_search_rf = GridSearchCV(\n",
    "    estimator=rf_model,\n",
    "    param_grid=param_grid_rf,\n",
    "    cv=5,\n",
    "    n_jobs=2,\n",
    "    scoring='roc_auc'\n",
    ")\n",
    "\n",
    "grid_search_rf.fit(X_train, Y_train)\n",
    "\n",
    "best_rf_model = grid_search_rf.best_estimator_\n",
    "rf_probabilities = best_rf_model.predict_proba(X_test)[:, 1]\n",
    "rf_predictions = best_rf_model.predict(X_test)\n",
    "\n",
    "auc_roc_forest = roc_auc_score(Y_test, rf_probabilities)\n",
    "accuracy_forest = accuracy_score(Y_test, rf_predictions)\n",
    "\n",
    "print(f'AUC-ROC: {auc_roc_forest.round(2)}')\n",
    "print(f'Accuracy: {accuracy_forest.round(2)}')\n",
    "print(f\"Best hyperparameters: {grid_search_rf.best_params_}\")"
   ]
  },
  {
   "cell_type": "markdown",
   "metadata": {},
   "source": [
    "**CatBoost**"
   ]
  },
  {
   "cell_type": "code",
   "execution_count": 45,
   "metadata": {},
   "outputs": [
    {
     "name": "stdout",
     "output_type": "stream",
     "text": [
      "AUC-ROC: 0.86\n",
      "Acurácia: 0.74\n",
      "Melhores Hiperparâmetros: {'depth': 4, 'iterations': 1000, 'l2_leaf_reg': 7, 'learning_rate': 0.01}\n"
     ]
    }
   ],
   "source": [
    "cat_model = CatBoostClassifier(random_state=42, verbose=0, class_weights=[1, 3])\n",
    "\n",
    "param_grid_cat = {\n",
    "    'iterations': [100, 300, 500, 1000],\n",
    "    'depth': [4, 6, 8, 10],\n",
    "    'learning_rate': [0.01, 0.05, 0.1, 0.2],\n",
    "    'l2_leaf_reg': [1, 3, 5, 7, 9]\n",
    "}\n",
    "\n",
    "grid_search_cat = GridSearchCV(\n",
    "    estimator=cat_model,\n",
    "    param_grid=param_grid_cat,\n",
    "    cv=5,\n",
    "    n_jobs=2,\n",
    "    scoring='roc_auc'\n",
    ")\n",
    "\n",
    "grid_search_cat.fit(X_train, Y_train)\n",
    "\n",
    "best_cat_model = grid_search_cat.best_estimator_\n",
    "cat_probabilities = best_cat_model.predict_proba(X_test)[:, 1]\n",
    "cat_predictions = best_cat_model.predict(X_test)\n",
    "\n",
    "auc_roc_cat = roc_auc_score(Y_test, cat_probabilities)\n",
    "accuracy_cat = accuracy_score(Y_test, cat_predictions)\n",
    "\n",
    "print(f'AUC-ROC: {auc_roc_cat:.2f}')\n",
    "print(f'Accuracy: {accuracy_cat:.2f}')\n",
    "print(f'\"Best hyperparameters: {grid_search_cat.best_params_}')"
   ]
  },
  {
   "cell_type": "markdown",
   "metadata": {},
   "source": [
    "**LightGBM**"
   ]
  },
  {
   "cell_type": "code",
   "execution_count": 46,
   "metadata": {},
   "outputs": [
    {
     "name": "stdout",
     "output_type": "stream",
     "text": [
      "AUC-ROC: 0.86\n",
      "Acurácia: 0.80\n",
      "Melhores hiperparâmetros: {'learning_rate': 0.01, 'max_depth': None, 'n_estimators': 150, 'num_leaves': 31}\n"
     ]
    }
   ],
   "source": [
    "lgb_model = lgb.LGBMClassifier(random_state=42)\n",
    "lgb_model.fit(X_train, Y_train)\n",
    "\n",
    "param_grid_lgb = {\n",
    "    'n_estimators': [50, 100, 150],\n",
    "    'max_depth': [None, 10, 20],\n",
    "    'learning_rate': [0.01, 0.1, 0.2],\n",
    "    'num_leaves': [31, 50, 70]\n",
    "}\n",
    "\n",
    "grid_search_lgb = GridSearchCV(\n",
    "    estimator=lgb_model,\n",
    "    param_grid=param_grid_lgb,\n",
    "    cv=5, n_jobs=2,\n",
    "    scoring='roc_auc'\n",
    ")\n",
    "\n",
    "grid_search_lgb.fit(X_train, Y_train)\n",
    "\n",
    "best_lgb_model = grid_search_lgb.best_estimator_\n",
    "lgb_probabilities = best_lgb_model.predict_proba(X_test)[:, 1]\n",
    "lgb_predictions = best_lgb_model.predict(X_test)\n",
    "\n",
    "auc_roc_lgb = roc_auc_score(Y_test, lgb_probabilities)\n",
    "accuracy_lgb = accuracy_score(Y_test, lgb_predictions)\n",
    "\n",
    "print(f'AUC-ROC: {auc_roc_lgb:.2f}')\n",
    "print(f'Accuracy: {accuracy_lgb:.2f}')\n",
    "print(f\"Best hyperparameters: {grid_search_lgb.best_params_}\")"
   ]
  },
  {
   "cell_type": "markdown",
   "metadata": {},
   "source": [
    "**Summary of Results**"
   ]
  },
  {
   "cell_type": "markdown",
   "metadata": {},
   "source": [
    "* **Random Forest**  \n",
    "  - AUC-ROC: 0.86  \n",
    "  - Accuracy: 0.80  \n",
    "\n",
    "* **CatBoost**  \n",
    "  - AUC-ROC: 0.86  \n",
    "  - Accuracy: 0.74  \n",
    "\n",
    "* **LightGBM**  \n",
    "  - AUC-ROC: 0.86  \n",
    "  - Accuracy: 0.80  \n"
   ]
  },
  {
   "cell_type": "markdown",
   "metadata": {},
   "source": [
    "* All models achieved the same AUC-ROC (0.86).  \n",
    "* CatBoost had a lower accuracy (0.74) compared to Random Forest and LightGBM (0.80).  \n",
    "* Random Forest has a high computational cost, whereas LightGBM is more efficient even with larger datasets.  "
   ]
  },
  {
   "cell_type": "markdown",
   "metadata": {},
   "source": [
    "# Recommendation"
   ]
  },
  {
   "cell_type": "markdown",
   "metadata": {},
   "source": [
    "Use `LightGBM` as the primary model for predicting customer churn at Interconnect, as it achieved the best overall performance among the tested models."
   ]
  }
 ],
 "metadata": {
  "ExecuteTimeLog": [
   {
    "duration": 9,
    "start_time": "2024-11-17T22:17:45.767Z"
   },
   {
    "duration": 5,
    "start_time": "2024-11-17T22:17:57.817Z"
   },
   {
    "duration": 4,
    "start_time": "2024-11-17T22:18:44.617Z"
   },
   {
    "duration": 291,
    "start_time": "2024-11-17T22:19:16.366Z"
   },
   {
    "duration": 27,
    "start_time": "2024-11-17T22:19:33.092Z"
   },
   {
    "duration": 15,
    "start_time": "2024-11-17T22:19:36.495Z"
   },
   {
    "duration": 12,
    "start_time": "2024-11-17T22:19:39.991Z"
   },
   {
    "duration": 13,
    "start_time": "2024-11-17T22:19:47.024Z"
   },
   {
    "duration": 13,
    "start_time": "2024-11-17T22:20:58.195Z"
   },
   {
    "duration": 7,
    "start_time": "2024-11-17T22:21:10.501Z"
   },
   {
    "duration": 8,
    "start_time": "2024-11-17T22:21:18.046Z"
   },
   {
    "duration": 6,
    "start_time": "2024-11-17T22:21:22.163Z"
   },
   {
    "duration": 17,
    "start_time": "2024-11-17T22:25:01.274Z"
   },
   {
    "duration": 14,
    "start_time": "2024-11-17T22:25:04.326Z"
   },
   {
    "duration": 13,
    "start_time": "2024-11-17T22:25:52.199Z"
   },
   {
    "duration": 13,
    "start_time": "2024-11-17T22:25:58.037Z"
   },
   {
    "duration": 187,
    "start_time": "2024-11-17T22:30:24.800Z"
   },
   {
    "duration": 3,
    "start_time": "2024-11-17T22:31:24.058Z"
   },
   {
    "duration": 13,
    "start_time": "2024-11-17T22:33:16.774Z"
   },
   {
    "duration": 15,
    "start_time": "2024-11-17T22:34:36.870Z"
   },
   {
    "duration": 11,
    "start_time": "2024-11-17T22:34:49.773Z"
   },
   {
    "duration": 275,
    "start_time": "2024-11-17T22:35:51.917Z"
   },
   {
    "duration": 11,
    "start_time": "2024-11-17T22:36:58.679Z"
   },
   {
    "duration": 9,
    "start_time": "2024-11-17T22:39:06.399Z"
   },
   {
    "duration": 377,
    "start_time": "2024-11-17T22:41:12.750Z"
   },
   {
    "duration": 268,
    "start_time": "2024-11-17T22:41:22.213Z"
   },
   {
    "duration": 18,
    "start_time": "2024-11-17T22:41:22.483Z"
   },
   {
    "duration": 10,
    "start_time": "2024-11-17T22:41:22.502Z"
   },
   {
    "duration": 13,
    "start_time": "2024-11-17T22:41:22.514Z"
   },
   {
    "duration": 8,
    "start_time": "2024-11-17T22:41:22.528Z"
   },
   {
    "duration": 21,
    "start_time": "2024-11-17T22:41:22.538Z"
   },
   {
    "duration": 19,
    "start_time": "2024-11-17T22:41:22.561Z"
   },
   {
    "duration": 13,
    "start_time": "2024-11-17T22:41:22.581Z"
   },
   {
    "duration": 552,
    "start_time": "2024-11-17T22:41:22.597Z"
   },
   {
    "duration": 0,
    "start_time": "2024-11-17T22:41:23.150Z"
   },
   {
    "duration": 1,
    "start_time": "2024-11-17T22:41:23.151Z"
   },
   {
    "duration": 3,
    "start_time": "2024-11-17T22:42:26.213Z"
   },
   {
    "duration": 47,
    "start_time": "2024-11-17T22:42:29.778Z"
   },
   {
    "duration": 3,
    "start_time": "2024-11-17T22:42:30.018Z"
   },
   {
    "duration": 7,
    "start_time": "2024-11-17T22:42:40.186Z"
   },
   {
    "duration": 25,
    "start_time": "2024-11-17T22:42:56.760Z"
   },
   {
    "duration": 36,
    "start_time": "2024-11-17T22:43:35.557Z"
   },
   {
    "duration": 4,
    "start_time": "2024-11-17T22:44:26.245Z"
   },
   {
    "duration": 4,
    "start_time": "2024-11-17T22:45:10.747Z"
   },
   {
    "duration": 12,
    "start_time": "2024-11-17T22:45:15.867Z"
   },
   {
    "duration": 12,
    "start_time": "2024-11-17T22:45:19.112Z"
   },
   {
    "duration": 10,
    "start_time": "2024-11-17T22:47:13.874Z"
   },
   {
    "duration": 316,
    "start_time": "2024-11-17T22:47:30.045Z"
   },
   {
    "duration": 14,
    "start_time": "2024-11-17T22:47:30.448Z"
   },
   {
    "duration": 10,
    "start_time": "2024-11-17T22:47:30.644Z"
   },
   {
    "duration": 10,
    "start_time": "2024-11-17T22:47:30.927Z"
   },
   {
    "duration": 7,
    "start_time": "2024-11-17T22:47:31.092Z"
   },
   {
    "duration": 18,
    "start_time": "2024-11-17T22:47:31.908Z"
   },
   {
    "duration": 17,
    "start_time": "2024-11-17T22:47:32.074Z"
   },
   {
    "duration": 17,
    "start_time": "2024-11-17T22:47:32.454Z"
   },
   {
    "duration": 12,
    "start_time": "2024-11-17T22:48:49.400Z"
   },
   {
    "duration": 4,
    "start_time": "2024-11-17T22:49:28.869Z"
   },
   {
    "duration": 8,
    "start_time": "2024-11-17T22:49:29.405Z"
   },
   {
    "duration": 4,
    "start_time": "2024-11-17T22:49:30.145Z"
   },
   {
    "duration": 12,
    "start_time": "2024-11-17T22:49:31.797Z"
   },
   {
    "duration": 4,
    "start_time": "2024-11-17T23:14:18.066Z"
   },
   {
    "duration": 3,
    "start_time": "2024-11-17T23:14:35.618Z"
   },
   {
    "duration": 177,
    "start_time": "2024-11-17T23:14:45.734Z"
   },
   {
    "duration": 15,
    "start_time": "2024-11-17T23:15:13.718Z"
   },
   {
    "duration": 10,
    "start_time": "2024-11-17T23:15:23.609Z"
   },
   {
    "duration": 5,
    "start_time": "2024-11-17T23:16:00.658Z"
   },
   {
    "duration": 286,
    "start_time": "2024-11-17T23:16:53.614Z"
   },
   {
    "duration": 16,
    "start_time": "2024-11-17T23:16:53.902Z"
   },
   {
    "duration": 10,
    "start_time": "2024-11-17T23:16:53.919Z"
   },
   {
    "duration": 11,
    "start_time": "2024-11-17T23:16:53.930Z"
   },
   {
    "duration": 7,
    "start_time": "2024-11-17T23:16:53.943Z"
   },
   {
    "duration": 19,
    "start_time": "2024-11-17T23:16:53.952Z"
   },
   {
    "duration": 18,
    "start_time": "2024-11-17T23:16:53.972Z"
   },
   {
    "duration": 37,
    "start_time": "2024-11-17T23:16:53.991Z"
   },
   {
    "duration": 13,
    "start_time": "2024-11-17T23:16:54.029Z"
   },
   {
    "duration": 3,
    "start_time": "2024-11-17T23:16:54.043Z"
   },
   {
    "duration": 7,
    "start_time": "2024-11-17T23:16:54.048Z"
   },
   {
    "duration": 4,
    "start_time": "2024-11-17T23:16:54.057Z"
   },
   {
    "duration": 3,
    "start_time": "2024-11-17T23:16:54.063Z"
   },
   {
    "duration": 14,
    "start_time": "2024-11-17T23:16:54.069Z"
   },
   {
    "duration": 45,
    "start_time": "2024-11-17T23:16:54.084Z"
   },
   {
    "duration": 5,
    "start_time": "2024-11-17T23:16:54.131Z"
   },
   {
    "duration": 4,
    "start_time": "2024-11-17T23:17:49.113Z"
   },
   {
    "duration": 13,
    "start_time": "2024-11-17T23:17:58.182Z"
   },
   {
    "duration": 4,
    "start_time": "2024-11-17T23:18:39.735Z"
   },
   {
    "duration": 13,
    "start_time": "2024-11-17T23:18:41.032Z"
   },
   {
    "duration": 5,
    "start_time": "2024-11-17T23:18:42.837Z"
   },
   {
    "duration": 12,
    "start_time": "2024-11-17T23:18:43.400Z"
   },
   {
    "duration": 4,
    "start_time": "2024-11-17T23:20:21.723Z"
   },
   {
    "duration": 3,
    "start_time": "2024-11-17T23:20:31.854Z"
   },
   {
    "duration": 698,
    "start_time": "2024-11-17T23:20:33.098Z"
   },
   {
    "duration": 4,
    "start_time": "2024-11-17T23:20:33.866Z"
   },
   {
    "duration": 12,
    "start_time": "2024-11-17T23:20:35.106Z"
   },
   {
    "duration": 2,
    "start_time": "2024-11-17T23:21:34.544Z"
   },
   {
    "duration": 3,
    "start_time": "2024-11-17T23:21:37.661Z"
   },
   {
    "duration": 13,
    "start_time": "2024-11-17T23:21:37.792Z"
   },
   {
    "duration": 3,
    "start_time": "2024-11-17T23:21:38.580Z"
   },
   {
    "duration": 11,
    "start_time": "2024-11-17T23:21:39.064Z"
   },
   {
    "duration": 5,
    "start_time": "2024-11-17T23:22:03.352Z"
   },
   {
    "duration": 3,
    "start_time": "2024-11-17T23:22:58.469Z"
   },
   {
    "duration": 299,
    "start_time": "2024-11-17T23:23:37.726Z"
   },
   {
    "duration": 15,
    "start_time": "2024-11-17T23:23:38.028Z"
   },
   {
    "duration": 8,
    "start_time": "2024-11-17T23:23:38.045Z"
   },
   {
    "duration": 9,
    "start_time": "2024-11-17T23:23:38.054Z"
   },
   {
    "duration": 6,
    "start_time": "2024-11-17T23:23:38.066Z"
   },
   {
    "duration": 17,
    "start_time": "2024-11-17T23:23:38.075Z"
   },
   {
    "duration": 42,
    "start_time": "2024-11-17T23:23:38.093Z"
   },
   {
    "duration": 17,
    "start_time": "2024-11-17T23:23:38.137Z"
   },
   {
    "duration": 13,
    "start_time": "2024-11-17T23:23:38.156Z"
   },
   {
    "duration": 3,
    "start_time": "2024-11-17T23:23:38.170Z"
   },
   {
    "duration": 7,
    "start_time": "2024-11-17T23:23:38.175Z"
   },
   {
    "duration": 5,
    "start_time": "2024-11-17T23:23:38.184Z"
   },
   {
    "duration": 34,
    "start_time": "2024-11-17T23:23:38.191Z"
   },
   {
    "duration": 2,
    "start_time": "2024-11-17T23:23:38.227Z"
   },
   {
    "duration": 2,
    "start_time": "2024-11-17T23:23:38.231Z"
   },
   {
    "duration": 11,
    "start_time": "2024-11-17T23:23:38.235Z"
   },
   {
    "duration": 4,
    "start_time": "2024-11-17T23:24:12.190Z"
   },
   {
    "duration": 290,
    "start_time": "2024-11-17T23:24:44.022Z"
   },
   {
    "duration": 19,
    "start_time": "2024-11-17T23:24:44.314Z"
   },
   {
    "duration": 8,
    "start_time": "2024-11-17T23:24:44.335Z"
   },
   {
    "duration": 10,
    "start_time": "2024-11-17T23:24:44.356Z"
   },
   {
    "duration": 7,
    "start_time": "2024-11-17T23:24:44.367Z"
   },
   {
    "duration": 18,
    "start_time": "2024-11-17T23:24:44.375Z"
   },
   {
    "duration": 17,
    "start_time": "2024-11-17T23:24:44.394Z"
   },
   {
    "duration": 26,
    "start_time": "2024-11-17T23:24:44.412Z"
   },
   {
    "duration": 12,
    "start_time": "2024-11-17T23:24:44.440Z"
   },
   {
    "duration": 2,
    "start_time": "2024-11-17T23:24:44.455Z"
   },
   {
    "duration": 8,
    "start_time": "2024-11-17T23:24:44.459Z"
   },
   {
    "duration": 4,
    "start_time": "2024-11-17T23:24:44.469Z"
   },
   {
    "duration": 4,
    "start_time": "2024-11-17T23:24:44.475Z"
   },
   {
    "duration": 3,
    "start_time": "2024-11-17T23:24:44.480Z"
   },
   {
    "duration": 42,
    "start_time": "2024-11-17T23:24:44.484Z"
   },
   {
    "duration": 12,
    "start_time": "2024-11-17T23:24:44.528Z"
   },
   {
    "duration": 4,
    "start_time": "2024-11-17T23:24:44.542Z"
   },
   {
    "duration": 5,
    "start_time": "2024-11-17T23:25:11.873Z"
   },
   {
    "duration": 5,
    "start_time": "2024-11-17T23:25:16.420Z"
   },
   {
    "duration": 5,
    "start_time": "2024-11-17T23:25:21.330Z"
   },
   {
    "duration": 6,
    "start_time": "2024-11-17T23:25:27.140Z"
   },
   {
    "duration": 4,
    "start_time": "2024-11-17T23:25:54.472Z"
   },
   {
    "duration": 6,
    "start_time": "2024-11-17T23:27:06.589Z"
   },
   {
    "duration": 6,
    "start_time": "2024-11-17T23:27:27.573Z"
   },
   {
    "duration": 364,
    "start_time": "2024-11-17T23:28:28.348Z"
   },
   {
    "duration": 15,
    "start_time": "2024-11-17T23:28:48.033Z"
   },
   {
    "duration": 10,
    "start_time": "2024-11-17T23:28:55.202Z"
   },
   {
    "duration": 12,
    "start_time": "2024-11-17T23:29:22.085Z"
   },
   {
    "duration": 19,
    "start_time": "2024-11-17T23:29:37.273Z"
   },
   {
    "duration": 6,
    "start_time": "2024-11-17T23:29:52.640Z"
   },
   {
    "duration": 7,
    "start_time": "2024-11-17T23:30:47.335Z"
   },
   {
    "duration": 3,
    "start_time": "2024-11-17T23:35:12.954Z"
   },
   {
    "duration": 44,
    "start_time": "2024-11-17T23:35:14.523Z"
   },
   {
    "duration": 3,
    "start_time": "2024-11-17T23:35:25.111Z"
   },
   {
    "duration": 12,
    "start_time": "2024-11-17T23:35:25.242Z"
   },
   {
    "duration": 3,
    "start_time": "2024-11-17T23:41:01.801Z"
   },
   {
    "duration": 3,
    "start_time": "2024-11-17T23:41:02.730Z"
   },
   {
    "duration": 3,
    "start_time": "2024-11-17T23:41:02.928Z"
   },
   {
    "duration": 3,
    "start_time": "2024-11-17T23:41:04.253Z"
   },
   {
    "duration": 284,
    "start_time": "2024-11-17T23:41:04.777Z"
   },
   {
    "duration": 269,
    "start_time": "2024-11-17T23:43:36.107Z"
   },
   {
    "duration": 16,
    "start_time": "2024-11-17T23:43:36.378Z"
   },
   {
    "duration": 10,
    "start_time": "2024-11-17T23:43:36.395Z"
   },
   {
    "duration": 16,
    "start_time": "2024-11-17T23:43:36.408Z"
   },
   {
    "duration": 9,
    "start_time": "2024-11-17T23:43:36.426Z"
   },
   {
    "duration": 19,
    "start_time": "2024-11-17T23:43:36.437Z"
   },
   {
    "duration": 18,
    "start_time": "2024-11-17T23:43:36.458Z"
   },
   {
    "duration": 16,
    "start_time": "2024-11-17T23:43:36.477Z"
   },
   {
    "duration": 32,
    "start_time": "2024-11-17T23:43:36.494Z"
   },
   {
    "duration": 3,
    "start_time": "2024-11-17T23:43:36.529Z"
   },
   {
    "duration": 8,
    "start_time": "2024-11-17T23:43:36.534Z"
   },
   {
    "duration": 4,
    "start_time": "2024-11-17T23:43:36.543Z"
   },
   {
    "duration": 3,
    "start_time": "2024-11-17T23:43:36.548Z"
   },
   {
    "duration": 16,
    "start_time": "2024-11-17T23:43:36.552Z"
   },
   {
    "duration": 1,
    "start_time": "2024-11-17T23:43:36.570Z"
   },
   {
    "duration": 11,
    "start_time": "2024-11-17T23:43:36.573Z"
   },
   {
    "duration": 39,
    "start_time": "2024-11-17T23:43:36.585Z"
   },
   {
    "duration": 5,
    "start_time": "2024-11-17T23:43:36.626Z"
   },
   {
    "duration": 5,
    "start_time": "2024-11-17T23:43:36.633Z"
   },
   {
    "duration": 309,
    "start_time": "2024-11-17T23:44:08.755Z"
   },
   {
    "duration": 14,
    "start_time": "2024-11-17T23:44:09.066Z"
   },
   {
    "duration": 8,
    "start_time": "2024-11-17T23:44:09.081Z"
   },
   {
    "duration": 9,
    "start_time": "2024-11-17T23:44:09.091Z"
   },
   {
    "duration": 6,
    "start_time": "2024-11-17T23:44:09.101Z"
   },
   {
    "duration": 32,
    "start_time": "2024-11-17T23:44:09.108Z"
   },
   {
    "duration": 18,
    "start_time": "2024-11-17T23:44:09.141Z"
   },
   {
    "duration": 17,
    "start_time": "2024-11-17T23:44:09.160Z"
   },
   {
    "duration": 13,
    "start_time": "2024-11-17T23:44:09.178Z"
   },
   {
    "duration": 28,
    "start_time": "2024-11-17T23:44:09.195Z"
   },
   {
    "duration": 8,
    "start_time": "2024-11-17T23:44:09.225Z"
   },
   {
    "duration": 5,
    "start_time": "2024-11-17T23:44:09.234Z"
   },
   {
    "duration": 2,
    "start_time": "2024-11-17T23:44:09.242Z"
   },
   {
    "duration": 14,
    "start_time": "2024-11-17T23:44:09.246Z"
   },
   {
    "duration": 2,
    "start_time": "2024-11-17T23:44:09.261Z"
   },
   {
    "duration": 10,
    "start_time": "2024-11-17T23:44:09.265Z"
   },
   {
    "duration": 4,
    "start_time": "2024-11-17T23:44:09.277Z"
   },
   {
    "duration": 47,
    "start_time": "2024-11-17T23:44:09.282Z"
   },
   {
    "duration": 5,
    "start_time": "2024-11-17T23:44:09.331Z"
   },
   {
    "duration": 3,
    "start_time": "2024-11-17T23:45:00.373Z"
   },
   {
    "duration": 12,
    "start_time": "2024-11-17T23:45:01.415Z"
   },
   {
    "duration": 14,
    "start_time": "2024-11-17T23:45:35.438Z"
   },
   {
    "duration": 4,
    "start_time": "2024-11-17T23:46:48.376Z"
   },
   {
    "duration": 284,
    "start_time": "2024-11-17T23:46:56.876Z"
   },
   {
    "duration": 14,
    "start_time": "2024-11-17T23:46:57.163Z"
   },
   {
    "duration": 8,
    "start_time": "2024-11-17T23:46:57.179Z"
   },
   {
    "duration": 8,
    "start_time": "2024-11-17T23:46:57.190Z"
   },
   {
    "duration": 7,
    "start_time": "2024-11-17T23:46:57.200Z"
   },
   {
    "duration": 32,
    "start_time": "2024-11-17T23:46:57.208Z"
   },
   {
    "duration": 18,
    "start_time": "2024-11-17T23:46:57.241Z"
   },
   {
    "duration": 17,
    "start_time": "2024-11-17T23:46:57.260Z"
   },
   {
    "duration": 12,
    "start_time": "2024-11-17T23:46:57.278Z"
   },
   {
    "duration": 3,
    "start_time": "2024-11-17T23:46:57.293Z"
   },
   {
    "duration": 34,
    "start_time": "2024-11-17T23:46:57.297Z"
   },
   {
    "duration": 4,
    "start_time": "2024-11-17T23:46:57.333Z"
   },
   {
    "duration": 3,
    "start_time": "2024-11-17T23:46:57.339Z"
   },
   {
    "duration": 14,
    "start_time": "2024-11-17T23:46:57.343Z"
   },
   {
    "duration": 3,
    "start_time": "2024-11-17T23:46:57.359Z"
   },
   {
    "duration": 11,
    "start_time": "2024-11-17T23:46:57.364Z"
   },
   {
    "duration": 14,
    "start_time": "2024-11-17T23:46:57.376Z"
   },
   {
    "duration": 290,
    "start_time": "2024-11-18T22:00:17.065Z"
   },
   {
    "duration": 25,
    "start_time": "2024-11-18T22:00:17.357Z"
   },
   {
    "duration": 16,
    "start_time": "2024-11-18T22:00:17.384Z"
   },
   {
    "duration": 16,
    "start_time": "2024-11-18T22:00:17.402Z"
   },
   {
    "duration": 12,
    "start_time": "2024-11-18T22:00:17.420Z"
   },
   {
    "duration": 18,
    "start_time": "2024-11-18T22:00:17.434Z"
   },
   {
    "duration": 18,
    "start_time": "2024-11-18T22:00:17.454Z"
   },
   {
    "duration": 17,
    "start_time": "2024-11-18T22:00:17.474Z"
   },
   {
    "duration": 14,
    "start_time": "2024-11-18T22:00:17.504Z"
   },
   {
    "duration": 3,
    "start_time": "2024-11-18T22:00:17.521Z"
   },
   {
    "duration": 7,
    "start_time": "2024-11-18T22:00:17.526Z"
   },
   {
    "duration": 5,
    "start_time": "2024-11-18T22:00:17.534Z"
   },
   {
    "duration": 5,
    "start_time": "2024-11-18T22:00:17.540Z"
   },
   {
    "duration": 14,
    "start_time": "2024-11-18T22:00:17.546Z"
   },
   {
    "duration": 3,
    "start_time": "2024-11-18T22:00:17.562Z"
   },
   {
    "duration": 46,
    "start_time": "2024-11-18T22:00:17.568Z"
   },
   {
    "duration": 25,
    "start_time": "2024-11-18T22:00:17.616Z"
   },
   {
    "duration": 306,
    "start_time": "2024-11-18T22:08:34.208Z"
   },
   {
    "duration": 14,
    "start_time": "2024-11-18T22:08:34.517Z"
   },
   {
    "duration": 9,
    "start_time": "2024-11-18T22:08:34.533Z"
   },
   {
    "duration": 10,
    "start_time": "2024-11-18T22:08:34.544Z"
   },
   {
    "duration": 6,
    "start_time": "2024-11-18T22:08:34.555Z"
   },
   {
    "duration": 19,
    "start_time": "2024-11-18T22:08:34.563Z"
   },
   {
    "duration": 20,
    "start_time": "2024-11-18T22:08:34.606Z"
   },
   {
    "duration": 18,
    "start_time": "2024-11-18T22:08:34.628Z"
   },
   {
    "duration": 14,
    "start_time": "2024-11-18T22:08:34.648Z"
   },
   {
    "duration": 4,
    "start_time": "2024-11-18T22:08:34.666Z"
   },
   {
    "duration": 37,
    "start_time": "2024-11-18T22:08:34.671Z"
   },
   {
    "duration": 5,
    "start_time": "2024-11-18T22:08:34.710Z"
   },
   {
    "duration": 3,
    "start_time": "2024-11-18T22:08:34.717Z"
   },
   {
    "duration": 13,
    "start_time": "2024-11-18T22:08:34.721Z"
   },
   {
    "duration": 3,
    "start_time": "2024-11-18T22:08:34.736Z"
   },
   {
    "duration": 11,
    "start_time": "2024-11-18T22:08:34.741Z"
   },
   {
    "duration": 14,
    "start_time": "2024-11-18T22:08:34.753Z"
   },
   {
    "duration": 54,
    "start_time": "2024-11-18T22:08:34.769Z"
   },
   {
    "duration": 4,
    "start_time": "2024-11-18T22:08:51.223Z"
   },
   {
    "duration": 831,
    "start_time": "2024-11-18T22:09:11.506Z"
   },
   {
    "duration": 4,
    "start_time": "2024-11-18T22:10:35.024Z"
   },
   {
    "duration": 13,
    "start_time": "2024-11-18T22:11:03.789Z"
   },
   {
    "duration": 3,
    "start_time": "2024-11-18T22:12:43.779Z"
   },
   {
    "duration": 11,
    "start_time": "2024-11-18T22:13:02.392Z"
   },
   {
    "duration": 4,
    "start_time": "2024-11-18T22:13:38.455Z"
   },
   {
    "duration": 3,
    "start_time": "2024-11-18T22:13:49.331Z"
   },
   {
    "duration": 322,
    "start_time": "2024-11-18T22:37:56.127Z"
   },
   {
    "duration": 15,
    "start_time": "2024-11-18T22:37:56.451Z"
   },
   {
    "duration": 8,
    "start_time": "2024-11-18T22:37:56.468Z"
   },
   {
    "duration": 10,
    "start_time": "2024-11-18T22:37:56.477Z"
   },
   {
    "duration": 7,
    "start_time": "2024-11-18T22:37:56.504Z"
   },
   {
    "duration": 18,
    "start_time": "2024-11-18T22:37:56.513Z"
   },
   {
    "duration": 5,
    "start_time": "2024-11-18T22:37:56.532Z"
   },
   {
    "duration": 15,
    "start_time": "2024-11-18T22:37:56.539Z"
   },
   {
    "duration": 16,
    "start_time": "2024-11-18T22:37:56.556Z"
   },
   {
    "duration": 38,
    "start_time": "2024-11-18T22:37:56.574Z"
   },
   {
    "duration": 4,
    "start_time": "2024-11-18T22:37:56.614Z"
   },
   {
    "duration": 8,
    "start_time": "2024-11-18T22:37:56.619Z"
   },
   {
    "duration": 5,
    "start_time": "2024-11-18T22:37:56.628Z"
   },
   {
    "duration": 3,
    "start_time": "2024-11-18T22:37:56.636Z"
   },
   {
    "duration": 14,
    "start_time": "2024-11-18T22:37:56.640Z"
   },
   {
    "duration": 4,
    "start_time": "2024-11-18T22:37:56.655Z"
   },
   {
    "duration": 47,
    "start_time": "2024-11-18T22:37:56.661Z"
   },
   {
    "duration": 5,
    "start_time": "2024-11-18T22:37:56.710Z"
   },
   {
    "duration": 14,
    "start_time": "2024-11-18T22:38:01.674Z"
   },
   {
    "duration": 9,
    "start_time": "2024-11-18T22:58:39.816Z"
   },
   {
    "duration": 8,
    "start_time": "2024-11-18T22:58:52.094Z"
   },
   {
    "duration": 319,
    "start_time": "2024-11-18T22:59:08.141Z"
   },
   {
    "duration": 21,
    "start_time": "2024-11-18T22:59:08.462Z"
   },
   {
    "duration": 10,
    "start_time": "2024-11-18T22:59:08.484Z"
   },
   {
    "duration": 12,
    "start_time": "2024-11-18T22:59:08.504Z"
   },
   {
    "duration": 7,
    "start_time": "2024-11-18T22:59:08.518Z"
   },
   {
    "duration": 19,
    "start_time": "2024-11-18T22:59:08.527Z"
   },
   {
    "duration": 5,
    "start_time": "2024-11-18T22:59:08.547Z"
   },
   {
    "duration": 15,
    "start_time": "2024-11-18T22:59:08.554Z"
   },
   {
    "duration": 41,
    "start_time": "2024-11-18T22:59:08.571Z"
   },
   {
    "duration": 12,
    "start_time": "2024-11-18T22:59:08.615Z"
   },
   {
    "duration": 4,
    "start_time": "2024-11-18T22:59:08.629Z"
   },
   {
    "duration": 8,
    "start_time": "2024-11-18T22:59:08.634Z"
   },
   {
    "duration": 4,
    "start_time": "2024-11-18T22:59:08.643Z"
   },
   {
    "duration": 4,
    "start_time": "2024-11-18T22:59:08.649Z"
   },
   {
    "duration": 15,
    "start_time": "2024-11-18T22:59:08.654Z"
   },
   {
    "duration": 37,
    "start_time": "2024-11-18T22:59:08.670Z"
   },
   {
    "duration": 13,
    "start_time": "2024-11-18T22:59:08.709Z"
   },
   {
    "duration": 9,
    "start_time": "2024-11-18T22:59:08.723Z"
   },
   {
    "duration": 4,
    "start_time": "2024-11-18T22:59:08.733Z"
   },
   {
    "duration": 5,
    "start_time": "2024-11-18T23:01:15.048Z"
   },
   {
    "duration": 7,
    "start_time": "2024-11-18T23:01:22.144Z"
   },
   {
    "duration": 176,
    "start_time": "2024-11-18T23:01:40.905Z"
   },
   {
    "duration": 9,
    "start_time": "2024-11-18T23:01:46.612Z"
   },
   {
    "duration": 4,
    "start_time": "2024-11-18T23:02:15.297Z"
   },
   {
    "duration": 10,
    "start_time": "2024-11-18T23:02:36.655Z"
   },
   {
    "duration": 4,
    "start_time": "2024-11-18T23:03:14.611Z"
   },
   {
    "duration": 17,
    "start_time": "2024-11-18T23:03:46.949Z"
   },
   {
    "duration": 5,
    "start_time": "2024-11-18T23:08:41.322Z"
   },
   {
    "duration": 4,
    "start_time": "2024-11-18T23:08:45.942Z"
   },
   {
    "duration": 16,
    "start_time": "2024-11-18T23:12:58.409Z"
   },
   {
    "duration": 4,
    "start_time": "2024-11-18T23:13:35.804Z"
   },
   {
    "duration": 3,
    "start_time": "2024-11-18T23:15:06.868Z"
   },
   {
    "duration": 9,
    "start_time": "2024-11-18T23:15:15.858Z"
   },
   {
    "duration": 21,
    "start_time": "2024-11-18T23:16:03.015Z"
   },
   {
    "duration": 10,
    "start_time": "2024-11-18T23:17:09.624Z"
   },
   {
    "duration": 10,
    "start_time": "2024-11-18T23:17:20.624Z"
   },
   {
    "duration": 9,
    "start_time": "2024-11-18T23:17:28.146Z"
   },
   {
    "duration": 8,
    "start_time": "2024-11-18T23:17:37.918Z"
   },
   {
    "duration": 468,
    "start_time": "2024-11-18T23:24:07.371Z"
   },
   {
    "duration": 601,
    "start_time": "2024-11-18T23:27:25.814Z"
   },
   {
    "duration": 23,
    "start_time": "2024-11-18T23:27:45.014Z"
   },
   {
    "duration": 10,
    "start_time": "2024-11-18T23:29:30.839Z"
   },
   {
    "duration": 293,
    "start_time": "2024-11-18T23:30:42.565Z"
   },
   {
    "duration": 16,
    "start_time": "2024-11-18T23:30:42.860Z"
   },
   {
    "duration": 9,
    "start_time": "2024-11-18T23:30:42.878Z"
   },
   {
    "duration": 24,
    "start_time": "2024-11-18T23:30:42.889Z"
   },
   {
    "duration": 8,
    "start_time": "2024-11-18T23:30:42.916Z"
   },
   {
    "duration": 10,
    "start_time": "2024-11-18T23:30:42.925Z"
   },
   {
    "duration": 10,
    "start_time": "2024-11-18T23:30:42.937Z"
   },
   {
    "duration": 8,
    "start_time": "2024-11-18T23:30:42.948Z"
   },
   {
    "duration": 7,
    "start_time": "2024-11-18T23:30:42.958Z"
   },
   {
    "duration": 48,
    "start_time": "2024-11-18T23:30:42.967Z"
   },
   {
    "duration": 6,
    "start_time": "2024-11-18T23:30:43.017Z"
   },
   {
    "duration": 14,
    "start_time": "2024-11-18T23:30:43.025Z"
   },
   {
    "duration": 16,
    "start_time": "2024-11-18T23:30:43.041Z"
   },
   {
    "duration": 12,
    "start_time": "2024-11-18T23:30:43.060Z"
   },
   {
    "duration": 3,
    "start_time": "2024-11-18T23:30:43.073Z"
   },
   {
    "duration": 37,
    "start_time": "2024-11-18T23:30:43.077Z"
   },
   {
    "duration": 5,
    "start_time": "2024-11-18T23:30:43.116Z"
   },
   {
    "duration": 3,
    "start_time": "2024-11-18T23:30:43.123Z"
   },
   {
    "duration": 14,
    "start_time": "2024-11-18T23:30:43.128Z"
   },
   {
    "duration": 4,
    "start_time": "2024-11-18T23:30:43.143Z"
   },
   {
    "duration": 11,
    "start_time": "2024-11-18T23:30:43.149Z"
   },
   {
    "duration": 51,
    "start_time": "2024-11-18T23:30:43.161Z"
   },
   {
    "duration": 3,
    "start_time": "2024-11-18T23:30:43.214Z"
   },
   {
    "duration": 21,
    "start_time": "2024-11-18T23:30:43.221Z"
   },
   {
    "duration": 485,
    "start_time": "2024-11-18T23:30:43.244Z"
   },
   {
    "duration": 225,
    "start_time": "2024-11-18T23:30:43.731Z"
   },
   {
    "duration": 0,
    "start_time": "2024-11-18T23:30:43.958Z"
   },
   {
    "duration": 0,
    "start_time": "2024-11-18T23:30:43.959Z"
   },
   {
    "duration": 11,
    "start_time": "2024-11-18T23:30:52.948Z"
   },
   {
    "duration": 15289,
    "start_time": "2024-11-18T23:30:53.724Z"
   },
   {
    "duration": 12,
    "start_time": "2024-11-18T23:31:09.015Z"
   },
   {
    "duration": 15,
    "start_time": "2024-11-18T23:31:24.367Z"
   },
   {
    "duration": 23,
    "start_time": "2024-11-18T23:31:47.647Z"
   },
   {
    "duration": 318,
    "start_time": "2024-11-18T23:35:24.512Z"
   },
   {
    "duration": 14,
    "start_time": "2024-11-18T23:35:24.832Z"
   },
   {
    "duration": 9,
    "start_time": "2024-11-18T23:35:24.848Z"
   },
   {
    "duration": 10,
    "start_time": "2024-11-18T23:35:24.859Z"
   },
   {
    "duration": 6,
    "start_time": "2024-11-18T23:35:24.871Z"
   },
   {
    "duration": 30,
    "start_time": "2024-11-18T23:35:24.878Z"
   },
   {
    "duration": 10,
    "start_time": "2024-11-18T23:35:24.910Z"
   },
   {
    "duration": 8,
    "start_time": "2024-11-18T23:35:24.922Z"
   },
   {
    "duration": 9,
    "start_time": "2024-11-18T23:35:24.932Z"
   },
   {
    "duration": 20,
    "start_time": "2024-11-18T23:35:24.944Z"
   },
   {
    "duration": 5,
    "start_time": "2024-11-18T23:35:24.966Z"
   },
   {
    "duration": 16,
    "start_time": "2024-11-18T23:35:25.006Z"
   },
   {
    "duration": 16,
    "start_time": "2024-11-18T23:35:25.023Z"
   },
   {
    "duration": 12,
    "start_time": "2024-11-18T23:35:25.041Z"
   },
   {
    "duration": 4,
    "start_time": "2024-11-18T23:35:25.055Z"
   },
   {
    "duration": 8,
    "start_time": "2024-11-18T23:35:25.060Z"
   },
   {
    "duration": 37,
    "start_time": "2024-11-18T23:35:25.070Z"
   },
   {
    "duration": 3,
    "start_time": "2024-11-18T23:35:25.109Z"
   },
   {
    "duration": 16,
    "start_time": "2024-11-18T23:35:25.114Z"
   },
   {
    "duration": 4,
    "start_time": "2024-11-18T23:35:25.131Z"
   },
   {
    "duration": 10,
    "start_time": "2024-11-18T23:35:25.138Z"
   },
   {
    "duration": 18,
    "start_time": "2024-11-18T23:35:25.150Z"
   },
   {
    "duration": 36,
    "start_time": "2024-11-18T23:35:25.170Z"
   },
   {
    "duration": 518,
    "start_time": "2024-11-18T23:35:25.208Z"
   },
   {
    "duration": 15773,
    "start_time": "2024-11-18T23:35:25.728Z"
   },
   {
    "duration": 0,
    "start_time": "2024-11-18T23:35:41.503Z"
   },
   {
    "duration": 0,
    "start_time": "2024-11-18T23:35:41.503Z"
   },
   {
    "duration": 15583,
    "start_time": "2024-11-18T23:38:35.340Z"
   },
   {
    "duration": 0,
    "start_time": "2024-11-18T23:38:50.924Z"
   },
   {
    "duration": 3,
    "start_time": "2024-11-18T23:39:57.819Z"
   },
   {
    "duration": 3,
    "start_time": "2024-11-18T23:40:39.912Z"
   },
   {
    "duration": 10,
    "start_time": "2024-11-18T23:41:22.820Z"
   },
   {
    "duration": 204,
    "start_time": "2024-11-18T23:43:25.691Z"
   },
   {
    "duration": 5,
    "start_time": "2024-11-18T23:43:30.366Z"
   },
   {
    "duration": 3,
    "start_time": "2024-11-18T23:43:32.273Z"
   },
   {
    "duration": 2,
    "start_time": "2024-11-18T23:43:33.984Z"
   },
   {
    "duration": 15226,
    "start_time": "2024-11-18T23:43:34.954Z"
   },
   {
    "duration": 3,
    "start_time": "2024-11-18T23:43:58.396Z"
   },
   {
    "duration": 3,
    "start_time": "2024-11-18T23:44:00.686Z"
   },
   {
    "duration": 11,
    "start_time": "2024-11-18T23:44:04.595Z"
   },
   {
    "duration": 15250,
    "start_time": "2024-11-18T23:44:28.222Z"
   },
   {
    "duration": 3,
    "start_time": "2024-11-18T23:44:58.029Z"
   },
   {
    "duration": 3,
    "start_time": "2024-11-18T23:44:59.703Z"
   },
   {
    "duration": 11,
    "start_time": "2024-11-18T23:45:07.127Z"
   },
   {
    "duration": 23,
    "start_time": "2024-11-18T23:45:28.663Z"
   },
   {
    "duration": 312,
    "start_time": "2024-11-18T23:46:07.657Z"
   },
   {
    "duration": 16,
    "start_time": "2024-11-18T23:46:07.971Z"
   },
   {
    "duration": 17,
    "start_time": "2024-11-18T23:46:07.989Z"
   },
   {
    "duration": 12,
    "start_time": "2024-11-18T23:46:08.008Z"
   },
   {
    "duration": 9,
    "start_time": "2024-11-18T23:46:08.022Z"
   },
   {
    "duration": 13,
    "start_time": "2024-11-18T23:46:08.032Z"
   },
   {
    "duration": 11,
    "start_time": "2024-11-18T23:46:08.047Z"
   },
   {
    "duration": 9,
    "start_time": "2024-11-18T23:46:08.060Z"
   },
   {
    "duration": 38,
    "start_time": "2024-11-18T23:46:08.070Z"
   },
   {
    "duration": 18,
    "start_time": "2024-11-18T23:46:08.111Z"
   },
   {
    "duration": 5,
    "start_time": "2024-11-18T23:46:08.130Z"
   },
   {
    "duration": 14,
    "start_time": "2024-11-18T23:46:08.137Z"
   },
   {
    "duration": 16,
    "start_time": "2024-11-18T23:46:08.153Z"
   },
   {
    "duration": 37,
    "start_time": "2024-11-18T23:46:08.170Z"
   },
   {
    "duration": 3,
    "start_time": "2024-11-18T23:46:08.209Z"
   },
   {
    "duration": 9,
    "start_time": "2024-11-18T23:46:08.213Z"
   },
   {
    "duration": 6,
    "start_time": "2024-11-18T23:46:08.223Z"
   },
   {
    "duration": 3,
    "start_time": "2024-11-18T23:46:08.231Z"
   },
   {
    "duration": 15,
    "start_time": "2024-11-18T23:46:08.235Z"
   },
   {
    "duration": 4,
    "start_time": "2024-11-18T23:46:08.251Z"
   },
   {
    "duration": 49,
    "start_time": "2024-11-18T23:46:08.257Z"
   },
   {
    "duration": 17,
    "start_time": "2024-11-18T23:46:08.308Z"
   },
   {
    "duration": 3,
    "start_time": "2024-11-18T23:46:08.326Z"
   },
   {
    "duration": 3,
    "start_time": "2024-11-18T23:46:08.331Z"
   },
   {
    "duration": 495,
    "start_time": "2024-11-18T23:46:08.336Z"
   },
   {
    "duration": 229,
    "start_time": "2024-11-18T23:46:08.833Z"
   },
   {
    "duration": 0,
    "start_time": "2024-11-18T23:46:09.064Z"
   },
   {
    "duration": 0,
    "start_time": "2024-11-18T23:46:09.069Z"
   },
   {
    "duration": 0,
    "start_time": "2024-11-18T23:46:09.070Z"
   },
   {
    "duration": 0,
    "start_time": "2024-11-18T23:46:09.071Z"
   },
   {
    "duration": 0,
    "start_time": "2024-11-18T23:46:09.072Z"
   },
   {
    "duration": 15310,
    "start_time": "2024-11-18T23:47:18.380Z"
   },
   {
    "duration": 3,
    "start_time": "2024-11-18T23:47:35.718Z"
   },
   {
    "duration": 4,
    "start_time": "2024-11-18T23:47:36.419Z"
   },
   {
    "duration": 10,
    "start_time": "2024-11-18T23:47:37.204Z"
   },
   {
    "duration": 24,
    "start_time": "2024-11-18T23:47:42.287Z"
   },
   {
    "duration": 293,
    "start_time": "2024-11-18T23:48:43.257Z"
   },
   {
    "duration": 15,
    "start_time": "2024-11-18T23:48:43.874Z"
   },
   {
    "duration": 9,
    "start_time": "2024-11-18T23:48:44.083Z"
   },
   {
    "duration": 10,
    "start_time": "2024-11-18T23:48:44.182Z"
   },
   {
    "duration": 7,
    "start_time": "2024-11-18T23:48:44.352Z"
   },
   {
    "duration": 11,
    "start_time": "2024-11-18T23:48:44.502Z"
   },
   {
    "duration": 9,
    "start_time": "2024-11-18T23:48:46.010Z"
   },
   {
    "duration": 318,
    "start_time": "2024-11-18T23:49:12.610Z"
   },
   {
    "duration": 18,
    "start_time": "2024-11-18T23:49:12.991Z"
   },
   {
    "duration": 11,
    "start_time": "2024-11-18T23:49:13.127Z"
   },
   {
    "duration": 10,
    "start_time": "2024-11-18T23:49:13.681Z"
   },
   {
    "duration": 7,
    "start_time": "2024-11-18T23:49:13.789Z"
   },
   {
    "duration": 19,
    "start_time": "2024-11-18T23:49:15.084Z"
   },
   {
    "duration": 5,
    "start_time": "2024-11-18T23:49:17.828Z"
   },
   {
    "duration": 16,
    "start_time": "2024-11-18T23:49:19.010Z"
   },
   {
    "duration": 16,
    "start_time": "2024-11-18T23:49:21.544Z"
   },
   {
    "duration": 13,
    "start_time": "2024-11-18T23:49:25.501Z"
   },
   {
    "duration": 3,
    "start_time": "2024-11-18T23:49:39.115Z"
   },
   {
    "duration": 10,
    "start_time": "2024-11-18T23:49:44.610Z"
   },
   {
    "duration": 4,
    "start_time": "2024-11-18T23:49:50.844Z"
   },
   {
    "duration": 3,
    "start_time": "2024-11-18T23:49:57.234Z"
   },
   {
    "duration": 14,
    "start_time": "2024-11-18T23:50:02.582Z"
   },
   {
    "duration": 4,
    "start_time": "2024-11-18T23:50:04.208Z"
   },
   {
    "duration": 12,
    "start_time": "2024-11-18T23:50:05.815Z"
   },
   {
    "duration": 4,
    "start_time": "2024-11-18T23:50:35.737Z"
   },
   {
    "duration": 5,
    "start_time": "2024-11-18T23:50:43.065Z"
   },
   {
    "duration": 4,
    "start_time": "2024-11-18T23:58:27.823Z"
   },
   {
    "duration": 11,
    "start_time": "2024-11-18T23:58:38.486Z"
   },
   {
    "duration": 21,
    "start_time": "2024-11-18T23:58:48.989Z"
   },
   {
    "duration": 4,
    "start_time": "2024-11-18T23:58:51.270Z"
   },
   {
    "duration": 3,
    "start_time": "2024-11-18T23:58:51.900Z"
   },
   {
    "duration": 478,
    "start_time": "2024-11-18T23:58:55.488Z"
   },
   {
    "duration": 16159,
    "start_time": "2024-11-18T23:58:56.381Z"
   },
   {
    "duration": 3,
    "start_time": "2024-11-18T23:59:12.542Z"
   },
   {
    "duration": 4,
    "start_time": "2024-11-18T23:59:12.547Z"
   },
   {
    "duration": 11,
    "start_time": "2024-11-18T23:59:16.667Z"
   },
   {
    "duration": 309,
    "start_time": "2024-11-19T00:04:48.443Z"
   },
   {
    "duration": 16,
    "start_time": "2024-11-19T00:04:48.754Z"
   },
   {
    "duration": 8,
    "start_time": "2024-11-19T00:04:48.771Z"
   },
   {
    "duration": 10,
    "start_time": "2024-11-19T00:04:48.782Z"
   },
   {
    "duration": 16,
    "start_time": "2024-11-19T00:04:48.793Z"
   },
   {
    "duration": 22,
    "start_time": "2024-11-19T00:04:48.811Z"
   },
   {
    "duration": 5,
    "start_time": "2024-11-19T00:04:48.835Z"
   },
   {
    "duration": 15,
    "start_time": "2024-11-19T00:04:48.842Z"
   },
   {
    "duration": 12,
    "start_time": "2024-11-19T00:04:48.859Z"
   },
   {
    "duration": 4,
    "start_time": "2024-11-19T00:04:48.874Z"
   },
   {
    "duration": 8,
    "start_time": "2024-11-19T00:04:48.906Z"
   },
   {
    "duration": 4,
    "start_time": "2024-11-19T00:04:48.915Z"
   },
   {
    "duration": 3,
    "start_time": "2024-11-19T00:04:48.921Z"
   },
   {
    "duration": 12,
    "start_time": "2024-11-19T00:04:48.926Z"
   },
   {
    "duration": 3,
    "start_time": "2024-11-19T00:04:48.940Z"
   },
   {
    "duration": 17,
    "start_time": "2024-11-19T00:04:48.945Z"
   },
   {
    "duration": 3,
    "start_time": "2024-11-19T00:04:48.964Z"
   },
   {
    "duration": 38,
    "start_time": "2024-11-19T00:04:48.968Z"
   },
   {
    "duration": 5,
    "start_time": "2024-11-19T00:04:49.008Z"
   },
   {
    "duration": 3,
    "start_time": "2024-11-19T00:04:49.015Z"
   },
   {
    "duration": 527,
    "start_time": "2024-11-19T00:04:49.019Z"
   },
   {
    "duration": 15971,
    "start_time": "2024-11-19T00:04:49.548Z"
   },
   {
    "duration": 12,
    "start_time": "2024-11-19T00:05:05.521Z"
   },
   {
    "duration": 27,
    "start_time": "2024-11-19T00:05:05.535Z"
   },
   {
    "duration": 4,
    "start_time": "2024-11-19T00:05:05.564Z"
   },
   {
    "duration": 6,
    "start_time": "2024-11-19T00:05:39.894Z"
   },
   {
    "duration": 5,
    "start_time": "2024-11-19T00:06:02.143Z"
   },
   {
    "duration": 5,
    "start_time": "2024-11-19T00:06:09.381Z"
   },
   {
    "duration": 5,
    "start_time": "2024-11-19T00:06:13.152Z"
   },
   {
    "duration": 13,
    "start_time": "2024-11-19T00:06:26.174Z"
   },
   {
    "duration": 12,
    "start_time": "2024-11-19T00:06:30.150Z"
   },
   {
    "duration": 319,
    "start_time": "2024-11-19T00:06:55.127Z"
   },
   {
    "duration": 15,
    "start_time": "2024-11-19T00:06:55.449Z"
   },
   {
    "duration": 9,
    "start_time": "2024-11-19T00:06:55.466Z"
   },
   {
    "duration": 9,
    "start_time": "2024-11-19T00:06:55.476Z"
   },
   {
    "duration": 18,
    "start_time": "2024-11-19T00:06:55.488Z"
   },
   {
    "duration": 17,
    "start_time": "2024-11-19T00:06:55.508Z"
   },
   {
    "duration": 6,
    "start_time": "2024-11-19T00:06:55.527Z"
   },
   {
    "duration": 15,
    "start_time": "2024-11-19T00:06:55.534Z"
   },
   {
    "duration": 13,
    "start_time": "2024-11-19T00:06:55.551Z"
   },
   {
    "duration": 4,
    "start_time": "2024-11-19T00:06:55.565Z"
   },
   {
    "duration": 37,
    "start_time": "2024-11-19T00:06:55.570Z"
   },
   {
    "duration": 5,
    "start_time": "2024-11-19T00:06:55.609Z"
   },
   {
    "duration": 4,
    "start_time": "2024-11-19T00:06:55.615Z"
   },
   {
    "duration": 17,
    "start_time": "2024-11-19T00:06:55.622Z"
   },
   {
    "duration": 4,
    "start_time": "2024-11-19T00:06:55.640Z"
   },
   {
    "duration": 19,
    "start_time": "2024-11-19T00:06:55.646Z"
   },
   {
    "duration": 3,
    "start_time": "2024-11-19T00:06:55.666Z"
   },
   {
    "duration": 35,
    "start_time": "2024-11-19T00:06:55.671Z"
   },
   {
    "duration": 6,
    "start_time": "2024-11-19T00:06:55.707Z"
   },
   {
    "duration": 3,
    "start_time": "2024-11-19T00:06:55.715Z"
   },
   {
    "duration": 518,
    "start_time": "2024-11-19T00:06:55.719Z"
   },
   {
    "duration": 15822,
    "start_time": "2024-11-19T00:06:56.238Z"
   },
   {
    "duration": 13,
    "start_time": "2024-11-19T00:07:12.061Z"
   },
   {
    "duration": 12,
    "start_time": "2024-11-19T00:07:12.076Z"
   },
   {
    "duration": 6,
    "start_time": "2024-11-19T00:07:12.105Z"
   },
   {
    "duration": 6,
    "start_time": "2024-11-19T00:07:28.463Z"
   },
   {
    "duration": 5,
    "start_time": "2024-11-19T00:07:32.348Z"
   },
   {
    "duration": 5,
    "start_time": "2024-11-19T00:07:49.500Z"
   },
   {
    "duration": 326,
    "start_time": "2024-11-19T00:07:56.760Z"
   },
   {
    "duration": 24,
    "start_time": "2024-11-19T00:07:57.089Z"
   },
   {
    "duration": 13,
    "start_time": "2024-11-19T00:07:57.119Z"
   },
   {
    "duration": 17,
    "start_time": "2024-11-19T00:07:57.135Z"
   },
   {
    "duration": 9,
    "start_time": "2024-11-19T00:07:57.154Z"
   },
   {
    "duration": 21,
    "start_time": "2024-11-19T00:07:57.165Z"
   },
   {
    "duration": 19,
    "start_time": "2024-11-19T00:07:57.187Z"
   },
   {
    "duration": 23,
    "start_time": "2024-11-19T00:07:57.208Z"
   },
   {
    "duration": 18,
    "start_time": "2024-11-19T00:07:57.234Z"
   },
   {
    "duration": 7,
    "start_time": "2024-11-19T00:07:57.257Z"
   },
   {
    "duration": 9,
    "start_time": "2024-11-19T00:07:57.267Z"
   },
   {
    "duration": 28,
    "start_time": "2024-11-19T00:07:57.278Z"
   },
   {
    "duration": 4,
    "start_time": "2024-11-19T00:07:57.308Z"
   },
   {
    "duration": 16,
    "start_time": "2024-11-19T00:07:57.314Z"
   },
   {
    "duration": 6,
    "start_time": "2024-11-19T00:07:57.332Z"
   },
   {
    "duration": 25,
    "start_time": "2024-11-19T00:07:57.341Z"
   },
   {
    "duration": 6,
    "start_time": "2024-11-19T00:07:57.368Z"
   },
   {
    "duration": 33,
    "start_time": "2024-11-19T00:07:57.376Z"
   },
   {
    "duration": 8,
    "start_time": "2024-11-19T00:07:57.411Z"
   },
   {
    "duration": 3,
    "start_time": "2024-11-19T00:07:57.421Z"
   },
   {
    "duration": 498,
    "start_time": "2024-11-19T00:07:57.426Z"
   },
   {
    "duration": 15940,
    "start_time": "2024-11-19T00:07:57.926Z"
   },
   {
    "duration": 10,
    "start_time": "2024-11-19T00:08:13.868Z"
   },
   {
    "duration": 5,
    "start_time": "2024-11-19T00:08:13.880Z"
   },
   {
    "duration": 18,
    "start_time": "2024-11-19T00:08:13.887Z"
   },
   {
    "duration": 6,
    "start_time": "2024-11-19T00:08:27.155Z"
   },
   {
    "duration": 294,
    "start_time": "2024-11-19T00:08:53.794Z"
   },
   {
    "duration": 17,
    "start_time": "2024-11-19T00:08:54.090Z"
   },
   {
    "duration": 9,
    "start_time": "2024-11-19T00:08:54.109Z"
   },
   {
    "duration": 9,
    "start_time": "2024-11-19T00:08:54.121Z"
   },
   {
    "duration": 8,
    "start_time": "2024-11-19T00:08:54.132Z"
   },
   {
    "duration": 25,
    "start_time": "2024-11-19T00:08:54.142Z"
   },
   {
    "duration": 7,
    "start_time": "2024-11-19T00:08:54.169Z"
   },
   {
    "duration": 36,
    "start_time": "2024-11-19T00:08:54.178Z"
   },
   {
    "duration": 16,
    "start_time": "2024-11-19T00:08:54.216Z"
   },
   {
    "duration": 4,
    "start_time": "2024-11-19T00:08:54.236Z"
   },
   {
    "duration": 9,
    "start_time": "2024-11-19T00:08:54.242Z"
   },
   {
    "duration": 7,
    "start_time": "2024-11-19T00:08:54.253Z"
   },
   {
    "duration": 4,
    "start_time": "2024-11-19T00:08:54.261Z"
   },
   {
    "duration": 45,
    "start_time": "2024-11-19T00:08:54.266Z"
   },
   {
    "duration": 5,
    "start_time": "2024-11-19T00:08:54.314Z"
   },
   {
    "duration": 20,
    "start_time": "2024-11-19T00:08:54.321Z"
   },
   {
    "duration": 3,
    "start_time": "2024-11-19T00:08:54.343Z"
   },
   {
    "duration": 6,
    "start_time": "2024-11-19T00:08:54.347Z"
   },
   {
    "duration": 5,
    "start_time": "2024-11-19T00:08:54.355Z"
   },
   {
    "duration": 3,
    "start_time": "2024-11-19T00:08:54.362Z"
   },
   {
    "duration": 521,
    "start_time": "2024-11-19T00:08:54.367Z"
   },
   {
    "duration": 15918,
    "start_time": "2024-11-19T00:08:54.890Z"
   },
   {
    "duration": 10,
    "start_time": "2024-11-19T00:09:10.810Z"
   },
   {
    "duration": 5,
    "start_time": "2024-11-19T00:09:10.821Z"
   },
   {
    "duration": 6,
    "start_time": "2024-11-19T00:09:10.828Z"
   },
   {
    "duration": 4,
    "start_time": "2024-11-19T00:09:10.835Z"
   },
   {
    "duration": 286,
    "start_time": "2024-11-19T00:10:47.065Z"
   },
   {
    "duration": 15,
    "start_time": "2024-11-19T00:10:47.355Z"
   },
   {
    "duration": 9,
    "start_time": "2024-11-19T00:10:47.371Z"
   },
   {
    "duration": 9,
    "start_time": "2024-11-19T00:10:47.381Z"
   },
   {
    "duration": 7,
    "start_time": "2024-11-19T00:10:47.404Z"
   },
   {
    "duration": 19,
    "start_time": "2024-11-19T00:10:47.413Z"
   },
   {
    "duration": 6,
    "start_time": "2024-11-19T00:10:47.434Z"
   },
   {
    "duration": 15,
    "start_time": "2024-11-19T00:10:47.442Z"
   },
   {
    "duration": 13,
    "start_time": "2024-11-19T00:10:47.459Z"
   },
   {
    "duration": 3,
    "start_time": "2024-11-19T00:10:47.473Z"
   },
   {
    "duration": 7,
    "start_time": "2024-11-19T00:10:47.506Z"
   },
   {
    "duration": 4,
    "start_time": "2024-11-19T00:10:47.515Z"
   },
   {
    "duration": 3,
    "start_time": "2024-11-19T00:10:47.521Z"
   },
   {
    "duration": 13,
    "start_time": "2024-11-19T00:10:47.527Z"
   },
   {
    "duration": 3,
    "start_time": "2024-11-19T00:10:47.541Z"
   },
   {
    "duration": 18,
    "start_time": "2024-11-19T00:10:47.546Z"
   },
   {
    "duration": 3,
    "start_time": "2024-11-19T00:10:47.566Z"
   },
   {
    "duration": 40,
    "start_time": "2024-11-19T00:10:47.570Z"
   },
   {
    "duration": 5,
    "start_time": "2024-11-19T00:10:47.612Z"
   },
   {
    "duration": 3,
    "start_time": "2024-11-19T00:10:47.619Z"
   },
   {
    "duration": 508,
    "start_time": "2024-11-19T00:10:47.624Z"
   },
   {
    "duration": 16161,
    "start_time": "2024-11-19T00:10:48.134Z"
   },
   {
    "duration": 18,
    "start_time": "2024-11-19T00:11:04.296Z"
   },
   {
    "duration": 4,
    "start_time": "2024-11-19T00:11:04.315Z"
   },
   {
    "duration": 5,
    "start_time": "2024-11-19T00:11:04.321Z"
   },
   {
    "duration": 3,
    "start_time": "2024-11-19T00:11:04.327Z"
   },
   {
    "duration": 10,
    "start_time": "2024-11-19T00:13:26.915Z"
   },
   {
    "duration": 5,
    "start_time": "2024-11-19T00:14:08.386Z"
   },
   {
    "duration": 5,
    "start_time": "2024-11-19T00:14:50.957Z"
   },
   {
    "duration": 12,
    "start_time": "2024-11-19T00:20:55.637Z"
   },
   {
    "duration": 310,
    "start_time": "2024-11-19T00:21:03.984Z"
   },
   {
    "duration": 43,
    "start_time": "2024-11-19T00:21:04.296Z"
   },
   {
    "duration": 11,
    "start_time": "2024-11-19T00:21:04.341Z"
   },
   {
    "duration": 9,
    "start_time": "2024-11-19T00:21:04.354Z"
   },
   {
    "duration": 8,
    "start_time": "2024-11-19T00:21:04.366Z"
   },
   {
    "duration": 26,
    "start_time": "2024-11-19T00:21:04.375Z"
   },
   {
    "duration": 8,
    "start_time": "2024-11-19T00:21:04.403Z"
   },
   {
    "duration": 35,
    "start_time": "2024-11-19T00:21:04.412Z"
   },
   {
    "duration": 17,
    "start_time": "2024-11-19T00:21:04.449Z"
   },
   {
    "duration": 4,
    "start_time": "2024-11-19T00:21:04.467Z"
   },
   {
    "duration": 10,
    "start_time": "2024-11-19T00:21:04.473Z"
   },
   {
    "duration": 35,
    "start_time": "2024-11-19T00:21:04.485Z"
   },
   {
    "duration": 3,
    "start_time": "2024-11-19T00:21:04.535Z"
   },
   {
    "duration": 13,
    "start_time": "2024-11-19T00:21:04.542Z"
   },
   {
    "duration": 4,
    "start_time": "2024-11-19T00:21:04.556Z"
   },
   {
    "duration": 20,
    "start_time": "2024-11-19T00:21:04.562Z"
   },
   {
    "duration": 3,
    "start_time": "2024-11-19T00:21:04.584Z"
   },
   {
    "duration": 6,
    "start_time": "2024-11-19T00:21:04.589Z"
   },
   {
    "duration": 15,
    "start_time": "2024-11-19T00:21:04.605Z"
   },
   {
    "duration": 8,
    "start_time": "2024-11-19T00:21:04.626Z"
   },
   {
    "duration": 19,
    "start_time": "2024-11-19T00:21:04.636Z"
   },
   {
    "duration": 4,
    "start_time": "2024-11-19T00:21:04.657Z"
   },
   {
    "duration": 578,
    "start_time": "2024-11-19T00:21:04.662Z"
   },
   {
    "duration": 24510,
    "start_time": "2024-11-19T00:21:05.243Z"
   },
   {
    "duration": 12,
    "start_time": "2024-11-19T00:21:29.755Z"
   },
   {
    "duration": 3,
    "start_time": "2024-11-19T00:21:29.768Z"
   },
   {
    "duration": 26,
    "start_time": "2024-11-19T00:29:30.540Z"
   },
   {
    "duration": 11,
    "start_time": "2024-11-19T00:29:48.438Z"
   },
   {
    "duration": 17,
    "start_time": "2024-11-19T00:29:59.810Z"
   },
   {
    "duration": 2422,
    "start_time": "2024-11-19T00:40:37.261Z"
   },
   {
    "duration": 0,
    "start_time": "2024-11-19T00:42:11.876Z"
   },
   {
    "duration": 0,
    "start_time": "2024-11-19T00:42:11.878Z"
   },
   {
    "duration": 91738,
    "start_time": "2024-11-19T00:42:37.999Z"
   },
   {
    "duration": 18,
    "start_time": "2024-11-19T00:44:51.505Z"
   },
   {
    "duration": 11,
    "start_time": "2024-11-19T00:46:29.899Z"
   },
   {
    "duration": 16,
    "start_time": "2024-11-19T00:46:41.173Z"
   },
   {
    "duration": 3,
    "start_time": "2024-11-19T00:46:54.580Z"
   },
   {
    "duration": 2486,
    "start_time": "2024-11-19T00:46:58.132Z"
   },
   {
    "duration": 29,
    "start_time": "2024-11-19T00:47:45.336Z"
   },
   {
    "duration": 5,
    "start_time": "2024-11-19T00:48:44.431Z"
   },
   {
    "duration": 2473,
    "start_time": "2024-11-19T00:48:45.817Z"
   },
   {
    "duration": 39,
    "start_time": "2024-11-19T00:48:48.292Z"
   },
   {
    "duration": 17,
    "start_time": "2024-11-19T01:03:56.423Z"
   },
   {
    "duration": 5,
    "start_time": "2024-11-19T01:04:00.368Z"
   },
   {
    "duration": 5,
    "start_time": "2024-11-19T01:04:05.304Z"
   },
   {
    "duration": 4,
    "start_time": "2024-11-19T01:11:26.683Z"
   },
   {
    "duration": 4,
    "start_time": "2024-11-19T01:11:37.680Z"
   },
   {
    "duration": 11,
    "start_time": "2024-11-19T01:11:44.989Z"
   },
   {
    "duration": 2672,
    "start_time": "2024-11-19T01:11:45.693Z"
   },
   {
    "duration": 10,
    "start_time": "2024-11-19T01:12:37.269Z"
   },
   {
    "duration": 1086,
    "start_time": "2024-11-19T01:12:54.653Z"
   },
   {
    "duration": 16,
    "start_time": "2024-11-19T01:12:55.741Z"
   },
   {
    "duration": 9,
    "start_time": "2024-11-19T01:12:55.759Z"
   },
   {
    "duration": 9,
    "start_time": "2024-11-19T01:12:55.770Z"
   },
   {
    "duration": 7,
    "start_time": "2024-11-19T01:12:55.780Z"
   },
   {
    "duration": 42,
    "start_time": "2024-11-19T01:12:55.788Z"
   },
   {
    "duration": 4,
    "start_time": "2024-11-19T01:12:55.833Z"
   },
   {
    "duration": 15,
    "start_time": "2024-11-19T01:12:55.839Z"
   },
   {
    "duration": 13,
    "start_time": "2024-11-19T01:12:55.856Z"
   },
   {
    "duration": 3,
    "start_time": "2024-11-19T01:12:55.872Z"
   },
   {
    "duration": 34,
    "start_time": "2024-11-19T01:12:55.877Z"
   },
   {
    "duration": 10,
    "start_time": "2024-11-19T01:12:55.915Z"
   },
   {
    "duration": 5,
    "start_time": "2024-11-19T01:12:55.929Z"
   },
   {
    "duration": 13,
    "start_time": "2024-11-19T01:12:55.938Z"
   },
   {
    "duration": 17,
    "start_time": "2024-11-19T01:12:55.953Z"
   },
   {
    "duration": 29,
    "start_time": "2024-11-19T01:12:55.973Z"
   },
   {
    "duration": 9,
    "start_time": "2024-11-19T01:12:56.004Z"
   },
   {
    "duration": 9,
    "start_time": "2024-11-19T01:12:56.021Z"
   },
   {
    "duration": 10,
    "start_time": "2024-11-19T01:12:56.032Z"
   },
   {
    "duration": 5,
    "start_time": "2024-11-19T01:12:56.044Z"
   },
   {
    "duration": 12,
    "start_time": "2024-11-19T01:12:56.051Z"
   },
   {
    "duration": 3,
    "start_time": "2024-11-19T01:12:56.065Z"
   },
   {
    "duration": 24429,
    "start_time": "2024-11-19T01:12:56.070Z"
   },
   {
    "duration": 34,
    "start_time": "2024-11-19T01:13:20.501Z"
   },
   {
    "duration": 13,
    "start_time": "2024-11-19T01:13:20.537Z"
   },
   {
    "duration": 3,
    "start_time": "2024-11-19T01:13:20.552Z"
   },
   {
    "duration": 4,
    "start_time": "2024-11-19T01:13:20.556Z"
   },
   {
    "duration": 10,
    "start_time": "2024-11-19T01:13:20.563Z"
   },
   {
    "duration": 2566,
    "start_time": "2024-11-19T01:13:20.574Z"
   },
   {
    "duration": 10,
    "start_time": "2024-11-19T01:13:23.142Z"
   },
   {
    "duration": 12,
    "start_time": "2024-11-19T01:14:01.571Z"
   },
   {
    "duration": 2685,
    "start_time": "2024-11-19T01:14:02.260Z"
   },
   {
    "duration": 5,
    "start_time": "2024-11-19T01:14:47.629Z"
   },
   {
    "duration": 5,
    "start_time": "2024-11-19T01:14:55.247Z"
   },
   {
    "duration": 5,
    "start_time": "2024-11-19T01:15:02.025Z"
   },
   {
    "duration": 821,
    "start_time": "2024-11-19T01:15:26.446Z"
   },
   {
    "duration": 1115,
    "start_time": "2024-11-19T01:15:34.029Z"
   },
   {
    "duration": 16,
    "start_time": "2024-11-19T01:15:35.146Z"
   },
   {
    "duration": 9,
    "start_time": "2024-11-19T01:15:35.164Z"
   },
   {
    "duration": 11,
    "start_time": "2024-11-19T01:15:35.174Z"
   },
   {
    "duration": 24,
    "start_time": "2024-11-19T01:15:35.187Z"
   },
   {
    "duration": 22,
    "start_time": "2024-11-19T01:15:35.221Z"
   },
   {
    "duration": 4,
    "start_time": "2024-11-19T01:15:35.245Z"
   },
   {
    "duration": 14,
    "start_time": "2024-11-19T01:15:35.251Z"
   },
   {
    "duration": 12,
    "start_time": "2024-11-19T01:15:35.267Z"
   },
   {
    "duration": 3,
    "start_time": "2024-11-19T01:15:35.282Z"
   },
   {
    "duration": 29,
    "start_time": "2024-11-19T01:15:35.286Z"
   },
   {
    "duration": 8,
    "start_time": "2024-11-19T01:15:35.316Z"
   },
   {
    "duration": 4,
    "start_time": "2024-11-19T01:15:35.325Z"
   },
   {
    "duration": 15,
    "start_time": "2024-11-19T01:15:35.332Z"
   },
   {
    "duration": 3,
    "start_time": "2024-11-19T01:15:35.349Z"
   },
   {
    "duration": 18,
    "start_time": "2024-11-19T01:15:35.354Z"
   },
   {
    "duration": 3,
    "start_time": "2024-11-19T01:15:35.373Z"
   },
   {
    "duration": 28,
    "start_time": "2024-11-19T01:15:35.378Z"
   },
   {
    "duration": 5,
    "start_time": "2024-11-19T01:15:35.408Z"
   },
   {
    "duration": 5,
    "start_time": "2024-11-19T01:15:35.415Z"
   },
   {
    "duration": 19,
    "start_time": "2024-11-19T01:15:35.421Z"
   },
   {
    "duration": 2,
    "start_time": "2024-11-19T01:15:35.442Z"
   },
   {
    "duration": 23281,
    "start_time": "2024-11-19T01:15:35.446Z"
   },
   {
    "duration": 14,
    "start_time": "2024-11-19T01:15:58.729Z"
   },
   {
    "duration": 12,
    "start_time": "2024-11-19T01:15:58.745Z"
   },
   {
    "duration": 5,
    "start_time": "2024-11-19T01:15:58.758Z"
   },
   {
    "duration": 3,
    "start_time": "2024-11-19T01:15:58.764Z"
   },
   {
    "duration": 44,
    "start_time": "2024-11-19T01:15:58.769Z"
   },
   {
    "duration": 2843,
    "start_time": "2024-11-19T01:15:58.829Z"
   },
   {
    "duration": 10,
    "start_time": "2024-11-19T01:16:01.674Z"
   },
   {
    "duration": 4,
    "start_time": "2024-11-19T01:17:17.674Z"
   },
   {
    "duration": 6,
    "start_time": "2024-11-19T01:17:33.882Z"
   },
   {
    "duration": 4,
    "start_time": "2024-11-19T01:18:00.306Z"
   },
   {
    "duration": 6,
    "start_time": "2024-11-19T01:18:01.014Z"
   },
   {
    "duration": 5,
    "start_time": "2024-11-19T01:18:10.475Z"
   },
   {
    "duration": 4,
    "start_time": "2024-11-19T01:18:20.972Z"
   },
   {
    "duration": 1172,
    "start_time": "2024-11-19T01:19:32.726Z"
   },
   {
    "duration": 33,
    "start_time": "2024-11-19T01:19:33.900Z"
   },
   {
    "duration": 9,
    "start_time": "2024-11-19T01:19:33.935Z"
   },
   {
    "duration": 9,
    "start_time": "2024-11-19T01:19:33.946Z"
   },
   {
    "duration": 7,
    "start_time": "2024-11-19T01:19:33.956Z"
   },
   {
    "duration": 18,
    "start_time": "2024-11-19T01:19:33.965Z"
   },
   {
    "duration": 4,
    "start_time": "2024-11-19T01:19:33.985Z"
   },
   {
    "duration": 24,
    "start_time": "2024-11-19T01:19:34.008Z"
   },
   {
    "duration": 14,
    "start_time": "2024-11-19T01:19:34.035Z"
   },
   {
    "duration": 5,
    "start_time": "2024-11-19T01:19:34.052Z"
   },
   {
    "duration": 8,
    "start_time": "2024-11-19T01:19:34.058Z"
   },
   {
    "duration": 4,
    "start_time": "2024-11-19T01:19:34.068Z"
   },
   {
    "duration": 3,
    "start_time": "2024-11-19T01:19:34.073Z"
   },
   {
    "duration": 34,
    "start_time": "2024-11-19T01:19:34.078Z"
   },
   {
    "duration": 4,
    "start_time": "2024-11-19T01:19:34.113Z"
   },
   {
    "duration": 30,
    "start_time": "2024-11-19T01:19:34.119Z"
   },
   {
    "duration": 5,
    "start_time": "2024-11-19T01:19:34.153Z"
   },
   {
    "duration": 5,
    "start_time": "2024-11-19T01:19:34.160Z"
   },
   {
    "duration": 6,
    "start_time": "2024-11-19T01:19:34.167Z"
   },
   {
    "duration": 5,
    "start_time": "2024-11-19T01:19:34.174Z"
   },
   {
    "duration": 19,
    "start_time": "2024-11-19T01:19:34.205Z"
   },
   {
    "duration": 4,
    "start_time": "2024-11-19T01:19:34.226Z"
   },
   {
    "duration": 23547,
    "start_time": "2024-11-19T01:19:34.231Z"
   },
   {
    "duration": 13,
    "start_time": "2024-11-19T01:19:57.780Z"
   },
   {
    "duration": 28,
    "start_time": "2024-11-19T01:19:57.794Z"
   },
   {
    "duration": 3,
    "start_time": "2024-11-19T01:19:57.824Z"
   },
   {
    "duration": 4,
    "start_time": "2024-11-19T01:19:57.829Z"
   },
   {
    "duration": 4,
    "start_time": "2024-11-19T01:19:57.838Z"
   },
   {
    "duration": 14,
    "start_time": "2024-11-19T01:19:57.844Z"
   },
   {
    "duration": 2952,
    "start_time": "2024-11-19T01:19:57.860Z"
   },
   {
    "duration": 19,
    "start_time": "2024-11-19T01:20:00.814Z"
   },
   {
    "duration": 7,
    "start_time": "2024-11-19T01:23:24.629Z"
   },
   {
    "duration": 13,
    "start_time": "2024-11-19T01:23:25.268Z"
   },
   {
    "duration": 3355,
    "start_time": "2024-11-19T01:23:25.412Z"
   },
   {
    "duration": 1092,
    "start_time": "2024-11-19T01:24:10.182Z"
   },
   {
    "duration": 15,
    "start_time": "2024-11-19T01:24:11.277Z"
   },
   {
    "duration": 22,
    "start_time": "2024-11-19T01:24:11.295Z"
   },
   {
    "duration": 13,
    "start_time": "2024-11-19T01:24:11.324Z"
   },
   {
    "duration": 7,
    "start_time": "2024-11-19T01:24:11.338Z"
   },
   {
    "duration": 18,
    "start_time": "2024-11-19T01:24:11.346Z"
   },
   {
    "duration": 4,
    "start_time": "2024-11-19T01:24:11.365Z"
   },
   {
    "duration": 14,
    "start_time": "2024-11-19T01:24:11.371Z"
   },
   {
    "duration": 34,
    "start_time": "2024-11-19T01:24:11.387Z"
   },
   {
    "duration": 5,
    "start_time": "2024-11-19T01:24:11.424Z"
   },
   {
    "duration": 11,
    "start_time": "2024-11-19T01:24:11.430Z"
   },
   {
    "duration": 4,
    "start_time": "2024-11-19T01:24:11.443Z"
   },
   {
    "duration": 3,
    "start_time": "2024-11-19T01:24:11.448Z"
   },
   {
    "duration": 12,
    "start_time": "2024-11-19T01:24:11.453Z"
   },
   {
    "duration": 4,
    "start_time": "2024-11-19T01:24:11.467Z"
   },
   {
    "duration": 56,
    "start_time": "2024-11-19T01:24:11.472Z"
   },
   {
    "duration": 3,
    "start_time": "2024-11-19T01:24:11.530Z"
   },
   {
    "duration": 6,
    "start_time": "2024-11-19T01:24:11.535Z"
   },
   {
    "duration": 4,
    "start_time": "2024-11-19T01:24:11.543Z"
   },
   {
    "duration": 5,
    "start_time": "2024-11-19T01:24:11.549Z"
   },
   {
    "duration": 12,
    "start_time": "2024-11-19T01:24:11.556Z"
   },
   {
    "duration": 3,
    "start_time": "2024-11-19T01:24:11.570Z"
   },
   {
    "duration": 23621,
    "start_time": "2024-11-19T01:24:11.575Z"
   },
   {
    "duration": 20,
    "start_time": "2024-11-19T01:24:35.198Z"
   },
   {
    "duration": 11,
    "start_time": "2024-11-19T01:24:35.220Z"
   },
   {
    "duration": 3,
    "start_time": "2024-11-19T01:24:35.233Z"
   },
   {
    "duration": 4,
    "start_time": "2024-11-19T01:24:35.237Z"
   },
   {
    "duration": 4,
    "start_time": "2024-11-19T01:24:35.245Z"
   },
   {
    "duration": 13,
    "start_time": "2024-11-19T01:24:35.250Z"
   },
   {
    "duration": 2956,
    "start_time": "2024-11-19T01:24:35.265Z"
   },
   {
    "duration": 359,
    "start_time": "2024-11-19T01:27:31.139Z"
   },
   {
    "duration": 3,
    "start_time": "2024-11-19T01:27:51.254Z"
   },
   {
    "duration": 1898,
    "start_time": "2024-11-19T01:27:54.744Z"
   },
   {
    "duration": 1779,
    "start_time": "2024-11-19T01:28:07.168Z"
   },
   {
    "duration": 2675,
    "start_time": "2024-11-19T21:24:01.789Z"
   },
   {
    "duration": 28,
    "start_time": "2024-11-19T21:24:04.467Z"
   },
   {
    "duration": 16,
    "start_time": "2024-11-19T21:24:04.497Z"
   },
   {
    "duration": 15,
    "start_time": "2024-11-19T21:24:04.515Z"
   },
   {
    "duration": 13,
    "start_time": "2024-11-19T21:24:04.532Z"
   },
   {
    "duration": 17,
    "start_time": "2024-11-19T21:24:04.546Z"
   },
   {
    "duration": 4,
    "start_time": "2024-11-19T21:24:04.565Z"
   },
   {
    "duration": 15,
    "start_time": "2024-11-19T21:24:04.571Z"
   },
   {
    "duration": 13,
    "start_time": "2024-11-19T21:24:04.587Z"
   },
   {
    "duration": 22,
    "start_time": "2024-11-19T21:24:04.603Z"
   },
   {
    "duration": 7,
    "start_time": "2024-11-19T21:24:04.627Z"
   },
   {
    "duration": 4,
    "start_time": "2024-11-19T21:24:04.635Z"
   },
   {
    "duration": 3,
    "start_time": "2024-11-19T21:24:04.641Z"
   },
   {
    "duration": 13,
    "start_time": "2024-11-19T21:24:04.645Z"
   },
   {
    "duration": 3,
    "start_time": "2024-11-19T21:24:04.659Z"
   },
   {
    "duration": 17,
    "start_time": "2024-11-19T21:24:04.665Z"
   },
   {
    "duration": 3,
    "start_time": "2024-11-19T21:24:04.684Z"
   },
   {
    "duration": 38,
    "start_time": "2024-11-19T21:24:04.689Z"
   },
   {
    "duration": 5,
    "start_time": "2024-11-19T21:24:04.728Z"
   },
   {
    "duration": 5,
    "start_time": "2024-11-19T21:24:04.735Z"
   },
   {
    "duration": 11,
    "start_time": "2024-11-19T21:24:04.743Z"
   },
   {
    "duration": 2,
    "start_time": "2024-11-19T21:24:04.756Z"
   },
   {
    "duration": 21834,
    "start_time": "2024-11-19T21:24:04.760Z"
   },
   {
    "duration": 11,
    "start_time": "2024-11-19T21:24:26.596Z"
   },
   {
    "duration": 23,
    "start_time": "2024-11-19T21:24:26.609Z"
   },
   {
    "duration": 3,
    "start_time": "2024-11-19T21:24:26.634Z"
   },
   {
    "duration": 4,
    "start_time": "2024-11-19T21:24:26.638Z"
   },
   {
    "duration": 3,
    "start_time": "2024-11-19T21:24:26.646Z"
   },
   {
    "duration": 11,
    "start_time": "2024-11-19T21:24:26.651Z"
   },
   {
    "duration": 1801,
    "start_time": "2024-11-19T21:24:26.663Z"
   },
   {
    "duration": 5,
    "start_time": "2024-11-19T21:24:28.466Z"
   },
   {
    "duration": 25,
    "start_time": "2024-11-19T21:34:12.185Z"
   },
   {
    "duration": 3,
    "start_time": "2024-11-19T21:34:26.760Z"
   },
   {
    "duration": 48,
    "start_time": "2024-11-19T21:35:19.056Z"
   },
   {
    "duration": 30,
    "start_time": "2024-11-19T21:35:36.065Z"
   },
   {
    "duration": 18,
    "start_time": "2024-11-19T21:35:45.545Z"
   },
   {
    "duration": 6,
    "start_time": "2024-11-19T21:36:18.538Z"
   },
   {
    "duration": 6,
    "start_time": "2024-11-19T21:36:26.929Z"
   },
   {
    "duration": 6,
    "start_time": "2024-11-19T21:36:44.782Z"
   },
   {
    "duration": 6,
    "start_time": "2024-11-19T21:37:04.152Z"
   },
   {
    "duration": 7,
    "start_time": "2024-11-19T21:37:09.318Z"
   },
   {
    "duration": 7,
    "start_time": "2024-11-19T21:37:21.905Z"
   },
   {
    "duration": 6,
    "start_time": "2024-11-19T21:37:42.112Z"
   },
   {
    "duration": 5,
    "start_time": "2024-11-19T21:38:15.811Z"
   },
   {
    "duration": 8,
    "start_time": "2024-11-19T21:38:53.509Z"
   },
   {
    "duration": 3,
    "start_time": "2024-11-19T21:39:21.957Z"
   },
   {
    "duration": 3,
    "start_time": "2024-11-19T21:39:56.731Z"
   },
   {
    "duration": 221,
    "start_time": "2024-11-19T21:40:30.570Z"
   },
   {
    "duration": 15,
    "start_time": "2024-11-19T21:40:39.060Z"
   },
   {
    "duration": 15,
    "start_time": "2024-11-19T21:44:01.811Z"
   },
   {
    "duration": 32,
    "start_time": "2024-11-19T21:44:09.508Z"
   },
   {
    "duration": 33,
    "start_time": "2024-11-19T21:44:21.722Z"
   },
   {
    "duration": 3,
    "start_time": "2024-11-19T21:44:31.341Z"
   },
   {
    "duration": 25,
    "start_time": "2024-11-19T21:44:31.884Z"
   },
   {
    "duration": 12,
    "start_time": "2024-11-19T21:44:47.865Z"
   },
   {
    "duration": 26,
    "start_time": "2024-11-19T21:44:52.951Z"
   },
   {
    "duration": 16,
    "start_time": "2024-11-19T22:11:00.452Z"
   },
   {
    "duration": 6,
    "start_time": "2024-11-19T22:12:15.003Z"
   },
   {
    "duration": 10,
    "start_time": "2024-11-19T22:12:16.024Z"
   },
   {
    "duration": 716,
    "start_time": "2024-11-19T22:12:20.811Z"
   },
   {
    "duration": 988,
    "start_time": "2024-11-19T22:12:31.971Z"
   },
   {
    "duration": 18,
    "start_time": "2024-11-19T22:12:32.961Z"
   },
   {
    "duration": 10,
    "start_time": "2024-11-19T22:12:32.981Z"
   },
   {
    "duration": 10,
    "start_time": "2024-11-19T22:12:32.992Z"
   },
   {
    "duration": 7,
    "start_time": "2024-11-19T22:12:33.004Z"
   },
   {
    "duration": 27,
    "start_time": "2024-11-19T22:12:33.013Z"
   },
   {
    "duration": 5,
    "start_time": "2024-11-19T22:12:33.041Z"
   },
   {
    "duration": 14,
    "start_time": "2024-11-19T22:12:33.047Z"
   },
   {
    "duration": 13,
    "start_time": "2024-11-19T22:12:33.063Z"
   },
   {
    "duration": 3,
    "start_time": "2024-11-19T22:12:33.078Z"
   },
   {
    "duration": 7,
    "start_time": "2024-11-19T22:12:33.083Z"
   },
   {
    "duration": 34,
    "start_time": "2024-11-19T22:12:33.091Z"
   },
   {
    "duration": 3,
    "start_time": "2024-11-19T22:12:33.126Z"
   },
   {
    "duration": 15,
    "start_time": "2024-11-19T22:12:33.134Z"
   },
   {
    "duration": 3,
    "start_time": "2024-11-19T22:12:33.152Z"
   },
   {
    "duration": 25,
    "start_time": "2024-11-19T22:12:33.158Z"
   },
   {
    "duration": 4,
    "start_time": "2024-11-19T22:12:33.184Z"
   },
   {
    "duration": 36,
    "start_time": "2024-11-19T22:12:33.189Z"
   },
   {
    "duration": 5,
    "start_time": "2024-11-19T22:12:33.226Z"
   },
   {
    "duration": 5,
    "start_time": "2024-11-19T22:12:33.233Z"
   },
   {
    "duration": 11,
    "start_time": "2024-11-19T22:12:33.240Z"
   },
   {
    "duration": 2,
    "start_time": "2024-11-19T22:12:33.253Z"
   },
   {
    "duration": 21587,
    "start_time": "2024-11-19T22:12:33.257Z"
   },
   {
    "duration": 7,
    "start_time": "2024-11-19T22:12:54.846Z"
   },
   {
    "duration": 12,
    "start_time": "2024-11-19T22:12:54.855Z"
   },
   {
    "duration": 10,
    "start_time": "2024-11-19T22:12:54.869Z"
   },
   {
    "duration": 3,
    "start_time": "2024-11-19T22:12:54.881Z"
   },
   {
    "duration": 4,
    "start_time": "2024-11-19T22:12:54.885Z"
   },
   {
    "duration": 35,
    "start_time": "2024-11-19T22:12:54.891Z"
   },
   {
    "duration": 12,
    "start_time": "2024-11-19T22:12:54.927Z"
   },
   {
    "duration": 1699,
    "start_time": "2024-11-19T22:12:54.941Z"
   },
   {
    "duration": 4,
    "start_time": "2024-11-19T22:12:56.643Z"
   },
   {
    "duration": 4,
    "start_time": "2024-11-19T22:12:56.649Z"
   },
   {
    "duration": 7,
    "start_time": "2024-11-19T22:12:56.654Z"
   },
   {
    "duration": 6,
    "start_time": "2024-11-19T22:12:56.662Z"
   },
   {
    "duration": 3,
    "start_time": "2024-11-19T22:12:56.669Z"
   },
   {
    "duration": 19,
    "start_time": "2024-11-19T22:12:56.674Z"
   },
   {
    "duration": 4,
    "start_time": "2024-11-19T22:25:10.361Z"
   },
   {
    "duration": 710,
    "start_time": "2024-11-19T22:25:35.407Z"
   },
   {
    "duration": 6,
    "start_time": "2024-11-19T22:25:42.616Z"
   },
   {
    "duration": 7,
    "start_time": "2024-11-19T22:25:56.794Z"
   },
   {
    "duration": 4,
    "start_time": "2024-11-19T22:28:42.889Z"
   },
   {
    "duration": 10,
    "start_time": "2024-11-19T22:29:11.179Z"
   },
   {
    "duration": 7,
    "start_time": "2024-11-19T22:29:22.506Z"
   },
   {
    "duration": 5,
    "start_time": "2024-11-19T22:29:54.724Z"
   },
   {
    "duration": 6,
    "start_time": "2024-11-19T22:30:05.131Z"
   },
   {
    "duration": 3,
    "start_time": "2024-11-19T22:44:38.428Z"
   },
   {
    "duration": 39,
    "start_time": "2024-11-19T22:48:37.097Z"
   },
   {
    "duration": 2,
    "start_time": "2024-11-19T22:50:05.141Z"
   },
   {
    "duration": 3,
    "start_time": "2024-11-19T22:50:59.423Z"
   },
   {
    "duration": 2,
    "start_time": "2024-11-19T22:51:15.971Z"
   },
   {
    "duration": 3,
    "start_time": "2024-11-19T22:51:25.987Z"
   },
   {
    "duration": 214,
    "start_time": "2024-11-19T22:52:38.028Z"
   },
   {
    "duration": 75,
    "start_time": "2024-11-19T22:55:00.925Z"
   },
   {
    "duration": 7,
    "start_time": "2024-11-19T22:57:21.906Z"
   },
   {
    "duration": 3,
    "start_time": "2024-11-19T22:57:36.486Z"
   },
   {
    "duration": 6,
    "start_time": "2024-11-19T22:58:23.844Z"
   },
   {
    "duration": 108,
    "start_time": "2024-11-19T23:00:10.189Z"
   },
   {
    "duration": 5,
    "start_time": "2024-11-19T23:01:14.562Z"
   },
   {
    "duration": 378,
    "start_time": "2024-11-19T23:02:10.704Z"
   },
   {
    "duration": 35,
    "start_time": "2024-11-19T23:02:24.672Z"
   },
   {
    "duration": 35,
    "start_time": "2024-11-19T23:02:38.639Z"
   },
   {
    "duration": 4,
    "start_time": "2024-11-19T23:02:57.723Z"
   },
   {
    "duration": 61,
    "start_time": "2024-11-19T23:03:29.553Z"
   },
   {
    "duration": 40,
    "start_time": "2024-11-19T23:03:47.716Z"
   },
   {
    "duration": 1010,
    "start_time": "2024-11-19T23:03:58.089Z"
   },
   {
    "duration": 17,
    "start_time": "2024-11-19T23:03:59.102Z"
   },
   {
    "duration": 9,
    "start_time": "2024-11-19T23:03:59.121Z"
   },
   {
    "duration": 9,
    "start_time": "2024-11-19T23:03:59.132Z"
   },
   {
    "duration": 8,
    "start_time": "2024-11-19T23:03:59.144Z"
   },
   {
    "duration": 17,
    "start_time": "2024-11-19T23:03:59.153Z"
   },
   {
    "duration": 4,
    "start_time": "2024-11-19T23:03:59.172Z"
   },
   {
    "duration": 17,
    "start_time": "2024-11-19T23:03:59.177Z"
   },
   {
    "duration": 37,
    "start_time": "2024-11-19T23:03:59.195Z"
   },
   {
    "duration": 3,
    "start_time": "2024-11-19T23:03:59.234Z"
   },
   {
    "duration": 7,
    "start_time": "2024-11-19T23:03:59.239Z"
   },
   {
    "duration": 7,
    "start_time": "2024-11-19T23:03:59.247Z"
   },
   {
    "duration": 3,
    "start_time": "2024-11-19T23:03:59.255Z"
   },
   {
    "duration": 13,
    "start_time": "2024-11-19T23:03:59.262Z"
   },
   {
    "duration": 3,
    "start_time": "2024-11-19T23:03:59.277Z"
   },
   {
    "duration": 56,
    "start_time": "2024-11-19T23:03:59.282Z"
   },
   {
    "duration": 3,
    "start_time": "2024-11-19T23:03:59.340Z"
   },
   {
    "duration": 6,
    "start_time": "2024-11-19T23:03:59.344Z"
   },
   {
    "duration": 4,
    "start_time": "2024-11-19T23:03:59.353Z"
   },
   {
    "duration": 5,
    "start_time": "2024-11-19T23:03:59.359Z"
   },
   {
    "duration": 11,
    "start_time": "2024-11-19T23:03:59.366Z"
   },
   {
    "duration": 3,
    "start_time": "2024-11-19T23:03:59.379Z"
   },
   {
    "duration": 21604,
    "start_time": "2024-11-19T23:03:59.384Z"
   },
   {
    "duration": 6,
    "start_time": "2024-11-19T23:04:20.990Z"
   },
   {
    "duration": 12,
    "start_time": "2024-11-19T23:04:20.997Z"
   },
   {
    "duration": 23,
    "start_time": "2024-11-19T23:04:21.010Z"
   },
   {
    "duration": 3,
    "start_time": "2024-11-19T23:04:21.035Z"
   },
   {
    "duration": 3,
    "start_time": "2024-11-19T23:04:21.040Z"
   },
   {
    "duration": 4,
    "start_time": "2024-11-19T23:04:21.044Z"
   },
   {
    "duration": 11,
    "start_time": "2024-11-19T23:04:21.050Z"
   },
   {
    "duration": 1718,
    "start_time": "2024-11-19T23:04:21.062Z"
   },
   {
    "duration": 4,
    "start_time": "2024-11-19T23:04:22.782Z"
   },
   {
    "duration": 3,
    "start_time": "2024-11-19T23:04:22.788Z"
   },
   {
    "duration": 19,
    "start_time": "2024-11-19T23:04:22.793Z"
   },
   {
    "duration": 7,
    "start_time": "2024-11-19T23:04:22.814Z"
   },
   {
    "duration": 3,
    "start_time": "2024-11-19T23:04:22.824Z"
   },
   {
    "duration": 3,
    "start_time": "2024-11-19T23:04:22.828Z"
   },
   {
    "duration": 6,
    "start_time": "2024-11-19T23:04:22.833Z"
   },
   {
    "duration": 476,
    "start_time": "2024-11-19T23:04:22.840Z"
   },
   {
    "duration": 8,
    "start_time": "2024-11-19T23:05:48.163Z"
   },
   {
    "duration": 5,
    "start_time": "2024-11-19T23:09:26.201Z"
   },
   {
    "duration": 426,
    "start_time": "2024-11-19T23:10:05.413Z"
   },
   {
    "duration": 1052,
    "start_time": "2024-11-19T23:10:25.587Z"
   },
   {
    "duration": 15,
    "start_time": "2024-11-19T23:10:26.642Z"
   },
   {
    "duration": 10,
    "start_time": "2024-11-19T23:10:26.659Z"
   },
   {
    "duration": 10,
    "start_time": "2024-11-19T23:10:26.672Z"
   },
   {
    "duration": 8,
    "start_time": "2024-11-19T23:10:26.683Z"
   },
   {
    "duration": 43,
    "start_time": "2024-11-19T23:10:26.693Z"
   },
   {
    "duration": 5,
    "start_time": "2024-11-19T23:10:26.737Z"
   },
   {
    "duration": 17,
    "start_time": "2024-11-19T23:10:26.743Z"
   },
   {
    "duration": 14,
    "start_time": "2024-11-19T23:10:26.761Z"
   },
   {
    "duration": 3,
    "start_time": "2024-11-19T23:10:26.779Z"
   },
   {
    "duration": 7,
    "start_time": "2024-11-19T23:10:26.784Z"
   },
   {
    "duration": 34,
    "start_time": "2024-11-19T23:10:26.792Z"
   },
   {
    "duration": 3,
    "start_time": "2024-11-19T23:10:26.828Z"
   },
   {
    "duration": 13,
    "start_time": "2024-11-19T23:10:26.832Z"
   },
   {
    "duration": 4,
    "start_time": "2024-11-19T23:10:26.847Z"
   },
   {
    "duration": 18,
    "start_time": "2024-11-19T23:10:26.852Z"
   },
   {
    "duration": 3,
    "start_time": "2024-11-19T23:10:26.872Z"
   },
   {
    "duration": 5,
    "start_time": "2024-11-19T23:10:26.876Z"
   },
   {
    "duration": 42,
    "start_time": "2024-11-19T23:10:26.883Z"
   },
   {
    "duration": 5,
    "start_time": "2024-11-19T23:10:26.926Z"
   },
   {
    "duration": 12,
    "start_time": "2024-11-19T23:10:26.933Z"
   },
   {
    "duration": 4,
    "start_time": "2024-11-19T23:10:26.946Z"
   },
   {
    "duration": 21705,
    "start_time": "2024-11-19T23:10:26.951Z"
   },
   {
    "duration": 7,
    "start_time": "2024-11-19T23:10:48.657Z"
   },
   {
    "duration": 12,
    "start_time": "2024-11-19T23:10:48.665Z"
   },
   {
    "duration": 11,
    "start_time": "2024-11-19T23:10:48.679Z"
   },
   {
    "duration": 3,
    "start_time": "2024-11-19T23:10:48.691Z"
   },
   {
    "duration": 27,
    "start_time": "2024-11-19T23:10:48.698Z"
   },
   {
    "duration": 239,
    "start_time": "2024-11-19T23:10:48.727Z"
   },
   {
    "duration": 0,
    "start_time": "2024-11-19T23:10:48.968Z"
   },
   {
    "duration": 0,
    "start_time": "2024-11-19T23:10:48.969Z"
   },
   {
    "duration": 0,
    "start_time": "2024-11-19T23:10:48.970Z"
   },
   {
    "duration": 0,
    "start_time": "2024-11-19T23:10:48.971Z"
   },
   {
    "duration": 0,
    "start_time": "2024-11-19T23:10:48.972Z"
   },
   {
    "duration": 0,
    "start_time": "2024-11-19T23:10:48.973Z"
   },
   {
    "duration": 0,
    "start_time": "2024-11-19T23:10:48.974Z"
   },
   {
    "duration": 0,
    "start_time": "2024-11-19T23:10:48.975Z"
   },
   {
    "duration": 0,
    "start_time": "2024-11-19T23:10:48.977Z"
   },
   {
    "duration": 0,
    "start_time": "2024-11-19T23:10:48.978Z"
   },
   {
    "duration": 0,
    "start_time": "2024-11-19T23:10:48.979Z"
   },
   {
    "duration": 4,
    "start_time": "2024-11-19T23:11:04.429Z"
   },
   {
    "duration": 1037,
    "start_time": "2024-11-19T23:11:11.868Z"
   },
   {
    "duration": 17,
    "start_time": "2024-11-19T23:11:12.907Z"
   },
   {
    "duration": 8,
    "start_time": "2024-11-19T23:11:12.926Z"
   },
   {
    "duration": 9,
    "start_time": "2024-11-19T23:11:12.936Z"
   },
   {
    "duration": 6,
    "start_time": "2024-11-19T23:11:12.946Z"
   },
   {
    "duration": 17,
    "start_time": "2024-11-19T23:11:12.953Z"
   },
   {
    "duration": 5,
    "start_time": "2024-11-19T23:11:12.971Z"
   },
   {
    "duration": 15,
    "start_time": "2024-11-19T23:11:12.977Z"
   },
   {
    "duration": 37,
    "start_time": "2024-11-19T23:11:12.994Z"
   },
   {
    "duration": 3,
    "start_time": "2024-11-19T23:11:13.035Z"
   },
   {
    "duration": 7,
    "start_time": "2024-11-19T23:11:13.040Z"
   },
   {
    "duration": 5,
    "start_time": "2024-11-19T23:11:13.049Z"
   },
   {
    "duration": 3,
    "start_time": "2024-11-19T23:11:13.055Z"
   },
   {
    "duration": 13,
    "start_time": "2024-11-19T23:11:13.060Z"
   },
   {
    "duration": 3,
    "start_time": "2024-11-19T23:11:13.074Z"
   },
   {
    "duration": 57,
    "start_time": "2024-11-19T23:11:13.079Z"
   },
   {
    "duration": 2,
    "start_time": "2024-11-19T23:11:13.138Z"
   },
   {
    "duration": 6,
    "start_time": "2024-11-19T23:11:13.142Z"
   },
   {
    "duration": 5,
    "start_time": "2024-11-19T23:11:13.149Z"
   },
   {
    "duration": 5,
    "start_time": "2024-11-19T23:11:13.155Z"
   },
   {
    "duration": 12,
    "start_time": "2024-11-19T23:11:13.161Z"
   },
   {
    "duration": 2,
    "start_time": "2024-11-19T23:11:13.175Z"
   },
   {
    "duration": 21468,
    "start_time": "2024-11-19T23:11:13.179Z"
   },
   {
    "duration": 6,
    "start_time": "2024-11-19T23:11:34.648Z"
   },
   {
    "duration": 12,
    "start_time": "2024-11-19T23:11:34.656Z"
   },
   {
    "duration": 10,
    "start_time": "2024-11-19T23:11:34.669Z"
   },
   {
    "duration": 3,
    "start_time": "2024-11-19T23:11:34.680Z"
   },
   {
    "duration": 3,
    "start_time": "2024-11-19T23:11:34.688Z"
   },
   {
    "duration": 33,
    "start_time": "2024-11-19T23:11:34.693Z"
   },
   {
    "duration": 12,
    "start_time": "2024-11-19T23:11:34.728Z"
   },
   {
    "duration": 1687,
    "start_time": "2024-11-19T23:11:34.741Z"
   },
   {
    "duration": 4,
    "start_time": "2024-11-19T23:11:36.431Z"
   },
   {
    "duration": 4,
    "start_time": "2024-11-19T23:11:36.437Z"
   },
   {
    "duration": 18,
    "start_time": "2024-11-19T23:11:36.443Z"
   },
   {
    "duration": 7,
    "start_time": "2024-11-19T23:11:36.462Z"
   },
   {
    "duration": 3,
    "start_time": "2024-11-19T23:11:36.470Z"
   },
   {
    "duration": 3,
    "start_time": "2024-11-19T23:11:36.474Z"
   },
   {
    "duration": 6,
    "start_time": "2024-11-19T23:11:36.479Z"
   },
   {
    "duration": 519,
    "start_time": "2024-11-19T23:11:36.486Z"
   },
   {
    "duration": 17,
    "start_time": "2024-11-19T23:11:37.007Z"
   },
   {
    "duration": 3,
    "start_time": "2024-11-19T23:13:09.988Z"
   },
   {
    "duration": 2936,
    "start_time": "2024-11-20T07:13:24.902Z"
   },
   {
    "duration": 32,
    "start_time": "2024-11-20T07:13:27.841Z"
   },
   {
    "duration": 14,
    "start_time": "2024-11-20T07:13:27.875Z"
   },
   {
    "duration": 19,
    "start_time": "2024-11-20T07:13:27.891Z"
   },
   {
    "duration": 13,
    "start_time": "2024-11-20T07:13:27.911Z"
   },
   {
    "duration": 22,
    "start_time": "2024-11-20T07:13:27.926Z"
   },
   {
    "duration": 5,
    "start_time": "2024-11-20T07:13:27.950Z"
   },
   {
    "duration": 20,
    "start_time": "2024-11-20T07:13:27.957Z"
   },
   {
    "duration": 14,
    "start_time": "2024-11-20T07:13:27.978Z"
   },
   {
    "duration": 4,
    "start_time": "2024-11-20T07:13:27.995Z"
   },
   {
    "duration": 8,
    "start_time": "2024-11-20T07:13:28.234Z"
   },
   {
    "duration": 5,
    "start_time": "2024-11-20T07:13:28.636Z"
   },
   {
    "duration": 3,
    "start_time": "2024-11-20T07:13:28.975Z"
   },
   {
    "duration": 12,
    "start_time": "2024-11-20T07:13:29.186Z"
   },
   {
    "duration": 4,
    "start_time": "2024-11-20T07:13:29.377Z"
   },
   {
    "duration": 18,
    "start_time": "2024-11-20T07:13:30.088Z"
   },
   {
    "duration": 4,
    "start_time": "2024-11-20T07:13:30.846Z"
   },
   {
    "duration": 5,
    "start_time": "2024-11-20T07:13:31.425Z"
   },
   {
    "duration": 5,
    "start_time": "2024-11-20T07:13:31.665Z"
   },
   {
    "duration": 5,
    "start_time": "2024-11-20T07:13:31.873Z"
   },
   {
    "duration": 12,
    "start_time": "2024-11-20T07:13:32.113Z"
   },
   {
    "duration": 3,
    "start_time": "2024-11-20T07:13:32.615Z"
   },
   {
    "duration": 21666,
    "start_time": "2024-11-20T07:13:33.344Z"
   },
   {
    "duration": 6,
    "start_time": "2024-11-20T07:13:55.012Z"
   },
   {
    "duration": 11,
    "start_time": "2024-11-20T07:13:55.019Z"
   },
   {
    "duration": 10,
    "start_time": "2024-11-20T07:13:55.033Z"
   },
   {
    "duration": 27,
    "start_time": "2024-11-20T07:13:55.044Z"
   },
   {
    "duration": 4,
    "start_time": "2024-11-20T07:13:55.072Z"
   },
   {
    "duration": 5,
    "start_time": "2024-11-20T07:13:55.078Z"
   },
   {
    "duration": 12,
    "start_time": "2024-11-20T07:13:55.085Z"
   },
   {
    "duration": 1776,
    "start_time": "2024-11-20T07:13:55.098Z"
   },
   {
    "duration": 4,
    "start_time": "2024-11-20T07:13:56.883Z"
   },
   {
    "duration": 3,
    "start_time": "2024-11-20T07:13:56.889Z"
   },
   {
    "duration": 19,
    "start_time": "2024-11-20T07:13:56.894Z"
   },
   {
    "duration": 6,
    "start_time": "2024-11-20T07:13:56.914Z"
   },
   {
    "duration": 4,
    "start_time": "2024-11-20T07:13:56.922Z"
   },
   {
    "duration": 2,
    "start_time": "2024-11-20T07:13:56.928Z"
   },
   {
    "duration": 6,
    "start_time": "2024-11-20T07:13:56.933Z"
   },
   {
    "duration": 256,
    "start_time": "2024-11-20T07:14:29.232Z"
   },
   {
    "duration": 4719,
    "start_time": "2024-11-20T07:14:40.035Z"
   },
   {
    "duration": 3099,
    "start_time": "2024-11-20T07:16:00.754Z"
   },
   {
    "duration": 2914,
    "start_time": "2024-11-20T07:16:16.701Z"
   },
   {
    "duration": 34,
    "start_time": "2024-11-20T07:21:53.925Z"
   },
   {
    "duration": 4,
    "start_time": "2024-11-20T07:22:31.559Z"
   },
   {
    "duration": 33,
    "start_time": "2024-11-20T07:22:36.682Z"
   },
   {
    "duration": 24,
    "start_time": "2024-11-20T07:22:44.432Z"
   },
   {
    "duration": 4227,
    "start_time": "2024-11-20T07:26:14.636Z"
   },
   {
    "duration": 2811,
    "start_time": "2024-11-20T07:26:29.497Z"
   },
   {
    "duration": 14,
    "start_time": "2024-11-20T07:26:36.264Z"
   },
   {
    "duration": 2,
    "start_time": "2024-11-20T07:27:41.643Z"
   },
   {
    "duration": 14,
    "start_time": "2024-11-20T09:24:53.120Z"
   },
   {
    "duration": 1010,
    "start_time": "2024-11-20T09:25:09.124Z"
   },
   {
    "duration": 16,
    "start_time": "2024-11-20T09:25:10.137Z"
   },
   {
    "duration": 17,
    "start_time": "2024-11-20T09:25:10.155Z"
   },
   {
    "duration": 10,
    "start_time": "2024-11-20T09:25:10.174Z"
   },
   {
    "duration": 7,
    "start_time": "2024-11-20T09:25:10.187Z"
   },
   {
    "duration": 18,
    "start_time": "2024-11-20T09:25:10.195Z"
   },
   {
    "duration": 6,
    "start_time": "2024-11-20T09:25:10.216Z"
   },
   {
    "duration": 20,
    "start_time": "2024-11-20T09:25:10.224Z"
   },
   {
    "duration": 33,
    "start_time": "2024-11-20T09:25:10.247Z"
   },
   {
    "duration": 3,
    "start_time": "2024-11-20T09:25:10.282Z"
   },
   {
    "duration": 8,
    "start_time": "2024-11-20T09:25:10.286Z"
   },
   {
    "duration": 4,
    "start_time": "2024-11-20T09:25:10.295Z"
   },
   {
    "duration": 3,
    "start_time": "2024-11-20T09:25:10.301Z"
   },
   {
    "duration": 13,
    "start_time": "2024-11-20T09:25:10.309Z"
   },
   {
    "duration": 3,
    "start_time": "2024-11-20T09:25:10.323Z"
   },
   {
    "duration": 54,
    "start_time": "2024-11-20T09:25:10.328Z"
   },
   {
    "duration": 3,
    "start_time": "2024-11-20T09:25:10.384Z"
   },
   {
    "duration": 5,
    "start_time": "2024-11-20T09:25:10.389Z"
   },
   {
    "duration": 5,
    "start_time": "2024-11-20T09:25:10.395Z"
   },
   {
    "duration": 5,
    "start_time": "2024-11-20T09:25:10.402Z"
   },
   {
    "duration": 12,
    "start_time": "2024-11-20T09:25:10.408Z"
   },
   {
    "duration": 3,
    "start_time": "2024-11-20T09:25:10.421Z"
   },
   {
    "duration": 21314,
    "start_time": "2024-11-20T09:25:10.426Z"
   },
   {
    "duration": 6,
    "start_time": "2024-11-20T09:25:31.742Z"
   },
   {
    "duration": 24,
    "start_time": "2024-11-20T09:25:31.750Z"
   },
   {
    "duration": 11,
    "start_time": "2024-11-20T09:25:31.776Z"
   },
   {
    "duration": 4,
    "start_time": "2024-11-20T09:25:31.788Z"
   },
   {
    "duration": 3,
    "start_time": "2024-11-20T09:25:31.793Z"
   },
   {
    "duration": 6,
    "start_time": "2024-11-20T09:25:31.798Z"
   },
   {
    "duration": 12,
    "start_time": "2024-11-20T09:25:31.805Z"
   },
   {
    "duration": 1695,
    "start_time": "2024-11-20T09:25:31.819Z"
   },
   {
    "duration": 5,
    "start_time": "2024-11-20T09:25:33.516Z"
   },
   {
    "duration": 3,
    "start_time": "2024-11-20T09:25:33.523Z"
   },
   {
    "duration": 20,
    "start_time": "2024-11-20T09:25:33.527Z"
   },
   {
    "duration": 20,
    "start_time": "2024-11-20T09:25:33.549Z"
   },
   {
    "duration": 3,
    "start_time": "2024-11-20T09:25:33.570Z"
   },
   {
    "duration": 3,
    "start_time": "2024-11-20T09:25:33.575Z"
   },
   {
    "duration": 6,
    "start_time": "2024-11-20T09:25:33.579Z"
   },
   {
    "duration": 2,
    "start_time": "2024-11-20T09:25:33.587Z"
   },
   {
    "duration": 60742,
    "start_time": "2024-11-20T09:25:33.591Z"
   },
   {
    "duration": 358,
    "start_time": "2024-11-20T09:26:34.337Z"
   },
   {
    "duration": 144,
    "start_time": "2024-11-20T09:26:44.923Z"
   },
   {
    "duration": 51,
    "start_time": "2024-11-20T09:27:20.107Z"
   },
   {
    "duration": 57952,
    "start_time": "2024-11-20T09:28:02.124Z"
   },
   {
    "duration": 1040,
    "start_time": "2024-11-20T09:29:50.808Z"
   },
   {
    "duration": 15,
    "start_time": "2024-11-20T09:29:51.849Z"
   },
   {
    "duration": 10,
    "start_time": "2024-11-20T09:29:51.866Z"
   },
   {
    "duration": 10,
    "start_time": "2024-11-20T09:29:51.878Z"
   },
   {
    "duration": 6,
    "start_time": "2024-11-20T09:29:51.889Z"
   },
   {
    "duration": 17,
    "start_time": "2024-11-20T09:29:51.897Z"
   },
   {
    "duration": 4,
    "start_time": "2024-11-20T09:29:51.915Z"
   },
   {
    "duration": 16,
    "start_time": "2024-11-20T09:29:51.920Z"
   },
   {
    "duration": 38,
    "start_time": "2024-11-20T09:29:51.938Z"
   },
   {
    "duration": 3,
    "start_time": "2024-11-20T09:29:51.981Z"
   },
   {
    "duration": 8,
    "start_time": "2024-11-20T09:29:51.985Z"
   },
   {
    "duration": 4,
    "start_time": "2024-11-20T09:29:51.995Z"
   },
   {
    "duration": 3,
    "start_time": "2024-11-20T09:29:52.000Z"
   },
   {
    "duration": 13,
    "start_time": "2024-11-20T09:29:52.005Z"
   },
   {
    "duration": 3,
    "start_time": "2024-11-20T09:29:52.019Z"
   },
   {
    "duration": 54,
    "start_time": "2024-11-20T09:29:52.023Z"
   },
   {
    "duration": 4,
    "start_time": "2024-11-20T09:29:52.079Z"
   },
   {
    "duration": 6,
    "start_time": "2024-11-20T09:29:52.084Z"
   },
   {
    "duration": 5,
    "start_time": "2024-11-20T09:29:52.092Z"
   },
   {
    "duration": 7,
    "start_time": "2024-11-20T09:29:52.100Z"
   },
   {
    "duration": 12,
    "start_time": "2024-11-20T09:29:52.108Z"
   },
   {
    "duration": 2,
    "start_time": "2024-11-20T09:29:52.122Z"
   },
   {
    "duration": 21299,
    "start_time": "2024-11-20T09:29:52.126Z"
   },
   {
    "duration": 6,
    "start_time": "2024-11-20T09:30:13.427Z"
   },
   {
    "duration": 12,
    "start_time": "2024-11-20T09:30:13.435Z"
   },
   {
    "duration": 30,
    "start_time": "2024-11-20T09:30:13.449Z"
   },
   {
    "duration": 3,
    "start_time": "2024-11-20T09:30:13.481Z"
   },
   {
    "duration": 3,
    "start_time": "2024-11-20T09:30:13.487Z"
   },
   {
    "duration": 5,
    "start_time": "2024-11-20T09:30:13.492Z"
   },
   {
    "duration": 12,
    "start_time": "2024-11-20T09:30:13.499Z"
   },
   {
    "duration": 1690,
    "start_time": "2024-11-20T09:30:13.512Z"
   },
   {
    "duration": 4,
    "start_time": "2024-11-20T09:30:15.204Z"
   },
   {
    "duration": 2,
    "start_time": "2024-11-20T09:30:15.211Z"
   },
   {
    "duration": 19,
    "start_time": "2024-11-20T09:30:15.215Z"
   },
   {
    "duration": 7,
    "start_time": "2024-11-20T09:30:15.235Z"
   },
   {
    "duration": 4,
    "start_time": "2024-11-20T09:30:15.243Z"
   },
   {
    "duration": 23,
    "start_time": "2024-11-20T09:30:15.248Z"
   },
   {
    "duration": 6,
    "start_time": "2024-11-20T09:30:15.273Z"
   },
   {
    "duration": 60770,
    "start_time": "2024-11-20T09:30:15.281Z"
   },
   {
    "duration": 2866,
    "start_time": "2024-11-20T14:51:50.248Z"
   },
   {
    "duration": 31,
    "start_time": "2024-11-20T14:51:53.116Z"
   },
   {
    "duration": 14,
    "start_time": "2024-11-20T14:51:53.149Z"
   },
   {
    "duration": 19,
    "start_time": "2024-11-20T14:51:53.164Z"
   },
   {
    "duration": 13,
    "start_time": "2024-11-20T14:51:53.186Z"
   },
   {
    "duration": 19,
    "start_time": "2024-11-20T14:51:53.201Z"
   },
   {
    "duration": 4,
    "start_time": "2024-11-20T14:51:53.222Z"
   },
   {
    "duration": 15,
    "start_time": "2024-11-20T14:51:53.227Z"
   },
   {
    "duration": 13,
    "start_time": "2024-11-20T14:51:53.244Z"
   },
   {
    "duration": 3,
    "start_time": "2024-11-20T14:51:53.259Z"
   },
   {
    "duration": 7,
    "start_time": "2024-11-20T14:51:53.264Z"
   },
   {
    "duration": 4,
    "start_time": "2024-11-20T14:51:53.273Z"
   },
   {
    "duration": 2,
    "start_time": "2024-11-20T14:51:53.279Z"
   },
   {
    "duration": 46,
    "start_time": "2024-11-20T14:51:53.285Z"
   },
   {
    "duration": 5,
    "start_time": "2024-11-20T14:51:53.333Z"
   },
   {
    "duration": 18,
    "start_time": "2024-11-20T14:51:53.339Z"
   },
   {
    "duration": 3,
    "start_time": "2024-11-20T14:51:53.359Z"
   },
   {
    "duration": 4,
    "start_time": "2024-11-20T14:51:53.364Z"
   },
   {
    "duration": 4,
    "start_time": "2024-11-20T14:51:53.370Z"
   },
   {
    "duration": 5,
    "start_time": "2024-11-20T14:51:53.376Z"
   },
   {
    "duration": 48,
    "start_time": "2024-11-20T14:51:53.383Z"
   },
   {
    "duration": 8,
    "start_time": "2024-11-20T14:51:53.433Z"
   },
   {
    "duration": 21625,
    "start_time": "2024-11-20T14:51:53.442Z"
   },
   {
    "duration": 7,
    "start_time": "2024-11-20T14:52:15.069Z"
   },
   {
    "duration": 12,
    "start_time": "2024-11-20T14:52:15.078Z"
   },
   {
    "duration": 11,
    "start_time": "2024-11-20T14:52:15.092Z"
   },
   {
    "duration": 3,
    "start_time": "2024-11-20T14:52:15.105Z"
   },
   {
    "duration": 4,
    "start_time": "2024-11-20T14:52:15.132Z"
   },
   {
    "duration": 6,
    "start_time": "2024-11-20T14:52:15.137Z"
   },
   {
    "duration": 12,
    "start_time": "2024-11-20T14:52:15.145Z"
   },
   {
    "duration": 1789,
    "start_time": "2024-11-20T14:52:15.159Z"
   },
   {
    "duration": 4,
    "start_time": "2024-11-20T14:52:16.950Z"
   },
   {
    "duration": 2,
    "start_time": "2024-11-20T14:52:16.956Z"
   },
   {
    "duration": 19,
    "start_time": "2024-11-20T14:52:16.960Z"
   },
   {
    "duration": 8,
    "start_time": "2024-11-20T14:52:16.981Z"
   },
   {
    "duration": 3,
    "start_time": "2024-11-20T14:52:16.991Z"
   },
   {
    "duration": 9,
    "start_time": "2024-11-20T14:52:16.996Z"
   },
   {
    "duration": 6,
    "start_time": "2024-11-20T14:52:17.007Z"
   },
   {
    "duration": 62526,
    "start_time": "2024-11-20T14:52:17.014Z"
   },
   {
    "duration": 6,
    "start_time": "2024-11-20T14:53:19.544Z"
   },
   {
    "duration": 8,
    "start_time": "2024-11-20T14:53:19.551Z"
   },
   {
    "duration": 4,
    "start_time": "2024-11-20T14:58:55.104Z"
   },
   {
    "duration": 13,
    "start_time": "2024-11-20T14:59:36.948Z"
   },
   {
    "duration": 2720,
    "start_time": "2024-11-20T14:59:52.691Z"
   },
   {
    "duration": 3,
    "start_time": "2024-11-20T15:15:50.536Z"
   },
   {
    "duration": 1040,
    "start_time": "2024-11-20T15:18:39.503Z"
   },
   {
    "duration": 17,
    "start_time": "2024-11-20T15:18:40.546Z"
   },
   {
    "duration": 10,
    "start_time": "2024-11-20T15:18:40.565Z"
   },
   {
    "duration": 11,
    "start_time": "2024-11-20T15:18:40.577Z"
   },
   {
    "duration": 8,
    "start_time": "2024-11-20T15:18:40.591Z"
   },
   {
    "duration": 31,
    "start_time": "2024-11-20T15:18:40.600Z"
   },
   {
    "duration": 4,
    "start_time": "2024-11-20T15:18:40.633Z"
   },
   {
    "duration": 16,
    "start_time": "2024-11-20T15:18:40.639Z"
   },
   {
    "duration": 13,
    "start_time": "2024-11-20T15:18:40.657Z"
   },
   {
    "duration": 4,
    "start_time": "2024-11-20T15:18:40.672Z"
   },
   {
    "duration": 7,
    "start_time": "2024-11-20T15:18:40.678Z"
   },
   {
    "duration": 4,
    "start_time": "2024-11-20T15:18:40.687Z"
   },
   {
    "duration": 40,
    "start_time": "2024-11-20T15:18:40.693Z"
   },
   {
    "duration": 12,
    "start_time": "2024-11-20T15:18:40.737Z"
   },
   {
    "duration": 3,
    "start_time": "2024-11-20T15:18:40.751Z"
   },
   {
    "duration": 18,
    "start_time": "2024-11-20T15:18:40.756Z"
   },
   {
    "duration": 4,
    "start_time": "2024-11-20T15:18:40.775Z"
   },
   {
    "duration": 5,
    "start_time": "2024-11-20T15:18:40.781Z"
   },
   {
    "duration": 5,
    "start_time": "2024-11-20T15:18:40.787Z"
   },
   {
    "duration": 38,
    "start_time": "2024-11-20T15:18:40.794Z"
   },
   {
    "duration": 12,
    "start_time": "2024-11-20T15:18:40.834Z"
   },
   {
    "duration": 3,
    "start_time": "2024-11-20T15:18:40.848Z"
   },
   {
    "duration": 21657,
    "start_time": "2024-11-20T15:18:40.853Z"
   },
   {
    "duration": 7,
    "start_time": "2024-11-20T15:19:02.512Z"
   },
   {
    "duration": 19,
    "start_time": "2024-11-20T15:19:02.523Z"
   },
   {
    "duration": 11,
    "start_time": "2024-11-20T15:19:02.544Z"
   },
   {
    "duration": 4,
    "start_time": "2024-11-20T15:19:02.556Z"
   },
   {
    "duration": 4,
    "start_time": "2024-11-20T15:19:02.561Z"
   },
   {
    "duration": 6,
    "start_time": "2024-11-20T15:19:02.567Z"
   },
   {
    "duration": 12,
    "start_time": "2024-11-20T15:19:02.575Z"
   },
   {
    "duration": 1746,
    "start_time": "2024-11-20T15:19:02.590Z"
   },
   {
    "duration": 5,
    "start_time": "2024-11-20T15:19:04.337Z"
   },
   {
    "duration": 3,
    "start_time": "2024-11-20T15:19:04.344Z"
   },
   {
    "duration": 19,
    "start_time": "2024-11-20T15:19:04.348Z"
   },
   {
    "duration": 7,
    "start_time": "2024-11-20T15:19:04.368Z"
   },
   {
    "duration": 3,
    "start_time": "2024-11-20T15:19:04.377Z"
   },
   {
    "duration": 3,
    "start_time": "2024-11-20T15:19:04.382Z"
   },
   {
    "duration": 6,
    "start_time": "2024-11-20T15:19:04.387Z"
   },
   {
    "duration": 38,
    "start_time": "2024-11-20T15:19:04.395Z"
   },
   {
    "duration": 69370,
    "start_time": "2024-11-20T15:19:04.435Z"
   },
   {
    "duration": 4,
    "start_time": "2024-11-20T15:23:12.043Z"
   },
   {
    "duration": 2001,
    "start_time": "2024-11-20T15:24:51.743Z"
   },
   {
    "duration": 494221,
    "start_time": "2024-11-20T15:26:23.340Z"
   },
   {
    "duration": 4345086,
    "start_time": "2024-11-20T15:40:58.112Z"
   },
   {
    "duration": 45049,
    "start_time": "2024-11-20T19:02:21.983Z"
   },
   {
    "duration": 47925,
    "start_time": "2024-11-20T19:58:31.713Z"
   },
   {
    "duration": 44919,
    "start_time": "2024-11-20T20:00:27.727Z"
   },
   {
    "duration": 9,
    "start_time": "2024-11-21T20:21:33.505Z"
   },
   {
    "duration": 166,
    "start_time": "2024-11-24T19:20:17.413Z"
   },
   {
    "duration": 2800,
    "start_time": "2024-11-24T19:26:04.559Z"
   },
   {
    "duration": 34,
    "start_time": "2024-11-24T19:26:07.361Z"
   },
   {
    "duration": 18,
    "start_time": "2024-11-24T19:26:07.397Z"
   },
   {
    "duration": 21,
    "start_time": "2024-11-24T19:26:07.416Z"
   },
   {
    "duration": 14,
    "start_time": "2024-11-24T19:26:07.439Z"
   },
   {
    "duration": 20,
    "start_time": "2024-11-24T19:26:07.455Z"
   },
   {
    "duration": 5,
    "start_time": "2024-11-24T19:26:07.476Z"
   },
   {
    "duration": 15,
    "start_time": "2024-11-24T19:26:07.483Z"
   },
   {
    "duration": 13,
    "start_time": "2024-11-24T19:26:07.499Z"
   },
   {
    "duration": 3,
    "start_time": "2024-11-24T19:26:07.514Z"
   },
   {
    "duration": 27,
    "start_time": "2024-11-24T19:26:07.519Z"
   },
   {
    "duration": 4,
    "start_time": "2024-11-24T19:26:07.547Z"
   },
   {
    "duration": 3,
    "start_time": "2024-11-24T19:26:07.553Z"
   },
   {
    "duration": 12,
    "start_time": "2024-11-24T19:26:07.560Z"
   },
   {
    "duration": 4,
    "start_time": "2024-11-24T19:26:07.573Z"
   },
   {
    "duration": 12,
    "start_time": "2024-11-24T19:26:07.579Z"
   },
   {
    "duration": 51,
    "start_time": "2024-11-24T19:26:07.593Z"
   },
   {
    "duration": 3,
    "start_time": "2024-11-24T19:26:07.646Z"
   },
   {
    "duration": 5,
    "start_time": "2024-11-24T19:26:07.651Z"
   },
   {
    "duration": 6,
    "start_time": "2024-11-24T19:26:07.657Z"
   },
   {
    "duration": 5,
    "start_time": "2024-11-24T19:26:07.666Z"
   },
   {
    "duration": 12,
    "start_time": "2024-11-24T19:26:07.672Z"
   },
   {
    "duration": 3,
    "start_time": "2024-11-24T19:26:07.685Z"
   },
   {
    "duration": 3,
    "start_time": "2024-11-24T19:26:07.690Z"
   },
   {
    "duration": 3,
    "start_time": "2024-11-24T19:26:07.695Z"
   },
   {
    "duration": 46,
    "start_time": "2024-11-24T19:26:07.700Z"
   },
   {
    "duration": 14,
    "start_time": "2024-11-24T19:26:07.748Z"
   },
   {
    "duration": 1800,
    "start_time": "2024-11-24T19:26:07.763Z"
   },
   {
    "duration": 5,
    "start_time": "2024-11-24T19:26:09.565Z"
   },
   {
    "duration": 4,
    "start_time": "2024-11-24T19:26:09.571Z"
   },
   {
    "duration": 19,
    "start_time": "2024-11-24T19:26:09.577Z"
   },
   {
    "duration": 7,
    "start_time": "2024-11-24T19:26:09.598Z"
   },
   {
    "duration": 3,
    "start_time": "2024-11-24T19:26:09.606Z"
   },
   {
    "duration": 3,
    "start_time": "2024-11-24T19:26:09.611Z"
   },
   {
    "duration": 6,
    "start_time": "2024-11-24T19:26:09.615Z"
   },
   {
    "duration": 20,
    "start_time": "2024-11-24T19:26:09.623Z"
   },
   {
    "duration": 2,
    "start_time": "2024-11-24T19:26:09.645Z"
   },
   {
    "duration": 2,
    "start_time": "2024-11-24T19:26:09.649Z"
   },
   {
    "duration": 2,
    "start_time": "2024-11-24T19:26:09.653Z"
   },
   {
    "duration": 5,
    "start_time": "2024-11-24T19:26:09.657Z"
   },
   {
    "duration": 3749,
    "start_time": "2024-11-24T19:26:09.666Z"
   },
   {
    "duration": 0,
    "start_time": "2024-11-24T19:26:13.417Z"
   },
   {
    "duration": 0,
    "start_time": "2024-11-24T19:26:13.418Z"
   },
   {
    "duration": 11,
    "start_time": "2024-11-24T19:30:05.257Z"
   },
   {
    "duration": 7,
    "start_time": "2024-11-24T19:30:44.351Z"
   },
   {
    "duration": 11,
    "start_time": "2024-11-24T19:30:45.065Z"
   },
   {
    "duration": 12,
    "start_time": "2024-11-24T19:30:49.573Z"
   },
   {
    "duration": 845,
    "start_time": "2024-11-24T19:30:57.629Z"
   },
   {
    "duration": 1673,
    "start_time": "2024-11-24T19:30:58.623Z"
   },
   {
    "duration": 1018,
    "start_time": "2024-11-24T19:31:31.795Z"
   },
   {
    "duration": 15,
    "start_time": "2024-11-24T19:31:32.814Z"
   },
   {
    "duration": 13,
    "start_time": "2024-11-24T19:31:32.830Z"
   },
   {
    "duration": 9,
    "start_time": "2024-11-24T19:31:32.844Z"
   },
   {
    "duration": 6,
    "start_time": "2024-11-24T19:31:32.856Z"
   },
   {
    "duration": 17,
    "start_time": "2024-11-24T19:31:32.864Z"
   },
   {
    "duration": 4,
    "start_time": "2024-11-24T19:31:32.883Z"
   },
   {
    "duration": 16,
    "start_time": "2024-11-24T19:31:32.889Z"
   },
   {
    "duration": 38,
    "start_time": "2024-11-24T19:31:32.907Z"
   },
   {
    "duration": 4,
    "start_time": "2024-11-24T19:31:32.946Z"
   },
   {
    "duration": 8,
    "start_time": "2024-11-24T19:31:32.951Z"
   },
   {
    "duration": 5,
    "start_time": "2024-11-24T19:31:32.961Z"
   },
   {
    "duration": 3,
    "start_time": "2024-11-24T19:31:32.968Z"
   },
   {
    "duration": 14,
    "start_time": "2024-11-24T19:31:32.976Z"
   },
   {
    "duration": 3,
    "start_time": "2024-11-24T19:31:32.992Z"
   },
   {
    "duration": 48,
    "start_time": "2024-11-24T19:31:32.997Z"
   },
   {
    "duration": 22,
    "start_time": "2024-11-24T19:31:33.046Z"
   },
   {
    "duration": 3,
    "start_time": "2024-11-24T19:31:33.070Z"
   },
   {
    "duration": 7,
    "start_time": "2024-11-24T19:31:33.075Z"
   },
   {
    "duration": 5,
    "start_time": "2024-11-24T19:31:33.083Z"
   },
   {
    "duration": 5,
    "start_time": "2024-11-24T19:31:33.090Z"
   },
   {
    "duration": 11,
    "start_time": "2024-11-24T19:31:33.096Z"
   },
   {
    "duration": 34,
    "start_time": "2024-11-24T19:31:33.109Z"
   },
   {
    "duration": 3,
    "start_time": "2024-11-24T19:31:33.145Z"
   },
   {
    "duration": 3,
    "start_time": "2024-11-24T19:31:33.150Z"
   },
   {
    "duration": 5,
    "start_time": "2024-11-24T19:31:33.155Z"
   },
   {
    "duration": 12,
    "start_time": "2024-11-24T19:31:33.162Z"
   },
   {
    "duration": 1734,
    "start_time": "2024-11-24T19:31:33.175Z"
   },
   {
    "duration": 4,
    "start_time": "2024-11-24T19:31:34.911Z"
   },
   {
    "duration": 3,
    "start_time": "2024-11-24T19:31:34.917Z"
   },
   {
    "duration": 20,
    "start_time": "2024-11-24T19:31:34.921Z"
   },
   {
    "duration": 7,
    "start_time": "2024-11-24T19:31:34.942Z"
   },
   {
    "duration": 4,
    "start_time": "2024-11-24T19:31:34.950Z"
   },
   {
    "duration": 3,
    "start_time": "2024-11-24T19:31:34.956Z"
   },
   {
    "duration": 7,
    "start_time": "2024-11-24T19:31:34.960Z"
   },
   {
    "duration": 2,
    "start_time": "2024-11-24T19:31:34.969Z"
   },
   {
    "duration": 6,
    "start_time": "2024-11-24T19:31:34.973Z"
   },
   {
    "duration": 12,
    "start_time": "2024-11-24T19:31:34.981Z"
   },
   {
    "duration": 52,
    "start_time": "2024-11-24T19:31:34.995Z"
   },
   {
    "duration": 4,
    "start_time": "2024-11-24T19:31:35.049Z"
   },
   {
    "duration": 3756,
    "start_time": "2024-11-24T19:31:35.058Z"
   },
   {
    "duration": 0,
    "start_time": "2024-11-24T19:31:38.817Z"
   },
   {
    "duration": 0,
    "start_time": "2024-11-24T19:31:38.818Z"
   },
   {
    "duration": 4,
    "start_time": "2024-11-24T19:32:31.450Z"
   },
   {
    "duration": 1059,
    "start_time": "2024-11-24T19:32:39.356Z"
   },
   {
    "duration": 14,
    "start_time": "2024-11-24T19:32:40.417Z"
   },
   {
    "duration": 17,
    "start_time": "2024-11-24T19:32:40.433Z"
   },
   {
    "duration": 9,
    "start_time": "2024-11-24T19:32:40.452Z"
   },
   {
    "duration": 7,
    "start_time": "2024-11-24T19:32:40.463Z"
   },
   {
    "duration": 23,
    "start_time": "2024-11-24T19:32:40.471Z"
   },
   {
    "duration": 9,
    "start_time": "2024-11-24T19:32:40.501Z"
   },
   {
    "duration": 32,
    "start_time": "2024-11-24T19:32:40.512Z"
   },
   {
    "duration": 15,
    "start_time": "2024-11-24T19:32:40.546Z"
   },
   {
    "duration": 3,
    "start_time": "2024-11-24T19:32:40.565Z"
   },
   {
    "duration": 8,
    "start_time": "2024-11-24T19:32:40.570Z"
   },
   {
    "duration": 4,
    "start_time": "2024-11-24T19:32:40.580Z"
   },
   {
    "duration": 3,
    "start_time": "2024-11-24T19:32:40.586Z"
   },
   {
    "duration": 12,
    "start_time": "2024-11-24T19:32:40.590Z"
   },
   {
    "duration": 39,
    "start_time": "2024-11-24T19:32:40.604Z"
   },
   {
    "duration": 12,
    "start_time": "2024-11-24T19:32:40.646Z"
   },
   {
    "duration": 17,
    "start_time": "2024-11-24T19:32:40.660Z"
   },
   {
    "duration": 3,
    "start_time": "2024-11-24T19:32:40.679Z"
   },
   {
    "duration": 5,
    "start_time": "2024-11-24T19:32:40.683Z"
   },
   {
    "duration": 5,
    "start_time": "2024-11-24T19:32:40.690Z"
   },
   {
    "duration": 5,
    "start_time": "2024-11-24T19:32:40.696Z"
   },
   {
    "duration": 50,
    "start_time": "2024-11-24T19:32:40.703Z"
   },
   {
    "duration": 4,
    "start_time": "2024-11-24T19:32:40.755Z"
   },
   {
    "duration": 4,
    "start_time": "2024-11-24T19:32:40.761Z"
   },
   {
    "duration": 4,
    "start_time": "2024-11-24T19:32:40.767Z"
   },
   {
    "duration": 7,
    "start_time": "2024-11-24T19:32:40.773Z"
   },
   {
    "duration": 14,
    "start_time": "2024-11-24T19:32:40.781Z"
   },
   {
    "duration": 1767,
    "start_time": "2024-11-24T19:32:40.800Z"
   },
   {
    "duration": 5,
    "start_time": "2024-11-24T19:32:42.569Z"
   },
   {
    "duration": 3,
    "start_time": "2024-11-24T19:32:42.576Z"
   },
   {
    "duration": 20,
    "start_time": "2024-11-24T19:32:42.580Z"
   },
   {
    "duration": 8,
    "start_time": "2024-11-24T19:32:42.601Z"
   },
   {
    "duration": 4,
    "start_time": "2024-11-24T19:32:42.611Z"
   },
   {
    "duration": 2,
    "start_time": "2024-11-24T19:32:42.616Z"
   },
   {
    "duration": 7,
    "start_time": "2024-11-24T19:32:42.643Z"
   },
   {
    "duration": 3,
    "start_time": "2024-11-24T19:32:42.651Z"
   },
   {
    "duration": 7,
    "start_time": "2024-11-24T19:32:42.656Z"
   },
   {
    "duration": 10,
    "start_time": "2024-11-24T19:32:42.664Z"
   },
   {
    "duration": 11,
    "start_time": "2024-11-24T19:32:42.675Z"
   },
   {
    "duration": 5,
    "start_time": "2024-11-24T19:32:42.687Z"
   },
   {
    "duration": 3862,
    "start_time": "2024-11-24T19:32:42.693Z"
   },
   {
    "duration": 0,
    "start_time": "2024-11-24T19:32:46.558Z"
   },
   {
    "duration": 0,
    "start_time": "2024-11-24T19:32:46.559Z"
   },
   {
    "duration": 15,
    "start_time": "2024-11-24T21:02:46.956Z"
   },
   {
    "duration": 24,
    "start_time": "2024-11-24T21:03:03.836Z"
   },
   {
    "duration": 1010,
    "start_time": "2024-11-24T21:03:27.611Z"
   },
   {
    "duration": 16,
    "start_time": "2024-11-24T21:03:28.624Z"
   },
   {
    "duration": 9,
    "start_time": "2024-11-24T21:03:28.642Z"
   },
   {
    "duration": 10,
    "start_time": "2024-11-24T21:03:28.652Z"
   },
   {
    "duration": 8,
    "start_time": "2024-11-24T21:03:28.665Z"
   },
   {
    "duration": 19,
    "start_time": "2024-11-24T21:03:28.674Z"
   },
   {
    "duration": 4,
    "start_time": "2024-11-24T21:03:28.694Z"
   },
   {
    "duration": 15,
    "start_time": "2024-11-24T21:03:28.701Z"
   },
   {
    "duration": 13,
    "start_time": "2024-11-24T21:03:28.743Z"
   },
   {
    "duration": 4,
    "start_time": "2024-11-24T21:03:28.757Z"
   },
   {
    "duration": 7,
    "start_time": "2024-11-24T21:03:28.762Z"
   },
   {
    "duration": 4,
    "start_time": "2024-11-24T21:03:28.771Z"
   },
   {
    "duration": 3,
    "start_time": "2024-11-24T21:03:28.776Z"
   },
   {
    "duration": 12,
    "start_time": "2024-11-24T21:03:28.784Z"
   },
   {
    "duration": 4,
    "start_time": "2024-11-24T21:03:28.798Z"
   },
   {
    "duration": 47,
    "start_time": "2024-11-24T21:03:28.803Z"
   },
   {
    "duration": 20,
    "start_time": "2024-11-24T21:03:28.851Z"
   },
   {
    "duration": 2,
    "start_time": "2024-11-24T21:03:28.873Z"
   },
   {
    "duration": 7,
    "start_time": "2024-11-24T21:03:28.877Z"
   },
   {
    "duration": 5,
    "start_time": "2024-11-24T21:03:28.885Z"
   },
   {
    "duration": 5,
    "start_time": "2024-11-24T21:03:28.892Z"
   },
   {
    "duration": 49,
    "start_time": "2024-11-24T21:03:28.898Z"
   },
   {
    "duration": 3,
    "start_time": "2024-11-24T21:03:28.948Z"
   },
   {
    "duration": 4,
    "start_time": "2024-11-24T21:03:28.953Z"
   },
   {
    "duration": 4,
    "start_time": "2024-11-24T21:03:28.958Z"
   },
   {
    "duration": 5,
    "start_time": "2024-11-24T21:03:28.965Z"
   },
   {
    "duration": 13,
    "start_time": "2024-11-24T21:03:28.971Z"
   },
   {
    "duration": 1769,
    "start_time": "2024-11-24T21:03:28.986Z"
   },
   {
    "duration": 4,
    "start_time": "2024-11-24T21:03:30.757Z"
   },
   {
    "duration": 3,
    "start_time": "2024-11-24T21:03:30.763Z"
   },
   {
    "duration": 19,
    "start_time": "2024-11-24T21:03:30.768Z"
   },
   {
    "duration": 7,
    "start_time": "2024-11-24T21:03:30.788Z"
   },
   {
    "duration": 3,
    "start_time": "2024-11-24T21:03:30.796Z"
   },
   {
    "duration": 3,
    "start_time": "2024-11-24T21:03:30.801Z"
   },
   {
    "duration": 6,
    "start_time": "2024-11-24T21:03:30.806Z"
   },
   {
    "duration": 28032,
    "start_time": "2024-11-24T21:03:30.814Z"
   },
   {
    "duration": 6,
    "start_time": "2024-11-24T21:03:58.848Z"
   },
   {
    "duration": 13,
    "start_time": "2024-11-24T21:03:58.856Z"
   },
   {
    "duration": 10,
    "start_time": "2024-11-24T21:03:58.871Z"
   },
   {
    "duration": 20,
    "start_time": "2024-11-24T21:03:58.883Z"
   },
   {
    "duration": 37,
    "start_time": "2024-11-24T21:03:58.908Z"
   },
   {
    "duration": 3445,
    "start_time": "2024-11-24T21:03:58.946Z"
   },
   {
    "duration": 0,
    "start_time": "2024-11-24T21:04:02.393Z"
   },
   {
    "duration": 0,
    "start_time": "2024-11-24T21:04:02.394Z"
   },
   {
    "duration": 1492,
    "start_time": "2024-11-24T21:08:17.996Z"
   },
   {
    "duration": 43,
    "start_time": "2024-11-24T21:12:37.706Z"
   },
   {
    "duration": 3127,
    "start_time": "2024-11-24T21:13:44.847Z"
   },
   {
    "duration": 1053,
    "start_time": "2024-11-24T21:18:56.741Z"
   },
   {
    "duration": 16,
    "start_time": "2024-11-24T21:18:57.796Z"
   },
   {
    "duration": 9,
    "start_time": "2024-11-24T21:18:57.814Z"
   },
   {
    "duration": 17,
    "start_time": "2024-11-24T21:18:57.826Z"
   },
   {
    "duration": 7,
    "start_time": "2024-11-24T21:18:57.844Z"
   },
   {
    "duration": 18,
    "start_time": "2024-11-24T21:18:57.852Z"
   },
   {
    "duration": 5,
    "start_time": "2024-11-24T21:18:57.872Z"
   },
   {
    "duration": 15,
    "start_time": "2024-11-24T21:18:57.880Z"
   },
   {
    "duration": 13,
    "start_time": "2024-11-24T21:18:57.897Z"
   },
   {
    "duration": 32,
    "start_time": "2024-11-24T21:18:57.913Z"
   },
   {
    "duration": 8,
    "start_time": "2024-11-24T21:18:57.946Z"
   },
   {
    "duration": 5,
    "start_time": "2024-11-24T21:18:57.955Z"
   },
   {
    "duration": 3,
    "start_time": "2024-11-24T21:18:57.961Z"
   },
   {
    "duration": 13,
    "start_time": "2024-11-24T21:18:57.966Z"
   },
   {
    "duration": 3,
    "start_time": "2024-11-24T21:18:57.981Z"
   },
   {
    "duration": 12,
    "start_time": "2024-11-24T21:18:57.986Z"
   },
   {
    "duration": 54,
    "start_time": "2024-11-24T21:18:58.000Z"
   },
   {
    "duration": 3,
    "start_time": "2024-11-24T21:18:58.055Z"
   },
   {
    "duration": 5,
    "start_time": "2024-11-24T21:18:58.060Z"
   },
   {
    "duration": 5,
    "start_time": "2024-11-24T21:18:58.067Z"
   },
   {
    "duration": 5,
    "start_time": "2024-11-24T21:18:58.073Z"
   },
   {
    "duration": 12,
    "start_time": "2024-11-24T21:18:58.080Z"
   },
   {
    "duration": 3,
    "start_time": "2024-11-24T21:18:58.093Z"
   },
   {
    "duration": 3,
    "start_time": "2024-11-24T21:18:58.098Z"
   },
   {
    "duration": 40,
    "start_time": "2024-11-24T21:18:58.103Z"
   },
   {
    "duration": 5,
    "start_time": "2024-11-24T21:18:58.145Z"
   },
   {
    "duration": 13,
    "start_time": "2024-11-24T21:18:58.151Z"
   },
   {
    "duration": 1726,
    "start_time": "2024-11-24T21:18:58.169Z"
   },
   {
    "duration": 4,
    "start_time": "2024-11-24T21:18:59.897Z"
   },
   {
    "duration": 2,
    "start_time": "2024-11-24T21:18:59.903Z"
   },
   {
    "duration": 19,
    "start_time": "2024-11-24T21:18:59.907Z"
   },
   {
    "duration": 19,
    "start_time": "2024-11-24T21:18:59.927Z"
   },
   {
    "duration": 3,
    "start_time": "2024-11-24T21:18:59.948Z"
   },
   {
    "duration": 3,
    "start_time": "2024-11-24T21:18:59.953Z"
   },
   {
    "duration": 6,
    "start_time": "2024-11-24T21:18:59.959Z"
   },
   {
    "duration": 20099,
    "start_time": "2024-11-24T21:18:59.966Z"
   },
   {
    "duration": 7,
    "start_time": "2024-11-24T21:19:20.067Z"
   },
   {
    "duration": 11,
    "start_time": "2024-11-24T21:19:20.075Z"
   },
   {
    "duration": 9,
    "start_time": "2024-11-24T21:19:20.088Z"
   },
   {
    "duration": 49,
    "start_time": "2024-11-24T21:19:20.099Z"
   },
   {
    "duration": 5,
    "start_time": "2024-11-24T21:19:20.150Z"
   },
   {
    "duration": 3608,
    "start_time": "2024-11-24T21:19:20.157Z"
   },
   {
    "duration": 0,
    "start_time": "2024-11-24T21:19:23.768Z"
   },
   {
    "duration": 0,
    "start_time": "2024-11-24T21:19:23.769Z"
   },
   {
    "duration": 1058,
    "start_time": "2024-11-24T21:21:45.453Z"
   },
   {
    "duration": 14,
    "start_time": "2024-11-24T21:21:46.513Z"
   },
   {
    "duration": 16,
    "start_time": "2024-11-24T21:21:46.529Z"
   },
   {
    "duration": 9,
    "start_time": "2024-11-24T21:21:46.547Z"
   },
   {
    "duration": 6,
    "start_time": "2024-11-24T21:21:46.557Z"
   },
   {
    "duration": 18,
    "start_time": "2024-11-24T21:21:46.565Z"
   },
   {
    "duration": 5,
    "start_time": "2024-11-24T21:21:46.585Z"
   },
   {
    "duration": 16,
    "start_time": "2024-11-24T21:21:46.592Z"
   },
   {
    "duration": 40,
    "start_time": "2024-11-24T21:21:46.609Z"
   },
   {
    "duration": 3,
    "start_time": "2024-11-24T21:21:46.651Z"
   },
   {
    "duration": 9,
    "start_time": "2024-11-24T21:21:46.656Z"
   },
   {
    "duration": 5,
    "start_time": "2024-11-24T21:21:46.666Z"
   },
   {
    "duration": 4,
    "start_time": "2024-11-24T21:21:46.672Z"
   },
   {
    "duration": 13,
    "start_time": "2024-11-24T21:21:46.677Z"
   },
   {
    "duration": 4,
    "start_time": "2024-11-24T21:21:46.692Z"
   },
   {
    "duration": 11,
    "start_time": "2024-11-24T21:21:46.698Z"
   },
   {
    "duration": 48,
    "start_time": "2024-11-24T21:21:46.710Z"
   },
   {
    "duration": 3,
    "start_time": "2024-11-24T21:21:46.760Z"
   },
   {
    "duration": 5,
    "start_time": "2024-11-24T21:21:46.765Z"
   },
   {
    "duration": 5,
    "start_time": "2024-11-24T21:21:46.771Z"
   },
   {
    "duration": 5,
    "start_time": "2024-11-24T21:21:46.778Z"
   },
   {
    "duration": 13,
    "start_time": "2024-11-24T21:21:46.784Z"
   },
   {
    "duration": 3,
    "start_time": "2024-11-24T21:21:46.798Z"
   },
   {
    "duration": 4,
    "start_time": "2024-11-24T21:21:46.845Z"
   },
   {
    "duration": 5,
    "start_time": "2024-11-24T21:21:46.851Z"
   },
   {
    "duration": 5,
    "start_time": "2024-11-24T21:21:46.860Z"
   },
   {
    "duration": 12,
    "start_time": "2024-11-24T21:21:46.867Z"
   },
   {
    "duration": 1680,
    "start_time": "2024-11-24T21:21:46.883Z"
   },
   {
    "duration": 5,
    "start_time": "2024-11-24T21:21:48.565Z"
   },
   {
    "duration": 31,
    "start_time": "2024-11-24T21:21:48.571Z"
   },
   {
    "duration": 19,
    "start_time": "2024-11-24T21:21:48.603Z"
   },
   {
    "duration": 6,
    "start_time": "2024-11-24T21:21:48.624Z"
   },
   {
    "duration": 3,
    "start_time": "2024-11-24T21:21:48.632Z"
   },
   {
    "duration": 2,
    "start_time": "2024-11-24T21:21:48.637Z"
   },
   {
    "duration": 7,
    "start_time": "2024-11-24T21:21:48.641Z"
   },
   {
    "duration": 20097,
    "start_time": "2024-11-24T21:21:48.649Z"
   },
   {
    "duration": 11,
    "start_time": "2024-11-24T21:22:08.748Z"
   },
   {
    "duration": 10,
    "start_time": "2024-11-24T21:22:08.760Z"
   },
   {
    "duration": 10,
    "start_time": "2024-11-24T21:22:08.771Z"
   },
   {
    "duration": 24,
    "start_time": "2024-11-24T21:22:08.783Z"
   },
   {
    "duration": 36,
    "start_time": "2024-11-24T21:22:08.809Z"
   },
   {
    "duration": 3566,
    "start_time": "2024-11-24T21:22:08.847Z"
   },
   {
    "duration": 0,
    "start_time": "2024-11-24T21:22:12.415Z"
   },
   {
    "duration": 0,
    "start_time": "2024-11-24T21:22:12.416Z"
   },
   {
    "duration": 21,
    "start_time": "2024-11-24T21:23:31.772Z"
   },
   {
    "duration": 6,
    "start_time": "2024-11-24T21:23:36.562Z"
   },
   {
    "duration": 10,
    "start_time": "2024-11-24T21:24:04.171Z"
   },
   {
    "duration": 771,
    "start_time": "2024-11-24T21:25:05.708Z"
   },
   {
    "duration": 34,
    "start_time": "2024-11-24T21:25:13.413Z"
   },
   {
    "duration": 35,
    "start_time": "2024-11-24T21:25:19.755Z"
   },
   {
    "duration": 1007,
    "start_time": "2024-11-24T21:25:31.809Z"
   },
   {
    "duration": 15,
    "start_time": "2024-11-24T21:25:32.818Z"
   },
   {
    "duration": 9,
    "start_time": "2024-11-24T21:25:32.834Z"
   },
   {
    "duration": 10,
    "start_time": "2024-11-24T21:25:32.844Z"
   },
   {
    "duration": 6,
    "start_time": "2024-11-24T21:25:32.857Z"
   },
   {
    "duration": 18,
    "start_time": "2024-11-24T21:25:32.864Z"
   },
   {
    "duration": 5,
    "start_time": "2024-11-24T21:25:32.883Z"
   },
   {
    "duration": 17,
    "start_time": "2024-11-24T21:25:32.889Z"
   },
   {
    "duration": 41,
    "start_time": "2024-11-24T21:25:32.908Z"
   },
   {
    "duration": 3,
    "start_time": "2024-11-24T21:25:32.950Z"
   },
   {
    "duration": 12,
    "start_time": "2024-11-24T21:25:32.955Z"
   },
   {
    "duration": 7,
    "start_time": "2024-11-24T21:25:32.969Z"
   },
   {
    "duration": 3,
    "start_time": "2024-11-24T21:25:32.978Z"
   },
   {
    "duration": 13,
    "start_time": "2024-11-24T21:25:32.985Z"
   },
   {
    "duration": 4,
    "start_time": "2024-11-24T21:25:32.999Z"
   },
   {
    "duration": 45,
    "start_time": "2024-11-24T21:25:33.005Z"
   },
   {
    "duration": 18,
    "start_time": "2024-11-24T21:25:33.052Z"
   },
   {
    "duration": 3,
    "start_time": "2024-11-24T21:25:33.071Z"
   },
   {
    "duration": 5,
    "start_time": "2024-11-24T21:25:33.077Z"
   },
   {
    "duration": 5,
    "start_time": "2024-11-24T21:25:33.084Z"
   },
   {
    "duration": 5,
    "start_time": "2024-11-24T21:25:33.090Z"
   },
   {
    "duration": 45,
    "start_time": "2024-11-24T21:25:33.097Z"
   },
   {
    "duration": 3,
    "start_time": "2024-11-24T21:25:33.144Z"
   },
   {
    "duration": 3,
    "start_time": "2024-11-24T21:25:33.149Z"
   },
   {
    "duration": 3,
    "start_time": "2024-11-24T21:25:33.154Z"
   },
   {
    "duration": 5,
    "start_time": "2024-11-24T21:25:33.159Z"
   },
   {
    "duration": 13,
    "start_time": "2024-11-24T21:25:33.166Z"
   },
   {
    "duration": 1726,
    "start_time": "2024-11-24T21:25:33.181Z"
   },
   {
    "duration": 4,
    "start_time": "2024-11-24T21:25:34.909Z"
   },
   {
    "duration": 3,
    "start_time": "2024-11-24T21:25:34.915Z"
   },
   {
    "duration": 24,
    "start_time": "2024-11-24T21:25:34.920Z"
   },
   {
    "duration": 6,
    "start_time": "2024-11-24T21:25:34.946Z"
   },
   {
    "duration": 3,
    "start_time": "2024-11-24T21:25:34.954Z"
   },
   {
    "duration": 2,
    "start_time": "2024-11-24T21:25:34.959Z"
   },
   {
    "duration": 7,
    "start_time": "2024-11-24T21:25:34.963Z"
   },
   {
    "duration": 20091,
    "start_time": "2024-11-24T21:25:34.971Z"
   },
   {
    "duration": 9,
    "start_time": "2024-11-24T21:25:55.064Z"
   },
   {
    "duration": 10,
    "start_time": "2024-11-24T21:25:55.074Z"
   },
   {
    "duration": 11,
    "start_time": "2024-11-24T21:25:55.085Z"
   },
   {
    "duration": 5,
    "start_time": "2024-11-24T21:25:55.097Z"
   },
   {
    "duration": 36,
    "start_time": "2024-11-24T21:25:55.107Z"
   },
   {
    "duration": 69552,
    "start_time": "2024-11-24T21:25:55.144Z"
   },
   {
    "duration": 0,
    "start_time": "2024-11-24T21:27:04.698Z"
   },
   {
    "duration": 0,
    "start_time": "2024-11-24T21:27:04.699Z"
   },
   {
    "duration": 10,
    "start_time": "2024-11-24T21:29:28.797Z"
   },
   {
    "duration": 10,
    "start_time": "2024-11-24T21:29:52.472Z"
   },
   {
    "duration": 779,
    "start_time": "2024-11-24T21:30:47.459Z"
   },
   {
    "duration": 36,
    "start_time": "2024-11-24T21:30:50.797Z"
   },
   {
    "duration": 6,
    "start_time": "2024-11-24T21:31:09.538Z"
   },
   {
    "duration": 1043,
    "start_time": "2024-11-24T21:31:20.673Z"
   },
   {
    "duration": 14,
    "start_time": "2024-11-24T21:31:21.719Z"
   },
   {
    "duration": 13,
    "start_time": "2024-11-24T21:31:21.735Z"
   },
   {
    "duration": 9,
    "start_time": "2024-11-24T21:31:21.751Z"
   },
   {
    "duration": 6,
    "start_time": "2024-11-24T21:31:21.762Z"
   },
   {
    "duration": 19,
    "start_time": "2024-11-24T21:31:21.769Z"
   },
   {
    "duration": 5,
    "start_time": "2024-11-24T21:31:21.789Z"
   },
   {
    "duration": 16,
    "start_time": "2024-11-24T21:31:21.795Z"
   },
   {
    "duration": 40,
    "start_time": "2024-11-24T21:31:21.813Z"
   },
   {
    "duration": 4,
    "start_time": "2024-11-24T21:31:21.858Z"
   },
   {
    "duration": 7,
    "start_time": "2024-11-24T21:31:21.864Z"
   },
   {
    "duration": 4,
    "start_time": "2024-11-24T21:31:21.873Z"
   },
   {
    "duration": 3,
    "start_time": "2024-11-24T21:31:21.879Z"
   },
   {
    "duration": 12,
    "start_time": "2024-11-24T21:31:21.884Z"
   },
   {
    "duration": 4,
    "start_time": "2024-11-24T21:31:21.897Z"
   },
   {
    "duration": 43,
    "start_time": "2024-11-24T21:31:21.902Z"
   },
   {
    "duration": 19,
    "start_time": "2024-11-24T21:31:21.947Z"
   },
   {
    "duration": 3,
    "start_time": "2024-11-24T21:31:21.967Z"
   },
   {
    "duration": 5,
    "start_time": "2024-11-24T21:31:21.971Z"
   },
   {
    "duration": 5,
    "start_time": "2024-11-24T21:31:21.977Z"
   },
   {
    "duration": 5,
    "start_time": "2024-11-24T21:31:21.984Z"
   },
   {
    "duration": 10,
    "start_time": "2024-11-24T21:31:21.991Z"
   },
   {
    "duration": 2,
    "start_time": "2024-11-24T21:31:22.043Z"
   },
   {
    "duration": 4,
    "start_time": "2024-11-24T21:31:22.047Z"
   },
   {
    "duration": 4,
    "start_time": "2024-11-24T21:31:22.053Z"
   },
   {
    "duration": 6,
    "start_time": "2024-11-24T21:31:22.058Z"
   },
   {
    "duration": 14,
    "start_time": "2024-11-24T21:31:22.065Z"
   },
   {
    "duration": 1736,
    "start_time": "2024-11-24T21:31:22.083Z"
   },
   {
    "duration": 4,
    "start_time": "2024-11-24T21:31:23.821Z"
   },
   {
    "duration": 3,
    "start_time": "2024-11-24T21:31:23.827Z"
   },
   {
    "duration": 19,
    "start_time": "2024-11-24T21:31:23.832Z"
   },
   {
    "duration": 8,
    "start_time": "2024-11-24T21:31:23.852Z"
   },
   {
    "duration": 3,
    "start_time": "2024-11-24T21:31:23.862Z"
   },
   {
    "duration": 3,
    "start_time": "2024-11-24T21:31:23.866Z"
   },
   {
    "duration": 6,
    "start_time": "2024-11-24T21:31:23.872Z"
   },
   {
    "duration": 20623,
    "start_time": "2024-11-24T21:31:23.879Z"
   },
   {
    "duration": 11,
    "start_time": "2024-11-24T21:31:44.505Z"
   },
   {
    "duration": 26,
    "start_time": "2024-11-24T21:31:44.518Z"
   },
   {
    "duration": 14,
    "start_time": "2024-11-24T21:31:44.546Z"
   },
   {
    "duration": 17,
    "start_time": "2024-11-24T21:31:44.562Z"
   },
   {
    "duration": 3,
    "start_time": "2024-11-24T21:31:44.580Z"
   },
   {
    "duration": 5,
    "start_time": "2024-11-24T21:31:44.585Z"
   },
   {
    "duration": 5,
    "start_time": "2024-11-24T21:31:44.594Z"
   },
   {
    "duration": 74178,
    "start_time": "2024-11-24T21:31:44.601Z"
   },
   {
    "duration": 4280947,
    "start_time": "2024-11-24T21:32:58.781Z"
   },
   {
    "duration": 46919,
    "start_time": "2024-11-24T22:44:19.729Z"
   }
  ],
  "kernelspec": {
   "display_name": "Python 3 (ipykernel)",
   "language": "python",
   "name": "python3"
  },
  "language_info": {
   "codemirror_mode": {
    "name": "ipython",
    "version": 3
   },
   "file_extension": ".py",
   "mimetype": "text/x-python",
   "name": "python",
   "nbconvert_exporter": "python",
   "pygments_lexer": "ipython3",
   "version": "3.9.19"
  },
  "toc": {
   "base_numbering": 1,
   "nav_menu": {},
   "number_sections": true,
   "sideBar": true,
   "skip_h1_title": true,
   "title_cell": "Table of Contents",
   "title_sidebar": "Contents",
   "toc_cell": false,
   "toc_position": {},
   "toc_section_display": true,
   "toc_window_display": false
  }
 },
 "nbformat": 4,
 "nbformat_minor": 2
}
